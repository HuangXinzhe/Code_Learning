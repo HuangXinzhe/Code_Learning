{
 "cells": [
  {
   "cell_type": "markdown",
   "metadata": {},
   "source": [
    "### 1. 根据父亲的身高和目前的身高来预测孩子的身高\n",
    "\n",
    "孩子的身高 = （父亲的身高+目前的身高）*0.54\n",
    "\n",
    "用input（）方法获取父亲的身高和目前的身高，并自动计算出孩子的身高\n"
   ]
  },
  {
   "cell_type": "code",
   "execution_count": 1,
   "metadata": {},
   "outputs": [
    {
     "name": "stdout",
     "output_type": "stream",
     "text": [
      "请输入您父亲的身高：169\n",
      "请输入您母亲的身高：169\n",
      "182.52\n"
     ]
    }
   ],
   "source": [
    "\"\"\"\n",
    "根据父母的身高推断孩子的身高\n",
    "孩子的身高 = (父亲的身高 + 母亲的身高) * 0.54\n",
    "\"\"\"\n",
    "\n",
    "# eval() 函数用来执行一个字符串表达式，并返回表达式的值。\n",
    "father_height = eval(input(\"请输入您父亲的身高：\"))\n",
    "mather_height = eval(input(\"请输入您母亲的身高：\"))\n",
    "\n",
    "child_height = (father_height + mather_height) * 0.54\n",
    "print (child_height)  # 输出孩子的身高"
   ]
  },
  {
   "cell_type": "markdown",
   "metadata": {},
   "source": [
    "### 2. 计算器的开发\n",
    "一个简单的计算机实现，要求用户分别输入第一个数字、运算符号以及第二个数字，你需要返回计算的结果。 在程序中，你需要支持以下几个操作符号, 加减乘除，指数(**)"
   ]
  },
  {
   "cell_type": "code",
   "execution_count": 1,
   "metadata": {},
   "outputs": [
    {
     "name": "stdout",
     "output_type": "stream",
     "text": [
      "请输入第一个数字:4\n",
      "请输入操作符号:**\n",
      "请输入第二个数字2\n",
      "计算结果是：16\n"
     ]
    }
   ],
   "source": [
    "## 简单计算器的实现\n",
    "number1 = eval(input(\"请输入第一个数字:\"))\n",
    "operator = input(\"请输入操作符号:\")\n",
    "number2 = eval(input(\"请输入第二个数字\"))\n",
    "\n",
    "## if..else control flow.. \n",
    "## write down your code here..\n",
    "\n",
    "if operator == \"+\":\n",
    "    result = number1 + number2\n",
    "elif operator == \"-\":\n",
    "    result = number1 - number2\n",
    "elif operator == \"*\":\n",
    "    result = number1 * number2\n",
    "elif operator == \"/\":\n",
    "    result = number1 / number2\n",
    "elif operator == \"**\":\n",
    "    result = number1 ** number2\n",
    "else:\n",
    "    result = \"暂不支持此项运算\"    \n",
    "\n",
    "print(\"计算结果是：\" + str(result))"
   ]
  },
  {
   "cell_type": "markdown",
   "metadata": {},
   "source": [
    "### 3. two sum problem\n",
    "Given an array of integers nums and an integer target，check whether there exist two numbers in the list sum to target. \n",
    "\n",
    "i.e., nums = [1,3,6,2], target = 7.  because 1+6=7, then print True\n",
    "\n",
    "i.e., nums = [6,1,9,2], target=12, it does not exists, then print False\n",
    "\n",
    "i.e., nums = [1,2,5,2], target=6, print True "
   ]
  },
  {
   "cell_type": "code",
   "execution_count": 2,
   "metadata": {},
   "outputs": [
    {
     "name": "stdout",
     "output_type": "stream",
     "text": [
      "True\n",
      "False\n",
      "True\n"
     ]
    }
   ],
   "source": [
    "def two_sum(nums, target):\n",
    "    \"\"\"\n",
    "    if there are two numbers in the list sum to target, then return True\n",
    "    else return False.\n",
    "    \n",
    "    Try to solve the problem in a faster way. \n",
    "    \"\"\"\n",
    "    \n",
    "    # 方法一：设置两个下标，一个从左到右遍历，一个从右到左遍历，当两个下标相同时停止遍历\n",
    "#     nums.sort()\n",
    "#     i = 0\n",
    "#     j = len(nums)-1\n",
    "#     while i != j:\n",
    "#         if nums[i] + nums[j] == target:\n",
    "#             return True\n",
    "#         elif nums[i] + nums[j] < target:\n",
    "#             i = i + 1\n",
    "#         elif nums[i] + nums[j] > target:\n",
    "#             j = j - 1\n",
    "        \n",
    "#     return False\n",
    "\n",
    "# 方法二：遍历列表元素，查看当前遍历元素与目标元素的差值是否在列表中\n",
    "    for i in range(len(nums)): \n",
    "        cha = target - nums[0]\n",
    "        del nums[0]\n",
    "        if cha in set(nums):\n",
    "            return True        \n",
    "        if len(nums) == 1:\n",
    "            return False\n",
    "        \n",
    "print (two_sum([1,3,6,2], 7))\n",
    "print (two_sum([6,1,9,2],12))\n",
    "print (two_sum([1,2,5,2],6))"
   ]
  },
  {
   "cell_type": "markdown",
   "metadata": {},
   "source": [
    "### 4. palindrome number\n",
    "An integer is a palindrome when it reads the same backward as forward. For example, 121 is palindrome while 123 is not.\n",
    "\n",
    "i.e., 35453, return True;\n",
    "\n",
    "i.e., 87978, return True\n",
    "\n",
    "i.e., 1451, return False"
   ]
  },
  {
   "cell_type": "code",
   "execution_count": 3,
   "metadata": {},
   "outputs": [
    {
     "name": "stdout",
     "output_type": "stream",
     "text": [
      "True\n",
      "True\n",
      "False\n"
     ]
    }
   ],
   "source": [
    "def ispalindrome(num):\n",
    "    \"\"\"\n",
    "    if yes, return True\n",
    "    otherwise, return False\n",
    "    \"\"\"\n",
    "    # 方法一：取数字个位开始直到最高，反向拼接形成反序数字，判断是否为回文数\n",
    "#     if num < 0 or (num % 10 == 0 and num !=0 ):\n",
    "#         return False\n",
    "#     r = 0\n",
    "#     while num > r:\n",
    "#         r = r*10 + num%10\n",
    "#         num = num//10\n",
    "#     return num == r or num == r//10\n",
    "\n",
    "    # 方法二：取数字一般的坐标遍历两个半边，逐个判断对应位置是否相同\n",
    "    num = str(num) #把int转成str\n",
    "    mid = int(len(num)/2) #向下取整\n",
    "    for i in range(mid):\n",
    "        if num[i] != num[-(i+1)]:\n",
    "            return False\n",
    "    return True\n",
    "    \n",
    "print (ispalindrome(35453))\n",
    "print (ispalindrome(87978))\n",
    "print (ispalindrome(1451))"
   ]
  },
  {
   "cell_type": "markdown",
   "metadata": {},
   "source": [
    "### 5. 3*3棋盘数据是否valid\n",
    "相信很多人小时候多玩过这个游戏，在3*3的面板上放1-9数字，使得每一行、每一列、每个对角线之和均相等。下面我们写一段程序来验证是否一个面板上的数字符合如上的要求。 举个例子\n",
    "\n",
    "i.e., board = [[1,2,3],[4,5,6], [7,8,9]]  明显不符合条件，所以返回False"
   ]
  },
  {
   "cell_type": "code",
   "execution_count": 4,
   "metadata": {},
   "outputs": [
    {
     "name": "stdout",
     "output_type": "stream",
     "text": [
      "False\n"
     ]
    }
   ],
   "source": [
    "def is_valid(board):\n",
    "    \"\"\"\n",
    "    board为list of list\n",
    "    如果每一行、每一列、每个对角线之和均相等，则返回True，否则返回False\n",
    "    \"\"\"\n",
    "    # 方法一：方法很低效，无法扩展\n",
    "#     l1 = board[0][0] + board[0][1] + board[0][2]\n",
    "#     l2 = board[1][0] + board[1][1] + board[1][2]\n",
    "#     l3 = board[2][0] + board[2][1] + board[2][2]\n",
    "#     c1 = board[0][0] + board[1][0] + board[2][0]\n",
    "#     c2 = board[0][1] + board[1][1] + board[2][1]\n",
    "#     c3 = board[0][2] + board[1][2] + board[2][2]\n",
    "#     d1 = board[0][0] + board[1][1] + board[2][2]\n",
    "#     d2 = board[0][2] + board[1][1] + board[0][2]\n",
    "    \n",
    "#     if l1 == l2 == l3 == c1 == c2 == c3 == d1 == d2:\n",
    "#         return True\n",
    "#     else:\n",
    "#         return False\n",
    "\n",
    "    # 方法二：依赖坐标求取每一行、每一列和两个对角线上元素的和，并进行比较\n",
    "    dim = len(board) # 维度是几维\n",
    "    row_sum = col_sum = diag_zheng_sum = diag_fan_sum = 0\n",
    "    list_sum= []\n",
    "    \n",
    "    for i in range(dim):\n",
    "        for j in range(dim):\n",
    "            row_sum += board[i][j] #计算每行的和\n",
    "            col_sum += board[j][i] #计算每列的和\n",
    "            if i == j: #计算正斜线上的和\n",
    "                diag_zheng_sum += board[i][j]\n",
    "            if i + j == dim - 1: #计算反斜线上的和\n",
    "                diag_fan_sum += board[i][j]\n",
    "        list_sum.append(row_sum)\n",
    "        list_sum.append(col_sum)\n",
    "        row_sum = 0\n",
    "        col_sum = 0\n",
    "    list_sum.append(diag_zheng_sum)\n",
    "    list_sum.append(diag_fan_sum)\n",
    "   \n",
    "    # 当列表变为集合之后，当每一个元素数值相同时则只有一个元素\n",
    "    if len(set(list_sum)) == 1:\n",
    "        return True\n",
    "    return False\n",
    "\n",
    "print(is_valid([[1,2,3],[4,5,6], [7,8,9]]))"
   ]
  }
 ],
 "metadata": {
  "kernelspec": {
   "display_name": "Python 3 (ipykernel)",
   "language": "python",
   "name": "python3"
  },
  "language_info": {
   "codemirror_mode": {
    "name": "ipython",
    "version": 3
   },
   "file_extension": ".py",
   "mimetype": "text/x-python",
   "name": "python",
   "nbconvert_exporter": "python",
   "pygments_lexer": "ipython3",
   "version": "3.7.11"
  }
 },
 "nbformat": 4,
 "nbformat_minor": 2
}
