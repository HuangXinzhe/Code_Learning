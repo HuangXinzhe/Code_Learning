{
 "cells": [
  {
   "cell_type": "code",
   "execution_count": 74,
   "id": "55d2e499",
   "metadata": {},
   "outputs": [],
   "source": [
    "def merge(a, b):\n",
    "    \n",
    "    # 保存排序后的列表\n",
    "    c = []\n",
    "    \n",
    "    # 此时将左右两个部分的列表合并，j表示左边列表的索引，h表示右边列表的索引\n",
    "    h = j = 0\n",
    "    \n",
    "    # 当左右两边的索引都没有超过它们列表长度时，对列表中当前索引的数值进行对比\n",
    "    while j < len(a) and h < len(b):\n",
    "        \n",
    "        # 将较小的值加入列表中\n",
    "        if a[j] < b[h]:\n",
    "            c.append(a[j])\n",
    "            j += 1\n",
    "        else:\n",
    "            c.append(b[h])\n",
    "            h += 1\n",
    "    \n",
    "    # 当左右列表中有一列元素提取完，另一列中的剩余元素可以直接放入（左右列表自身已经是排序好的列表）\n",
    "    if j < len(a):\n",
    "        c.extend(a[j:])\n",
    "    else:\n",
    "        c.extend(b[h:])\n",
    " \n",
    "    return c"
   ]
  },
  {
   "cell_type": "code",
   "execution_count": 75,
   "id": "aeefb3ba",
   "metadata": {},
   "outputs": [],
   "source": [
    "def merge_sort(lists):\n",
    "    \n",
    "    # 当列表中只剩一个元素的时候直接返回\n",
    "    if len(lists) == 1:\n",
    "        return lists\n",
    "    \n",
    "    # 将列表中的元素分为两个部分，已middle为中间点切分\n",
    "    middle = len(lists)//2\n",
    "    left = merge_sort(lists[:middle])\n",
    "    right = merge_sort(lists[middle:])\n",
    "    \n",
    "    # 返回合并之前切分的左右两个部分\n",
    "    return merge(left, right)"
   ]
  },
  {
   "cell_type": "code",
   "execution_count": 76,
   "id": "b76f4888",
   "metadata": {},
   "outputs": [
    {
     "name": "stdout",
     "output_type": "stream",
     "text": [
      "[2, 14, 19, 21, 34, 43]\n"
     ]
    }
   ],
   "source": [
    "a = [14, 2, 34, 43, 21, 19]\n",
    "print (merge_sort(a))"
   ]
  }
 ],
 "metadata": {
  "kernelspec": {
   "display_name": "Python 3 (ipykernel)",
   "language": "python",
   "name": "python3"
  },
  "language_info": {
   "codemirror_mode": {
    "name": "ipython",
    "version": 3
   },
   "file_extension": ".py",
   "mimetype": "text/x-python",
   "name": "python",
   "nbconvert_exporter": "python",
   "pygments_lexer": "ipython3",
   "version": "3.7.11"
  }
 },
 "nbformat": 4,
 "nbformat_minor": 5
}
