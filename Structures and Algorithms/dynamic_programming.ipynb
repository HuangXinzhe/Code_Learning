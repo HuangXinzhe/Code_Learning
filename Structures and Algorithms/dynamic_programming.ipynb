{
 "cells": [
  {
   "cell_type": "markdown",
   "id": "2c17c59b",
   "metadata": {},
   "source": [
    "# 1、斐波那契数列（Fibnacci Sequence）"
   ]
  },
  {
   "cell_type": "code",
   "execution_count": 9,
   "id": "fcfb8242",
   "metadata": {},
   "outputs": [
    {
     "data": {
      "text/plain": [
       "8"
      ]
     },
     "execution_count": 9,
     "metadata": {},
     "output_type": "execute_result"
    }
   ],
   "source": [
    "# 递归\n",
    "def fib_1(n):\n",
    "    if n == 0:\n",
    "        return 0\n",
    "    elif n == 1 or n == 2:\n",
    "        return 1\n",
    "    \n",
    "    return fib(n-1) + fib(n-2)\n",
    "\n",
    "fib_1(6)"
   ]
  },
  {
   "cell_type": "code",
   "execution_count": 8,
   "id": "d1ad3f9b",
   "metadata": {},
   "outputs": [
    {
     "data": {
      "text/plain": [
       "8"
      ]
     },
     "execution_count": 8,
     "metadata": {},
     "output_type": "execute_result"
    }
   ],
   "source": [
    "# 动态规划\n",
    "def fib_2(n):\n",
    "    if n < 2:\n",
    "        return n\n",
    "    \n",
    "    p = 0\n",
    "    q = 1\n",
    "    r = 1\n",
    "    while r < n:\n",
    "        p, q = q, p + q\n",
    "        r += 1\n",
    "        \n",
    "    return q\n",
    "\n",
    "fib_2(6)"
   ]
  },
  {
   "cell_type": "markdown",
   "id": "1f091c48",
   "metadata": {},
   "source": [
    "# 最大子序和"
   ]
  },
  {
   "cell_type": "code",
   "execution_count": 10,
   "id": "a32f6816",
   "metadata": {},
   "outputs": [
    {
     "data": {
      "text/plain": [
       "10"
      ]
     },
     "execution_count": 10,
     "metadata": {},
     "output_type": "execute_result"
    }
   ],
   "source": [
    "def max_sub(arr):\n",
    "    current = arr[0]\n",
    "    max_so_far = current\n",
    "    for i in range(1, len(arr)):\n",
    "        current = max(current + arr[i], arr[i])\n",
    "        if current > max_so_far:\n",
    "            max_so_far = current\n",
    "    return max_so_far\n",
    "\n",
    "a = [-2, 3, -1, 2, 4, -3, 5, -1, -2]\n",
    "max_sub(a)"
   ]
  },
  {
   "cell_type": "markdown",
   "id": "9477ef56",
   "metadata": {},
   "source": [
    "## 零钱兑换"
   ]
  },
  {
   "cell_type": "code",
   "execution_count": 11,
   "id": "a9fb0c63",
   "metadata": {},
   "outputs": [],
   "source": [
    "def change_coins(coins, amount):\n",
    "    # float('inf')表示正无穷\n",
    "    # 建立一个数组，数组元素全是正无穷\n",
    "    dp = [float('inf')] * (amount + 1)\n",
    "    # 总金额为0时，无法凑出解，所以为0\n",
    "    dp[0] = 0\n",
    "\n",
    "    # 循环遍历\n",
    "    for coin in coins:\n",
    "        for x in range(coin, amount + 1):\n",
    "            dp[x] = min(dp[x], dp[x - coin] + 1)\n",
    "    # 当返回的值不为正无穷时则返回结果，否则返回-1\n",
    "    return dp[amount] if dp[amount] != float('inf') else -1"
   ]
  },
  {
   "cell_type": "code",
   "execution_count": 12,
   "id": "5f90ac39",
   "metadata": {},
   "outputs": [
    {
     "data": {
      "text/plain": [
       "3"
      ]
     },
     "execution_count": 12,
     "metadata": {},
     "output_type": "execute_result"
    }
   ],
   "source": [
    "coins = [1, 2, 5]\n",
    "amount = 11\n",
    "change_coins(coins, amount)"
   ]
  },
  {
   "cell_type": "markdown",
   "id": "c28a9f70",
   "metadata": {},
   "source": [
    "## 编辑距离"
   ]
  },
  {
   "cell_type": "code",
   "execution_count": 16,
   "id": "2ed07de3",
   "metadata": {},
   "outputs": [],
   "source": [
    "def minDistance(word1, word2):\n",
    "    m, n = len(word1), len(word2)\n",
    "\n",
    "    # 构建二位数组来存储子问题的答案\n",
    "    dp = [[0 for x in range(n+1)] for x in range(m+1)]\n",
    "\n",
    "    # 利用动态规划算法,填充数组\n",
    "    for i in range(m+1):\n",
    "        for j in range(n+1):\n",
    "            # 假设第一个字符串为空,则转换的代价为j (j次的插入)\n",
    "            if i == 0:\n",
    "                dp[i][j] = j \n",
    "\n",
    "            # 同样的,假设第二个字符串为空,则转换的代价为i (i次的插入)\n",
    "            elif j == 0:\n",
    "                dp[i][j] = i\n",
    "\n",
    "            # 此时位置元素字符相同时，编辑距离没有发生改变\n",
    "            elif word1[i-1] == word2[j-1]:\n",
    "                dp[i][j] = dp[i-1][j-1]\n",
    "\n",
    "            # 此时位置元素字符不同时，使用插入、删除和替换来完成编辑距离的计算，并返回编辑距离的最小值\n",
    "            else:\n",
    "                insert = 1 + dp[i][j-1]\n",
    "                delete = 1 + dp[i-1][j]\n",
    "                replace = 1 + dp[i-1][j-1]\n",
    "                dp[i][j] = min(insert, delete, replace)\n",
    "                \n",
    "    return dp[m][n]"
   ]
  },
  {
   "cell_type": "code",
   "execution_count": 17,
   "id": "df553b2b",
   "metadata": {},
   "outputs": [
    {
     "data": {
      "text/plain": [
       "3"
      ]
     },
     "execution_count": 17,
     "metadata": {},
     "output_type": "execute_result"
    }
   ],
   "source": [
    "word1 = \"horse\"\n",
    "word2 = \"ros\"\n",
    "minDistance(word1, word2)"
   ]
  }
 ],
 "metadata": {
  "kernelspec": {
   "display_name": "Python 3 (ipykernel)",
   "language": "python",
   "name": "python3"
  },
  "language_info": {
   "codemirror_mode": {
    "name": "ipython",
    "version": 3
   },
   "file_extension": ".py",
   "mimetype": "text/x-python",
   "name": "python",
   "nbconvert_exporter": "python",
   "pygments_lexer": "ipython3",
   "version": "3.7.11"
  }
 },
 "nbformat": 4,
 "nbformat_minor": 5
}
