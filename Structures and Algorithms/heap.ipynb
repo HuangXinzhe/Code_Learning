{
 "cells": [
  {
   "cell_type": "markdown",
   "id": "17eb0332",
   "metadata": {},
   "source": [
    "# 最大堆"
   ]
  },
  {
   "cell_type": "code",
   "execution_count": 1,
   "id": "1af40d7e",
   "metadata": {},
   "outputs": [],
   "source": [
    "def down_adjust_max(parent_index, length, array):\n",
    "    temp = array[parent_index]\n",
    "    child_index = 2 * parent_index + 1\n",
    "    while child_index < length:\n",
    "        if child_index + 1 < length and array[child_index + 1] > array[child_index]:\n",
    "            child_index += 1\n",
    "        if temp >= array[child_index]:\n",
    "            break\n",
    "        array[parent_index] = array[child_index]\n",
    "        parent_index = child_index\n",
    "        child_index = 2 * child_index + 1\n",
    "    array[parent_index] = temp"
   ]
  },
  {
   "cell_type": "code",
   "execution_count": 10,
   "id": "a553fa46",
   "metadata": {},
   "outputs": [],
   "source": [
    "def build_heap_max(array):\n",
    "    for i in range((len(array)-2) // 2, -1, -1):\n",
    "        down_adjust_max(i, len(array), array)"
   ]
  },
  {
   "cell_type": "code",
   "execution_count": 11,
   "id": "1643ea15",
   "metadata": {},
   "outputs": [
    {
     "name": "stdout",
     "output_type": "stream",
     "text": [
      "[10, 6, 9, 5, 2, 8, 1, 3]\n"
     ]
    }
   ],
   "source": [
    "my_array = list([1, 3, 10, 5, 2, 8, 9, 6])\n",
    "build_heap_max(my_array)\n",
    "print(my_array)"
   ]
  },
  {
   "cell_type": "markdown",
   "id": "3027366d",
   "metadata": {},
   "source": [
    "# 最小堆"
   ]
  },
  {
   "cell_type": "code",
   "execution_count": 6,
   "id": "85cf044e",
   "metadata": {},
   "outputs": [],
   "source": [
    "def down_adjust_min(parent_index, length, array):\n",
    "    temp = array[parent_index]\n",
    "    child_index = 2 * parent_index + 1\n",
    "    while child_index < length:\n",
    "        if child_index + 1 < length and array[child_index + 1] < array[child_index]:\n",
    "            child_index += 1\n",
    "        if temp <= array[child_index]:\n",
    "            break\n",
    "        array[parent_index] = array[child_index]\n",
    "        parent_index = child_index\n",
    "        child_index = 2 * child_index + 1\n",
    "    array[parent_index] = temp"
   ]
  },
  {
   "cell_type": "code",
   "execution_count": 7,
   "id": "5528d4ce",
   "metadata": {},
   "outputs": [],
   "source": [
    "def build_heap_min(array):\n",
    "    for i in range((len(array)-2) // 2, -1, -1):\n",
    "        down_adjust_min(i, len(array), array)"
   ]
  },
  {
   "cell_type": "code",
   "execution_count": 8,
   "id": "07a31557",
   "metadata": {},
   "outputs": [
    {
     "name": "stdout",
     "output_type": "stream",
     "text": [
      "[1, 2, 8, 5, 3, 10, 9, 6]\n"
     ]
    }
   ],
   "source": [
    "my_array = list([1, 3, 10, 5, 2, 8, 9, 6])\n",
    "build_heap_min(my_array)\n",
    "print(my_array)"
   ]
  },
  {
   "cell_type": "code",
   "execution_count": null,
   "id": "4d1a5948",
   "metadata": {},
   "outputs": [],
   "source": []
  }
 ],
 "metadata": {
  "kernelspec": {
   "display_name": "Python 3 (ipykernel)",
   "language": "python",
   "name": "python3"
  },
  "language_info": {
   "codemirror_mode": {
    "name": "ipython",
    "version": 3
   },
   "file_extension": ".py",
   "mimetype": "text/x-python",
   "name": "python",
   "nbconvert_exporter": "python",
   "pygments_lexer": "ipython3",
   "version": "3.7.11"
  }
 },
 "nbformat": 4,
 "nbformat_minor": 5
}
