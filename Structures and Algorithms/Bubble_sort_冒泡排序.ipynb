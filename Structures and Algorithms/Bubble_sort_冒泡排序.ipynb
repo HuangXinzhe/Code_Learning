{
 "cells": [
  {
   "cell_type": "code",
   "execution_count": 3,
   "id": "5cbfe004",
   "metadata": {},
   "outputs": [],
   "source": [
    "def bubble_sort(arr):\n",
    "    \n",
    "    n=len(arr)\n",
    "    \n",
    "    # 通过列表的长度进行遍历\n",
    "    for i in range(n):\n",
    "        \n",
    "        # 设置swaped作为标记，当列表排序完成，元素不在换位时说明排序完成，提前结束遍历，可以降低时间复杂度\n",
    "        swaped = False\n",
    "        \n",
    "        # 每次遍历之后都会将当前列表中的最大值排值末尾，可以减少遍历不必要元素降低时间复杂度\n",
    "        for j in range(0, n-1-i):\n",
    "            \n",
    "            # 为完成从小到大的排序，当当前位置元素数值大于后一个元素的数值时，将数值互换\n",
    "            if arr[j] > arr[j+1]:\n",
    "                arr[j],arr[j+1] = arr[j+1],arr[j]\n",
    "                \n",
    "                swaped = True\n",
    "                \n",
    "        if swaped == False:\n",
    "            break\n",
    "                \n",
    "    return arr"
   ]
  },
  {
   "cell_type": "code",
   "execution_count": 4,
   "id": "f47341d7",
   "metadata": {},
   "outputs": [
    {
     "data": {
      "text/plain": [
       "[0, 1, 2, 3, 4, 5, 6, 7]"
      ]
     },
     "execution_count": 4,
     "metadata": {},
     "output_type": "execute_result"
    }
   ],
   "source": [
    "list_sort = [2, 4, 5, 1, 7, 6, 3, 0]\n",
    "\n",
    "a = bubble_sort(list_sort)\n",
    "a"
   ]
  }
 ],
 "metadata": {
  "kernelspec": {
   "display_name": "Python 3 (ipykernel)",
   "language": "python",
   "name": "python3"
  },
  "language_info": {
   "codemirror_mode": {
    "name": "ipython",
    "version": 3
   },
   "file_extension": ".py",
   "mimetype": "text/x-python",
   "name": "python",
   "nbconvert_exporter": "python",
   "pygments_lexer": "ipython3",
   "version": "3.7.11"
  }
 },
 "nbformat": 4,
 "nbformat_minor": 5
}
