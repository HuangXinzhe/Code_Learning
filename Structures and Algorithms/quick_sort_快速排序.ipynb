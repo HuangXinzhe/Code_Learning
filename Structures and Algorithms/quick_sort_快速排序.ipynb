{
 "cells": [
  {
   "cell_type": "markdown",
   "id": "0975fabf",
   "metadata": {},
   "source": [
    "# 方法一：分开写"
   ]
  },
  {
   "cell_type": "code",
   "execution_count": 9,
   "id": "4f3ba23f",
   "metadata": {},
   "outputs": [],
   "source": [
    "def quick_sort(arr, start, end):\n",
    "    \"\"\"快速排序\"\"\"\n",
    "    \n",
    "    # 将start从左向右的索引，end从右向左的索引，当start小于end时执行\n",
    "    if start < end:  \n",
    "        \n",
    "        # 快速排序第一次得到的基准元素的位置\n",
    "        p = partition(arr, start, end)\n",
    "        \n",
    "        # 将基准元素左边的子序列进行快速排序\n",
    "        quick_sort(alist, start, p - 1)  \n",
    "        \n",
    "        # 对基准元素右边的子序列进行快速排序\n",
    "        quick_sort(alist, p + 1, end)  "
   ]
  },
  {
   "cell_type": "code",
   "execution_count": 10,
   "id": "88e5d276",
   "metadata": {},
   "outputs": [],
   "source": [
    "def partition(arr, start, end):\n",
    "    \n",
    "    mid = alist[start]  # 设定起始的基准元素\n",
    "    low = start  # low为序列左边在开始位置的由左向右移动的游标\n",
    "    high = end  # high为序列右边末尾位置的由右向左移动的游标\n",
    "    \n",
    "    while low < high:\n",
    "        \n",
    "        # 如果low与high未重合，high(右边)指向的元素大于等于基准元素，则high向左移动\n",
    "        while low < high and alist[high] >= mid:\n",
    "            high -= 1\n",
    "            \n",
    "        alist[low] = alist[high]  # 走到此位置时high指向一个比基准元素小的元素,将high指向的元素放到low的位置上,此时high指向的位置空着,接下来移动low找到符合条件的元素放在此处\n",
    "        # 如果low与high未重合，low指向的元素比基准元素小，则low向右移动\n",
    "        \n",
    "        while low < high and alist[low] < mid:\n",
    "            low += 1\n",
    "        \n",
    "        alist[high] = alist[low]  # 此时low指向一个比基准元素大的元素,将low指向的元素放到high空着的位置上,此时low指向的位置空着,之后进行下一次循环,将high找到符合条件的元素填到此处\n",
    "\n",
    "    # 退出循环后，low与high重合，此时所指位置为基准元素的正确位置,左边的元素都比基准元素小,右边的元素都比基准元素大\n",
    "    alist[low] = mid  # 将基准元素放到该位置\n",
    "    \n",
    "    return low"
   ]
  },
  {
   "cell_type": "code",
   "execution_count": 11,
   "id": "783c170d",
   "metadata": {},
   "outputs": [
    {
     "data": {
      "text/plain": [
       "[17, 20, 26, 31, 44, 54, 55, 77, 93]"
      ]
     },
     "execution_count": 11,
     "metadata": {},
     "output_type": "execute_result"
    }
   ],
   "source": [
    "alist = [54, 26, 93, 17, 77, 31, 44, 55, 20]\n",
    "quick_sort(alist, 0, len(alist) - 1)\n",
    "alist"
   ]
  },
  {
   "cell_type": "markdown",
   "id": "ca3abf2c",
   "metadata": {},
   "source": [
    "# 方法一：整体写"
   ]
  },
  {
   "cell_type": "code",
   "execution_count": 12,
   "id": "071c2527",
   "metadata": {},
   "outputs": [],
   "source": [
    "def quick_sort(alist, start, end):\n",
    "    \"\"\"快速排序\"\"\"\n",
    "    if start >= end:  # 递归的退出条件\n",
    "        return\n",
    "    mid = alist[start]  # 设定起始的基准元素\n",
    "    low = start  # low为序列左边在开始位置的由左向右移动的游标\n",
    "    high = end  # high为序列右边末尾位置的由右向左移动的游标\n",
    "    while low < high:\n",
    "        # 如果low与high未重合，high(右边)指向的元素大于等于基准元素，则high向左移动\n",
    "        while low < high and alist[high] >= mid:\n",
    "            high -= 1\n",
    "        alist[low] = alist[high]  # 走到此位置时high指向一个比基准元素小的元素,将high指向的元素放到low的位置上,此时high指向的位置空着,接下来移动low找到符合条件的元素放在此处\n",
    "        # 如果low与high未重合，low指向的元素比基准元素小，则low向右移动\n",
    "        while low < high and alist[low] < mid:\n",
    "            low += 1\n",
    "        alist[high] = alist[low]  # 此时low指向一个比基准元素大的元素,将low指向的元素放到high空着的位置上,此时low指向的位置空着,之后进行下一次循环,将high找到符合条件的元素填到此处\n",
    "\n",
    "    # 退出循环后，low与high重合，此时所指位置为基准元素的正确位置,左边的元素都比基准元素小,右边的元素都比基准元素大\n",
    "    alist[low] = mid  # 将基准元素放到该位置,\n",
    "    # 对基准元素左边的子序列进行快速排序\n",
    "    quick_sort(alist, start, low - 1)  # start :0  low -1 原基准元素靠左边一位\n",
    "    # 对基准元素右边的子序列进行快速排序\n",
    "    quick_sort(alist, low + 1, end)  # low+1 : 原基准元素靠右一位  end: 最后"
   ]
  },
  {
   "cell_type": "code",
   "execution_count": 13,
   "id": "913e1b44",
   "metadata": {},
   "outputs": [
    {
     "data": {
      "text/plain": [
       "[17, 20, 26, 31, 44, 54, 55, 77, 93]"
      ]
     },
     "execution_count": 13,
     "metadata": {},
     "output_type": "execute_result"
    }
   ],
   "source": [
    "alist = [54, 26, 93, 17, 77, 31, 44, 55, 20]\n",
    "quick_sort(alist, 0, len(alist) - 1)\n",
    "alist"
   ]
  },
  {
   "cell_type": "markdown",
   "id": "7e637a27",
   "metadata": {},
   "source": [
    "# 方法二"
   ]
  },
  {
   "cell_type": "code",
   "execution_count": 23,
   "id": "a30b0658",
   "metadata": {},
   "outputs": [],
   "source": [
    "def partition(arr, low, high): \n",
    "   \n",
    "    # 最小元素索引\n",
    "    i = (low-1)   \n",
    "    \n",
    "    # 设置基准元素\n",
    "    pivot = arr[high]     \n",
    "  \n",
    "    # 遍历列表元素\n",
    "    for j in range(low, high): \n",
    "  \n",
    "        # 当前元素小于或等于 pivot \n",
    "        if   arr[j] <= pivot: \n",
    "          \n",
    "            i = i+1 \n",
    "            \n",
    "            # 将小于基准元素的元素换至列表前半部分\n",
    "            arr[i],arr[j] = arr[j],arr[i] \n",
    "  \n",
    "    # 将基准元素换入左边小于它，右边大于它的位置\n",
    "    arr[i+1],arr[high] = arr[high],arr[i+1] \n",
    "    \n",
    "    # 返回基准元素的位置\n",
    "    return i+1 "
   ]
  },
  {
   "cell_type": "code",
   "execution_count": 24,
   "id": "d4a971a8",
   "metadata": {},
   "outputs": [],
   "source": [
    "# arr[] --> 排序数组\n",
    "# low  --> 起始索引\n",
    "# high  --> 结束索引\n",
    "  \n",
    "# 快速排序函数\n",
    "def quickSort(arr, low, high): \n",
    "    \n",
    "    if low < high: \n",
    "  \n",
    "        # 得到基准元素的位置\n",
    "        pi = partition(arr, low, high) \n",
    "  \n",
    "        # 将基准元素分为左右两边再次进行快速排序\n",
    "        quickSort(arr, low, pi-1) \n",
    "        quickSort(arr, pi+1, high) \n",
    "        \n",
    "    return arr"
   ]
  },
  {
   "cell_type": "code",
   "execution_count": 25,
   "id": "b3d31243",
   "metadata": {},
   "outputs": [
    {
     "data": {
      "text/plain": [
       "[1, 5, 7, 8, 9, 10]"
      ]
     },
     "execution_count": 25,
     "metadata": {},
     "output_type": "execute_result"
    }
   ],
   "source": [
    "arr = [10, 7, 8, 9, 1, 5] \n",
    "quickSort(arr, 0, len(arr)-1)"
   ]
  }
 ],
 "metadata": {
  "kernelspec": {
   "display_name": "Python 3 (ipykernel)",
   "language": "python",
   "name": "python3"
  },
  "language_info": {
   "codemirror_mode": {
    "name": "ipython",
    "version": 3
   },
   "file_extension": ".py",
   "mimetype": "text/x-python",
   "name": "python",
   "nbconvert_exporter": "python",
   "pygments_lexer": "ipython3",
   "version": "3.7.11"
  }
 },
 "nbformat": 4,
 "nbformat_minor": 5
}
