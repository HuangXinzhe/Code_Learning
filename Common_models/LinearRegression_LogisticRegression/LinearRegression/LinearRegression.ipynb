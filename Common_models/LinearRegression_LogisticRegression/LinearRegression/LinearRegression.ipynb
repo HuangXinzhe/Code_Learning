{
 "cells": [
  {
   "cell_type": "code",
   "execution_count": 2,
   "metadata": {},
   "outputs": [
    {
     "name": "stdout",
     "output_type": "stream",
     "text": [
      "(10,) (10,)\n",
      "通过手动实现的线性回归模型参数: 0.57576 -38.07879\n",
      "基于sklearn的线性回归模型参数：0.57576 -38.07879\n"
     ]
    }
   ],
   "source": [
    "# 创建数据集，把数据写入到numpy数组\n",
    "import numpy as np  # 引用numpy库，主要用来做科学计算\n",
    "import matplotlib.pyplot as plt   # 引用matplotlib库，主要用来画图\n",
    "data = np.array([[152,51],[156,53],[160,54],[164,55],\n",
    "                 [168,57],[172,60],[176,62],[180,65],\n",
    "                 [184,69],[188,72]])\n",
    "\n",
    "# 打印大小\n",
    "x, y = data[:,0], data[:,1]\n",
    "print (x.shape, y.shape)\n",
    "\n",
    "# 1. 手动实现一个线性回归算法，具体推导细节参考4.1课程视频\n",
    "# TODO: 实现w和b参数， 这里w是斜率， b是偏移量\n",
    "w = np.sum((x-np.mean(x))*(y-np.mean(y)))/np.sum((x-np.mean(x))**2)\n",
    "b = np.mean(y) - w*np.mean(x)\n",
    " \n",
    "print (\"通过手动实现的线性回归模型参数: %.5f %.5f\"%(w,b))\n",
    "\n",
    "\n",
    "# 2. 使用sklearn来实现线性回归模型, 可以用来比较一下跟手动实现的结果\n",
    "from sklearn.linear_model import LinearRegression\n",
    "model = LinearRegression().fit(x.reshape(-1,1),y)\n",
    "print (\"基于sklearn的线性回归模型参数：%.5f %.5f\"%(model.coef_, model.intercept_))"
   ]
  },
  {
   "cell_type": "code",
   "execution_count": 2,
   "metadata": {},
   "outputs": [],
   "source": []
  },
  {
   "cell_type": "code",
   "execution_count": 4,
   "metadata": {},
   "outputs": [
    {
     "name": "stdout",
     "output_type": "stream",
     "text": [
      "[[152  51]\n",
      " [156  53]\n",
      " [160  54]\n",
      " [164  55]\n",
      " [168  57]\n",
      " [172  60]\n",
      " [176  62]\n",
      " [180  65]\n",
      " [184  69]\n",
      " [188  72]]\n"
     ]
    }
   ],
   "source": []
  },
  {
   "cell_type": "code",
   "execution_count": null,
   "metadata": {},
   "outputs": [],
   "source": []
  }
 ],
 "metadata": {
  "kernelspec": {
   "display_name": "Python 3",
   "language": "python",
   "name": "python3"
  },
  "language_info": {
   "codemirror_mode": {
    "name": "ipython",
    "version": 3
   },
   "file_extension": ".py",
   "mimetype": "text/x-python",
   "name": "python",
   "nbconvert_exporter": "python",
   "pygments_lexer": "ipython3",
   "version": "3.7.9"
  }
 },
 "nbformat": 4,
 "nbformat_minor": 2
}
