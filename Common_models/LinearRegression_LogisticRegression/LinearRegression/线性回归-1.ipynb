{
 "cells": [
  {
   "cell_type": "markdown",
   "metadata": {},
   "source": [
    "### 小作业\n",
    "- 手动实现一元线性回归模型\n",
    "- 手动时间多元线性回归模型"
   ]
  },
  {
   "cell_type": "code",
   "execution_count": null,
   "metadata": {},
   "outputs": [],
   "source": [
    "# 创建数据集，把数据写入到numpy数组\n",
    "import numpy as np  # 引用numpy库，主要用来做科学计算\n",
    "import matplotlib.pyplot as plt   # 引用matplotlib库，主要用来画图\n",
    "data = np.array([[152,51],[156,53],[160,54],[164,55],\n",
    "                 [168,57],[172,60],[176,62],[180,65],\n",
    "                 [184,69],[188,72]])\n",
    "\n",
    "# 使用sklearn来实现线性回归模型, 可以用来比较一下跟手动实现的结果\n",
    "from sklearn.linear_model import LinearRegression\n",
    "model = LinearRegression().fit(x.reshape(-1,1),y)\n",
    "print (\"基于sklearn的线性回归模型参数：%.5f %.5f\"%(model.coef_, model.intercept_))"
   ]
  },
  {
   "cell_type": "code",
   "execution_count": 1,
   "metadata": {},
   "outputs": [
    {
     "name": "stdout",
     "output_type": "stream",
     "text": [
      "(10,) (10,)\n",
      "通过手动实现的线性回归模型参数: 0.57576 -38.07879\n",
      "基于sklearn的线性回归模型参数：0.57576 -38.07879\n"
     ]
    }
   ],
   "source": [
    "\n",
    "\n",
    "\n",
    "\n",
    "\n",
    "\n",
    "\n",
    "\n",
    "# 创建数据集，把数据写入到numpy数组\n",
    "import numpy as np  # 引用numpy库，主要用来做科学计算\n",
    "import matplotlib.pyplot as plt   # 引用matplotlib库，主要用来画图\n",
    "data = np.array([[152,51],[156,53],[160,54],[164,55],\n",
    "                 [168,57],[172,60],[176,62],[180,65],\n",
    "                 [184,69],[188,72]])\n",
    "\n",
    "# 打印大小\n",
    "x, y = data[:,0], data[:,1]\n",
    "print (x.shape, y.shape)\n",
    "\n",
    "# 1. 手动实现一个线性回归算法，具体推导细节参考4.1课程视频\n",
    "# TODO: 实现w和b参数， 这里w是斜率， b是偏移量\n",
    "w = np.sum((x-np.mean(x))*(y-np.mean(y)))/np.sum((x-np.mean(x))**2)\n",
    "b = np.mean(y) - w*np.mean(x)\n",
    " \n",
    "print (\"通过手动实现的线性回归模型参数: %.5f %.5f\"%(w,b))\n",
    "\n",
    "# 2. 使用sklearn来实现线性回归模型, 可以用来比较一下跟手动实现的结果\n",
    "from sklearn.linear_model import LinearRegression\n",
    "model = LinearRegression().fit(x.reshape(-1,1),y)\n",
    "print (\"基于sklearn的线性回归模型参数：%.5f %.5f\"%(model.coef_, model.intercept_))"
   ]
  },
  {
   "cell_type": "code",
   "execution_count": 2,
   "metadata": {},
   "outputs": [
    {
     "ename": "SyntaxError",
     "evalue": "invalid syntax (<ipython-input-2-5261d28b0ece>, line 17)",
     "output_type": "error",
     "traceback": [
      "\u001b[0;36m  File \u001b[0;32m\"<ipython-input-2-5261d28b0ece>\"\u001b[0;36m, line \u001b[0;32m17\u001b[0m\n\u001b[0;31m    res =\u001b[0m\n\u001b[0m          ^\u001b[0m\n\u001b[0;31mSyntaxError\u001b[0m\u001b[0;31m:\u001b[0m invalid syntax\n"
     ]
    }
   ],
   "source": [
    "import numpy as np\n",
    "from sklearn.linear_model import LinearRegression\n",
    "\n",
    "# 生成样本数据， 特征维度为2\n",
    "X = np.array([[1, 1], [1, 2], [2, 2], [2, 3]])\n",
    "# y = 1 * x_0 + 2 * x_1 + 3\n",
    "y = np.dot(X, np.array([1, 2])) + 3\n",
    "\n",
    "# 先使用sklearn自带的库来解决\n",
    "model = LinearRegression().fit(X, y)\n",
    "\n",
    "# 打印参数以及偏移量（bias）\n",
    "print (\"基于sklearn的线性回归模型参数为 coef: \", model.coef_, \" intercept: %.5f\" %model.intercept_)\n",
    "\n",
    "# TODO: 动手实现多元线性回归的参数估计, 把最后的结果放在res变量里。 res[0]存储的是偏移量，res[1:]存储的是模型参数\n",
    "\n",
    "res = \n",
    "\n",
    "# 打印参数以偏移量（bias）\n",
    "print (\"通过手动实现的线性回归模型参数为 coef: \", res[1:], \" intercept: %.5f\"%res[0])"
   ]
  },
  {
   "cell_type": "code",
   "execution_count": 3,
   "metadata": {},
   "outputs": [
    {
     "name": "stdout",
     "output_type": "stream",
     "text": [
      "基于sklearn的线性回归模型参数为 coef:  [1. 2.]  intercept: 3.00000\n",
      "通过手动实现的线性回归模型参数为 coef:  [1. 2.]  intercept: 3.00000\n"
     ]
    }
   ],
   "source": [
    "import numpy as np\n",
    "from sklearn.linear_model import LinearRegression\n",
    "\n",
    "# 生成样本数据， 特征维度为2\n",
    "X = np.array([[1, 1], [1, 2], [2, 2], [2, 3]])\n",
    "# y = 1 * x_0 + 2 * x_1 + 3\n",
    "y = np.dot(X, np.array([1, 2])) + 3\n",
    "\n",
    "# 先使用sklearn自带的库来解决\n",
    "model = LinearRegression().fit(X, y)\n",
    "\n",
    "# 打印参数以及偏移量（bias）\n",
    "print (\"基于sklearn的线性回归模型参数为 coef: \", model.coef_, \" intercept: %.5f\" %model.intercept_)\n",
    "\n",
    "# 手动实现参数的求解。先把偏移量加到X里\n",
    "a = np.ones(X.shape[0]).reshape(-1,1)\n",
    "X = np.concatenate((a, X), axis=1)\n",
    "\n",
    "# 通过矩阵、向量乘法来求解参数， res已经包含了偏移量\n",
    "res = np.matmul(np.linalg.inv(np.matmul(X.T, X)),  np.matmul(X.T, y))\n",
    "\n",
    "# 打印参数以偏移量（bias）\n",
    "print (\"通过手动实现的线性回归模型参数为 coef: \", res[1:], \" intercept: %.5f\"%res[0])\n"
   ]
  },
  {
   "cell_type": "code",
   "execution_count": 1,
   "metadata": {},
   "outputs": [
    {
     "ename": "LinAlgError",
     "evalue": "Singular matrix",
     "output_type": "error",
     "traceback": [
      "\u001b[0;31m---------------------------------------------------------------------------\u001b[0m",
      "\u001b[0;31mLinAlgError\u001b[0m                               Traceback (most recent call last)",
      "\u001b[0;32m<ipython-input-1-1c3f1dd00d7f>\u001b[0m in \u001b[0;36m<module>\u001b[0;34m\u001b[0m\n\u001b[1;32m     12\u001b[0m \u001b[0;34m\u001b[0m\u001b[0m\n\u001b[1;32m     13\u001b[0m \u001b[0;31m# 通过矩阵、向量乘法来求解参数， res已经包含了偏移量\u001b[0m\u001b[0;34m\u001b[0m\u001b[0;34m\u001b[0m\u001b[0;34m\u001b[0m\u001b[0m\n\u001b[0;32m---> 14\u001b[0;31m \u001b[0mres\u001b[0m \u001b[0;34m=\u001b[0m \u001b[0mnp\u001b[0m\u001b[0;34m.\u001b[0m\u001b[0mmatmul\u001b[0m\u001b[0;34m(\u001b[0m\u001b[0mnp\u001b[0m\u001b[0;34m.\u001b[0m\u001b[0mlinalg\u001b[0m\u001b[0;34m.\u001b[0m\u001b[0minv\u001b[0m\u001b[0;34m(\u001b[0m\u001b[0mnp\u001b[0m\u001b[0;34m.\u001b[0m\u001b[0mmatmul\u001b[0m\u001b[0;34m(\u001b[0m\u001b[0mX\u001b[0m\u001b[0;34m.\u001b[0m\u001b[0mT\u001b[0m\u001b[0;34m,\u001b[0m \u001b[0mX\u001b[0m\u001b[0;34m)\u001b[0m\u001b[0;34m)\u001b[0m\u001b[0;34m,\u001b[0m  \u001b[0mnp\u001b[0m\u001b[0;34m.\u001b[0m\u001b[0mmatmul\u001b[0m\u001b[0;34m(\u001b[0m\u001b[0mX\u001b[0m\u001b[0;34m.\u001b[0m\u001b[0mT\u001b[0m\u001b[0;34m,\u001b[0m \u001b[0my\u001b[0m\u001b[0;34m)\u001b[0m\u001b[0;34m)\u001b[0m\u001b[0;34m\u001b[0m\u001b[0;34m\u001b[0m\u001b[0m\n\u001b[0m\u001b[1;32m     15\u001b[0m \u001b[0;34m\u001b[0m\u001b[0m\n\u001b[1;32m     16\u001b[0m \u001b[0;31m# 打印参数以偏移量（bias）\u001b[0m\u001b[0;34m\u001b[0m\u001b[0;34m\u001b[0m\u001b[0;34m\u001b[0m\u001b[0m\n",
      "\u001b[0;32m~/anaconda3/lib/python3.7/site-packages/numpy/linalg/linalg.py\u001b[0m in \u001b[0;36minv\u001b[0;34m(a)\u001b[0m\n\u001b[1;32m    526\u001b[0m     \u001b[0msignature\u001b[0m \u001b[0;34m=\u001b[0m \u001b[0;34m'D->D'\u001b[0m \u001b[0;32mif\u001b[0m \u001b[0misComplexType\u001b[0m\u001b[0;34m(\u001b[0m\u001b[0mt\u001b[0m\u001b[0;34m)\u001b[0m \u001b[0;32melse\u001b[0m \u001b[0;34m'd->d'\u001b[0m\u001b[0;34m\u001b[0m\u001b[0;34m\u001b[0m\u001b[0m\n\u001b[1;32m    527\u001b[0m     \u001b[0mextobj\u001b[0m \u001b[0;34m=\u001b[0m \u001b[0mget_linalg_error_extobj\u001b[0m\u001b[0;34m(\u001b[0m\u001b[0m_raise_linalgerror_singular\u001b[0m\u001b[0;34m)\u001b[0m\u001b[0;34m\u001b[0m\u001b[0;34m\u001b[0m\u001b[0m\n\u001b[0;32m--> 528\u001b[0;31m     \u001b[0mainv\u001b[0m \u001b[0;34m=\u001b[0m \u001b[0m_umath_linalg\u001b[0m\u001b[0;34m.\u001b[0m\u001b[0minv\u001b[0m\u001b[0;34m(\u001b[0m\u001b[0ma\u001b[0m\u001b[0;34m,\u001b[0m \u001b[0msignature\u001b[0m\u001b[0;34m=\u001b[0m\u001b[0msignature\u001b[0m\u001b[0;34m,\u001b[0m \u001b[0mextobj\u001b[0m\u001b[0;34m=\u001b[0m\u001b[0mextobj\u001b[0m\u001b[0;34m)\u001b[0m\u001b[0;34m\u001b[0m\u001b[0;34m\u001b[0m\u001b[0m\n\u001b[0m\u001b[1;32m    529\u001b[0m     \u001b[0;32mreturn\u001b[0m \u001b[0mwrap\u001b[0m\u001b[0;34m(\u001b[0m\u001b[0mainv\u001b[0m\u001b[0;34m.\u001b[0m\u001b[0mastype\u001b[0m\u001b[0;34m(\u001b[0m\u001b[0mresult_t\u001b[0m\u001b[0;34m,\u001b[0m \u001b[0mcopy\u001b[0m\u001b[0;34m=\u001b[0m\u001b[0;32mFalse\u001b[0m\u001b[0;34m)\u001b[0m\u001b[0;34m)\u001b[0m\u001b[0;34m\u001b[0m\u001b[0;34m\u001b[0m\u001b[0m\n\u001b[1;32m    530\u001b[0m \u001b[0;34m\u001b[0m\u001b[0m\n",
      "\u001b[0;32m~/anaconda3/lib/python3.7/site-packages/numpy/linalg/linalg.py\u001b[0m in \u001b[0;36m_raise_linalgerror_singular\u001b[0;34m(err, flag)\u001b[0m\n\u001b[1;32m     87\u001b[0m \u001b[0;34m\u001b[0m\u001b[0m\n\u001b[1;32m     88\u001b[0m \u001b[0;32mdef\u001b[0m \u001b[0m_raise_linalgerror_singular\u001b[0m\u001b[0;34m(\u001b[0m\u001b[0merr\u001b[0m\u001b[0;34m,\u001b[0m \u001b[0mflag\u001b[0m\u001b[0;34m)\u001b[0m\u001b[0;34m:\u001b[0m\u001b[0;34m\u001b[0m\u001b[0;34m\u001b[0m\u001b[0m\n\u001b[0;32m---> 89\u001b[0;31m     \u001b[0;32mraise\u001b[0m \u001b[0mLinAlgError\u001b[0m\u001b[0;34m(\u001b[0m\u001b[0;34m\"Singular matrix\"\u001b[0m\u001b[0;34m)\u001b[0m\u001b[0;34m\u001b[0m\u001b[0;34m\u001b[0m\u001b[0m\n\u001b[0m\u001b[1;32m     90\u001b[0m \u001b[0;34m\u001b[0m\u001b[0m\n\u001b[1;32m     91\u001b[0m \u001b[0;32mdef\u001b[0m \u001b[0m_raise_linalgerror_nonposdef\u001b[0m\u001b[0;34m(\u001b[0m\u001b[0merr\u001b[0m\u001b[0;34m,\u001b[0m \u001b[0mflag\u001b[0m\u001b[0;34m)\u001b[0m\u001b[0;34m:\u001b[0m\u001b[0;34m\u001b[0m\u001b[0;34m\u001b[0m\u001b[0m\n",
      "\u001b[0;31mLinAlgError\u001b[0m: Singular matrix"
     ]
    }
   ],
   "source": [
    "import numpy as np\n",
    "from sklearn.linear_model import LinearRegression\n",
    "\n",
    "# 生成样本数据， 特征维度为2\n",
    "X = np.array([[1, 1, 2], [2, 2, 3], [3, 3, 2], [5, 5, 2]])\n",
    "# y = 1 * x_0 + 2 * x_1 + 3 * x_2 + 3 \n",
    "y = np.dot(X, np.array([1, 2, 3])) + 3\n",
    "\n",
    "# 手动实现参数的求解。先把偏移量加到X里\n",
    "a = np.ones(X.shape[0]).reshape(-1,1)\n",
    "X = np.concatenate((a, X), axis=1)\n",
    "\n",
    "# 通过矩阵、向量乘法来求解参数， res已经包含了偏移量\n",
    "res = np.matmul(np.linalg.inv(np.matmul(X.T, X),  np.matmul(X.T, y))\n",
    "\n",
    "# 打印参数以偏移量（bias）\n",
    "print (\"通过手动实现的线性回归模型参数为 coef: \", res[1:], \" intercept: %.5f\"%res[0])"
   ]
  },
  {
   "cell_type": "code",
   "execution_count": 6,
   "metadata": {},
   "outputs": [
    {
     "name": "stdout",
     "output_type": "stream",
     "text": [
      "(611, 14)\n",
      "(606, 11) (606,)\n"
     ]
    },
    {
     "data": {
      "image/png": "[encoded data removed]",
      "text/plain": [
       "<Figure size 432x288 with 1 Axes>"
      ]
     },
     "metadata": {
      "needs_background": "light"
     },
     "output_type": "display_data"
    },
    {
     "name": "stdout",
     "output_type": "stream",
     "text": [
      "[-0.76234     0.83214352  0.24463705  1.09141555  0.00438079 -0.30717535\n",
      "  0.19354311  0.24902077  0.17472336  0.08873934 -0.27910703]\n"
     ]
    }
   ],
   "source": [
    "import numpy as np # 数学计算 \n",
    "import pandas as pd # 数据处理, 读取 CSV 文件 (e.g. pd.read_csv) \n",
    "import matplotlib.pyplot as plt # 可视化工具 \n",
    "from datetime import datetime as dt # 时间的工具 \n",
    "from sklearn.linear_model import LinearRegression # 线性回归模型库 \n",
    "from sklearn import preprocessing # 归一化时用到 \n",
    "\n",
    "\n",
    "# 读取某一只股票的行情数据 \n",
    "df = pd.read_csv('000001.csv') \n",
    "print(np.shape(df)) \n",
    "\n",
    "#print(df.head(10)) \n",
    "\n",
    "# 把字符串转换成时间格式 \n",
    "df['date'] = pd.to_datetime(df['date']) \n",
    "df = df.set_index('date') \n",
    "\n",
    "# 按照时间升序排列\n",
    "df.sort_values(by=['date'], inplace=True, ascending=True) \n",
    "\n",
    "#print (df.head(10)) \n",
    "# 创建新的列, 包含预测值, 根据当前的数据预测5天以后的收盘价 \n",
    "\n",
    "num = 5 # 预测5天后的情况 \n",
    "df['label'] = df['close'].shift(-num) # 预测值 \n",
    "\n",
    "#print(df) \n",
    "# 由于数据往前移了5位,所以最后5个样本的label值为\"NA\",在这里去掉包含”NA\"的样本。 \n",
    "\n",
    "df.dropna(inplace=True) \n",
    "\n",
    "# 构建特征向量,也就是数据中的X。由于我们要预测df['label']值,需要先去掉,不然就失去预测意义了。 另外, \n",
    "# 在本次预测任务中先不考虑\"price_change\"和\"p_change\"两个字段。 \n",
    "\n",
    "X = df.drop(['price_change', 'label', 'p_change'],axis=1) \n",
    "\n",
    "# 对于特征做归一化,使用z-score normalization \n",
    "\n",
    "X = X.values \n",
    "X = preprocessing.scale(X) \n",
    "\n",
    "# 提取预测值 \n",
    "y = df.label.values \n",
    "print(np.shape(X), np.shape(y)) \n",
    "\n",
    "# 把数据分为训练和测试数据。我们把一开始的550个样本作为训练数据,之后的样本作为 \n",
    "# 测试数据 \n",
    "\n",
    "X_train, y_train = X[0:550, :], y[0:550] \n",
    "X_test, y_test = X[550:606,:], y[550:606] \n",
    "lr = LinearRegression()\n",
    "lr.fit(X_train, y_train)\n",
    "# 对于每个测试样本做预测 \n",
    "\n",
    "y_pred = lr.predict(X_test) \n",
    "\n",
    "# 画出通过模型预测出来的股价 \n",
    "plt.plot(y_pred, color='b') \n",
    "\n",
    "# 画出真实的股价,并做对比 \n",
    "plt.plot(y_test, color=\"r\") \n",
    "\n",
    "plt.show() \n",
    "print (lr.coef_) "
   ]
  },
  {
   "cell_type": "code",
   "execution_count": null,
   "metadata": {},
   "outputs": [],
   "source": []
  }
 ],
 "metadata": {
  "kernelspec": {
   "display_name": "Python 3",
   "language": "python",
   "name": "python3"
  },
  "language_info": {
   "codemirror_mode": {
    "name": "ipython",
    "version": 3
   },
   "file_extension": ".py",
   "mimetype": "text/x-python",
   "name": "python",
   "nbconvert_exporter": "python",
   "pygments_lexer": "ipython3",
   "version": "3.7.1"
  }
 },
 "nbformat": 4,
 "nbformat_minor": 2
}
