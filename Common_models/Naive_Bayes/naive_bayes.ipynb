{
 "cells": [
  {
   "cell_type": "markdown",
   "metadata": {},
   "source": [
    "# sklearn.naive_bayes.MultinomialNB\n",
    ">class  \n",
    "sklearn.naive_bayes.MultinomialNB(*,alpha=1.0,fit_prior=True,class_prior=None)\n",
    "\n",
    "Naive Bayes classifier for multinomial models  \n",
    "多项式模型的贝叶斯分类器"
   ]
  },
  {
   "cell_type": "markdown",
   "metadata": {},
   "source": [
    ">The multinomial Naive Bayes classifier is suitable for classification with discrete features (e.g., word counts for text classification). The multinomial distribution normally requires integer feature counts. However, in practice, fractional counts such as tf-idf may also work.\n",
    "\n",
    "多项式朴素贝叶斯分类器适用于具有离散特征的分类（例如，用于文本分类的字数）。多项分布通常需要整数特征计数。然而，在实践中tf-idf之类的小数计数也可能有效。"
   ]
  },
  {
   "cell_type": "markdown",
   "metadata": {},
   "source": [
    "## Parameters\n",
    "- alpha:float, default=1.0  \n",
    "Additive (Laplace/Lidstone) smoothing parameter (0 for no smoothing).  \n",
    "附加(Laplace/Lidstone)平滑参数（0表示不平滑）。  \n",
    "\n",
    "\n",
    "- fit_prior:bool, default=True\n",
    "Whether to learn class prior probabilities or not. If false, a uniform prior will be used.  \n",
    "是否学习类先验概率。如果为假，将使用统一先验。 \n",
    "\n",
    "\n",
    "- class_prior:array-like of shape (n_classes,), default=None\n",
    "Prior probabilities of the classes. If specified the priors are not adjusted according to the data.  \n",
    "类的先验概率。如果指定，则不会根据数据调整先验。  \n"
   ]
  },
  {
   "cell_type": "code",
   "execution_count": 2,
   "metadata": {},
   "outputs": [
    {
     "name": "stdout",
     "output_type": "stream",
     "text": [
      "[3]\n"
     ]
    }
   ],
   "source": [
    "import numpy as np\n",
    "from sklearn.naive_bayes import MultinomialNB\n",
    "\n",
    "rng = np.random.RandomState(1)\n",
    "\n",
    "# 随机生成0-5之间，形状为6*100的矩阵\n",
    "X = rng.randint(5, size=(6, 100))\n",
    "y = np.array([1, 2, 3, 4, 5, 6])\n",
    "\n",
    "clf = MultinomialNB()\n",
    "clf.fit(X, y)\n",
    "\n",
    "print(clf.predict(X[2:3]))"
   ]
  }
 ],
 "metadata": {
  "kernelspec": {
   "display_name": "Python 3",
   "language": "python",
   "name": "python3"
  },
  "language_info": {
   "codemirror_mode": {
    "name": "ipython",
    "version": 3
   },
   "file_extension": ".py",
   "mimetype": "text/x-python",
   "name": "python",
   "nbconvert_exporter": "python",
   "pygments_lexer": "ipython3",
   "version": "3.7.9"
  }
 },
 "nbformat": 4,
 "nbformat_minor": 4
}
