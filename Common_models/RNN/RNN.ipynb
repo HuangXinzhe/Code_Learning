{
 "cells": [
  {
   "cell_type": "code",
   "execution_count": 18,
   "metadata": {},
   "outputs": [],
   "source": [
    "import torch\n",
    "\n",
    "# torch.nn构建神经网络\n",
    "import torch.nn as nn\n",
    "import torch.nn.functional as F\n",
    "import numpy as np"
   ]
  },
  {
   "attachments": {},
   "cell_type": "markdown",
   "metadata": {},
   "source": [
    "<img src=\"image/1.png\" width=\"450\" heigth=\"230\">"
   ]
  },
  {
   "cell_type": "markdown",
   "metadata": {},
   "source": [
    "> 上图中表示的是四句话的前两个单词的词向量"
   ]
  },
  {
   "cell_type": "code",
   "execution_count": 21,
   "metadata": {},
   "outputs": [],
   "source": [
    "# n_inputs每个输入样本的x(i)的维度，比如一句话的一个词用多少维表示\n",
    "# n_neurons：隐藏层的神经单元的个数\n",
    "# 在这个例子中，每句话有2个词。"
   ]
  },
  {
   "cell_type": "code",
   "execution_count": 22,
   "metadata": {},
   "outputs": [],
   "source": [
    "class SingleRNN(nn.Module):\n",
    "    def __init__(self, n_inputs, n_neurons):\n",
    "        super(SingleRNN, self).__init__()\n",
    "        \n",
    "        self.Wx = torch.randn(n_inputs, n_neurons) # 4 X 1\n",
    "        self.Wy = torch.randn(n_neurons, n_neurons) # 1 X 1\n",
    "        \n",
    "        self.b = torch.zeros(1, n_neurons) # 1 X 1\n",
    "    \n",
    "    def forward(self, X0, X1):\n",
    "        self.Y0 = torch.tanh(torch.mm(X0, self.Wx) + self.b) # 4 X 1\n",
    "        \n",
    "        self.Y1 = torch.tanh(torch.mm(self.Y0, self.Wy) +\n",
    "                            torch.mm(X1, self.Wx) + self.b) # 4 X 1\n",
    "        \n",
    "        return self.Y0, self.Y1"
   ]
  },
  {
   "cell_type": "code",
   "execution_count": 23,
   "metadata": {},
   "outputs": [],
   "source": [
    "N_INPUT = 4\n",
    "N_NEURONS = 1\n",
    "\n",
    "X0_batch = torch.tensor([[0,1,2,0], [3,4,5,0], \n",
    "                         [6,7,8,0], [9,0,1,0]],\n",
    "                        dtype = torch.float) #t=0 => 4 X 4#4个样本的x0，每个x0用4维表示\n",
    "\n",
    "X1_batch = torch.tensor([[9,8,7,0], [0,0,0,0], \n",
    "                         [6,5,4,0], [3,2,1,0]],\n",
    "                        dtype = torch.float) #t=1 => 4 X 4\n",
    "\n",
    "model = SingleRNN(N_INPUT, N_NEURONS)\n",
    "\n",
    "Y0_val, Y1_val = model(X0_batch, X1_batch)"
   ]
  },
  {
   "cell_type": "code",
   "execution_count": 25,
   "metadata": {},
   "outputs": [
    {
     "data": {
      "text/plain": [
       "tensor([[-0.9923],\n",
       "        [ 0.9272],\n",
       "        [-0.2116],\n",
       "        [-0.7318]])"
      ]
     },
     "execution_count": 25,
     "metadata": {},
     "output_type": "execute_result"
    }
   ],
   "source": [
    "Y1_val"
   ]
  },
  {
   "cell_type": "code",
   "execution_count": 24,
   "metadata": {},
   "outputs": [
    {
     "data": {
      "text/plain": [
       "tensor([[-0.9971],\n",
       "        [-1.0000],\n",
       "        [-1.0000],\n",
       "        [ 1.0000]])"
      ]
     },
     "execution_count": 24,
     "metadata": {},
     "output_type": "execute_result"
    }
   ],
   "source": [
    "Y0_val"
   ]
  },
  {
   "cell_type": "markdown",
   "metadata": {},
   "source": [
    "<img src=\"image/2.png\" width=\"850\" heigth=\"230\">"
   ]
  },
  {
   "cell_type": "code",
   "execution_count": 26,
   "metadata": {},
   "outputs": [],
   "source": [
    "class BasicRNN(nn.Module):\n",
    "    def __init__(self, n_inputs, n_neurons):\n",
    "        super(BasicRNN, self).__init__()\n",
    "        \n",
    "        self.Wx = torch.randn(n_inputs, n_neurons) # n_inputs X n_neurons\n",
    "        self.Wy = torch.randn(n_neurons, n_neurons) # n_neurons X n_neurons\n",
    "        \n",
    "        self.b = torch.zeros(1, n_neurons) # 1 X n_neurons\n",
    "    \n",
    "    def forward(self, X0, X1):\n",
    "        self.Y0 = torch.tanh(torch.mm(X0, self.Wx) + self.b) # batch_size X n_neurons\n",
    "        \n",
    "        self.Y1 = torch.tanh(torch.mm(self.Y0, self.Wy) +\n",
    "                            torch.mm(X1, self.Wx) + self.b) # batch_size X n_neurons\n",
    "        \n",
    "        return self.Y0, self.Y1"
   ]
  },
  {
   "cell_type": "code",
   "execution_count": 28,
   "metadata": {},
   "outputs": [],
   "source": [
    "N_INPUT = 3 # number of features in input\n",
    "N_NEURONS = 5 # number of units in layer\n",
    "\n",
    "X0_batch = torch.tensor([[0,1,2], [3,4,5], \n",
    "                         [6,7,8], [9,0,1]],\n",
    "                        dtype = torch.float) #t=0 => 4 X 3\n",
    "\n",
    "X1_batch = torch.tensor([[9,8,7], [0,0,0], \n",
    "                         [6,5,4], [3,2,1]],\n",
    "                        dtype = torch.float) #t=1 => 4 X 3\n",
    "\n",
    "model = BasicRNN(N_INPUT, N_NEURONS)\n",
    "\n",
    "Y0_val, Y1_val = model(X0_batch, X1_batch)"
   ]
  },
  {
   "cell_type": "code",
   "execution_count": 29,
   "metadata": {},
   "outputs": [
    {
     "data": {
      "text/plain": [
       "tensor([[-0.9131, -0.7210,  0.9885,  0.9834,  0.8200],\n",
       "        [-0.9957,  0.9116,  1.0000,  1.0000, -0.9987],\n",
       "        [-0.9998,  0.9993,  1.0000,  1.0000, -1.0000],\n",
       "        [ 1.0000,  0.9999,  0.4377,  1.0000, -1.0000]])"
      ]
     },
     "execution_count": 29,
     "metadata": {},
     "output_type": "execute_result"
    }
   ],
   "source": [
    "Y0_val"
   ]
  },
  {
   "cell_type": "code",
   "execution_count": 30,
   "metadata": {},
   "outputs": [
    {
     "data": {
      "text/plain": [
       "tensor([[-0.9173,  1.0000,  1.0000,  1.0000, -1.0000],\n",
       "        [ 0.1294,  0.9119,  0.1626,  0.9556,  0.5013],\n",
       "        [-0.8654,  1.0000,  1.0000,  1.0000, -1.0000],\n",
       "        [-0.9927,  0.9999,  0.9615,  1.0000, -1.0000]])"
      ]
     },
     "execution_count": 30,
     "metadata": {},
     "output_type": "execute_result"
    }
   ],
   "source": [
    "Y1_val"
   ]
  }
 ],
 "metadata": {
  "kernelspec": {
   "display_name": "Python 3 (ipykernel)",
   "language": "python",
   "name": "python3"
  },
  "language_info": {
   "codemirror_mode": {
    "name": "ipython",
    "version": 3
   },
   "file_extension": ".py",
   "mimetype": "text/x-python",
   "name": "python",
   "nbconvert_exporter": "python",
   "pygments_lexer": "ipython3",
   "version": "3.7.11"
  }
 },
 "nbformat": 4,
 "nbformat_minor": 4
}
