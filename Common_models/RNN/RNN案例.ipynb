{
 "cells": [
  {
   "cell_type": "markdown",
   "metadata": {},
   "source": [
    "## PyTorch Built-in RNN Cell"
   ]
  },
  {
   "cell_type": "code",
   "execution_count": 2,
   "metadata": {},
   "outputs": [],
   "source": [
    "import torch.nn as nn\n",
    "import torch"
   ]
  },
  {
   "cell_type": "code",
   "execution_count": 3,
   "metadata": {},
   "outputs": [],
   "source": [
    "# RNNCell(input_size: int, hidden_size: int, )"
   ]
  },
  {
   "cell_type": "code",
   "execution_count": 4,
   "metadata": {},
   "outputs": [
    {
     "data": {
      "text/plain": [
       "torch.Size([2, 4, 3])"
      ]
     },
     "execution_count": 4,
     "metadata": {},
     "output_type": "execute_result"
    }
   ],
   "source": [
    "rnn = nn.RNNCell(3,5)\n",
    "X_batch = torch.tensor([[[0,1,2], [3,4,5], \n",
    "                         [6,7,8], [9,0,1]],\n",
    "                        [[9,8,7], [0,0,0], \n",
    "                         [6,5,4], [3,2,1]]\n",
    "                       ], dtype = torch.float) # X0 and X1\n",
    "X_batch.size()#shape:(序列长度，batch_size,一个词用多少维度表示)"
   ]
  },
  {
   "cell_type": "code",
   "execution_count": 5,
   "metadata": {},
   "outputs": [],
   "source": [
    "# hx = rnn(X_batch[i], hx)\n",
    "# hx"
   ]
  },
  {
   "cell_type": "code",
   "execution_count": 6,
   "metadata": {},
   "outputs": [
    {
     "data": {
      "text/plain": [
       "tensor([[-2.0890, -0.4152, -0.7183,  0.3646, -0.5564],\n",
       "        [ 0.9169, -2.2734,  0.7077,  0.4749,  1.8448],\n",
       "        [-1.7083,  0.8465, -0.2968, -1.2104,  0.6500],\n",
       "        [ 0.3053, -0.8704,  0.8881, -0.9396, -2.5413]])"
      ]
     },
     "execution_count": 6,
     "metadata": {},
     "output_type": "execute_result"
    }
   ],
   "source": [
    "hx = torch.randn(4,5)#(batch_size,隐藏层神经单元个数)containing the initial hidden state for each element in the batch. \n",
    "                        #Defaults to zeros if not provided.\n",
    "hx"
   ]
  },
  {
   "cell_type": "code",
   "execution_count": 7,
   "metadata": {},
   "outputs": [],
   "source": [
    "### torch.RNNCell accepts a tensor as input and outputs the next hidden state \n",
    "### for each element in the batch."
   ]
  },
  {
   "cell_type": "code",
   "execution_count": 9,
   "metadata": {},
   "outputs": [
    {
     "name": "stdout",
     "output_type": "stream",
     "text": [
      "[tensor([[ 0.9779, -0.8711,  0.1046, -0.1574,  0.3489],\n",
      "        [ 0.9130, -0.9754,  0.8464,  0.1709,  0.5305],\n",
      "        [ 0.9788, -0.9918,  0.9804, -0.2442,  0.7184],\n",
      "        [-0.8571,  0.5978,  0.9666, -0.7216,  0.6882]], grad_fn=<TanhBackward>), tensor([[ 0.8375, -0.9600,  0.9853, -0.4829,  0.8915],\n",
      "        [ 0.9501, -0.6211, -0.2899, -0.3096,  0.4141],\n",
      "        [ 0.9306, -0.8409,  0.8701, -0.6011,  0.8130],\n",
      "        [ 0.3536, -0.3476,  0.5183, -0.5711,  0.5138]], grad_fn=<TanhBackward>)]\n"
     ]
    }
   ],
   "source": [
    "output = []\n",
    "# for each time step\n",
    "for i in range(2):\n",
    "    hx = rnn(X_batch[i], hx)\n",
    "    output.append(hx)\n",
    "    \n",
    "print(output)\n",
    "    "
   ]
  },
  {
   "cell_type": "code",
   "execution_count": 8,
   "metadata": {},
   "outputs": [],
   "source": [
    "### 把上面写到一个class里"
   ]
  },
  {
   "cell_type": "code",
   "execution_count": 37,
   "metadata": {},
   "outputs": [],
   "source": [
    "class CleanBasicRNN(nn.Module):\n",
    "    def __init__(self, batch_size, n_inputs, n_neurons):\n",
    "        super(CleanBasicRNN, self).__init__()\n",
    "        \n",
    "        self.rnn = nn.RNNCell(n_inputs, n_neurons)\n",
    "        self.hx = torch.randn(batch_size, n_neurons)  # initialize hidden state\n",
    "        \n",
    "    def forward(self, x):\n",
    "        output = []\n",
    "        \n",
    "        # for each time step\n",
    "        for i in range(2):\n",
    "            self.hx = self.rnn(x[i], self.hx)\n",
    "            output.append(self.hx)\n",
    "            \n",
    "        return output, self.hx"
   ]
  },
  {
   "cell_type": "code",
   "execution_count": 38,
   "metadata": {},
   "outputs": [
    {
     "name": "stdout",
     "output_type": "stream",
     "text": [
      "[tensor([[ 0.7314, -0.7800, -0.9684, -0.0577, -0.6491],\n",
      "        [ 0.2841, -0.9924, -0.9986, -0.2111, -0.8811],\n",
      "        [ 0.6939, -0.9998, -0.9994,  0.0742, -0.9397],\n",
      "        [-0.9475, -0.9873, -0.9130,  0.9146,  0.9973]],\n",
      "       grad_fn=<TanhBackward0>), tensor([[-0.2099, -1.0000, -0.9998,  0.9830, -0.7702],\n",
      "        [-0.2741,  0.0602, -0.8088, -0.4135,  0.3130],\n",
      "        [-0.4498, -0.9994, -0.9974,  0.9289, -0.1924],\n",
      "        [-0.9604, -0.8459, -0.9258,  0.3996,  0.6573]],\n",
      "       grad_fn=<TanhBackward0>)]\n",
      "tensor([[-0.2099, -1.0000, -0.9998,  0.9830, -0.7702],\n",
      "        [-0.2741,  0.0602, -0.8088, -0.4135,  0.3130],\n",
      "        [-0.4498, -0.9994, -0.9974,  0.9289, -0.1924],\n",
      "        [-0.9604, -0.8459, -0.9258,  0.3996,  0.6573]],\n",
      "       grad_fn=<TanhBackward0>)\n"
     ]
    }
   ],
   "source": [
    "FIXED_BATCH_SIZE = 4 # our batch size is fixed for now\n",
    "N_INPUT = 3\n",
    "N_NEURONS = 5\n",
    "\n",
    "X_batch = torch.tensor([[[0,1,2], [3,4,5], \n",
    "                         [6,7,8], [9,0,1]],\n",
    "                        [[9,8,7], [0,0,0], \n",
    "                         [6,5,4], [3,2,1]]\n",
    "                       ], dtype = torch.float) # X0 and X1\n",
    "\n",
    "\n",
    "model = CleanBasicRNN(FIXED_BATCH_SIZE, N_INPUT, N_NEURONS)\n",
    "output_val, states_val = model(X_batch)\n",
    "print(output_val) # contains all output for all timesteps\n",
    "print(states_val) # contains values for final state or final timestep, i.e., t=1"
   ]
  },
  {
   "cell_type": "markdown",
   "metadata": {},
   "source": [
    "## RNN for Image Classification"
   ]
  },
  {
   "cell_type": "code",
   "execution_count": 39,
   "metadata": {},
   "outputs": [],
   "source": [
    "#### 读取数据"
   ]
  },
  {
   "cell_type": "code",
   "execution_count": 40,
   "metadata": {},
   "outputs": [],
   "source": [
    "import torchvision\n",
    "#是pytorch中的图像预处理包，包含了很多种对图像数据进行变换的函数，\n",
    "#这些都是在我们进行图像数据读入步骤中必不可少的。\n",
    "import torchvision.transforms as transforms "
   ]
  },
  {
   "cell_type": "code",
   "execution_count": 12,
   "metadata": {},
   "outputs": [],
   "source": [
    "# train（bool，可选）–如果为True，则从training.pt创建数据集，否则从test.pt创建数据集。\n",
    "#下载（bool，可选）–如果为true，则从internet下载数据集并将其放在根目录中。如果数据集已下载，则不会再次下载。\n",
    "# transform（可调用，可选）–接受图像并返回图像的已转换版本。"
   ]
  },
  {
   "cell_type": "code",
   "execution_count": 42,
   "metadata": {},
   "outputs": [],
   "source": [
    "BATCH_SIZE = 64\n",
    "\n",
    "# list all transformations\n",
    "#transforms.Compose(transforms) 方法是将多种变换组合在一起。\n",
    "#transforms.ToTensor():将图像转换为tensor\n",
    "transform = transforms.Compose(\n",
    "        [transforms.ToTensor()])\n",
    "\n",
    "\n",
    "# download and load train dataset\n",
    "trainset = torchvision.datasets.MNIST(root='./data',train=True,\n",
    "                                      download= True, transform = transform)"
   ]
  },
  {
   "cell_type": "code",
   "execution_count": 45,
   "metadata": {},
   "outputs": [],
   "source": [
    "# trainset"
   ]
  },
  {
   "cell_type": "code",
   "execution_count": 46,
   "metadata": {},
   "outputs": [],
   "source": [
    "trainloader = torch.utils.data.DataLoader(trainset, batch_size=BATCH_SIZE,\n",
    "                                          shuffle=True, num_workers=2)"
   ]
  },
  {
   "cell_type": "code",
   "execution_count": 47,
   "metadata": {},
   "outputs": [],
   "source": [
    "# download and load testing dataset\n",
    "testset = torchvision.datasets.MNIST(root='./data', train=False,\n",
    "                                       download=True, transform=transform)\n",
    "testloader = torch.utils.data.DataLoader(testset, batch_size=BATCH_SIZE,\n",
    "                                         shuffle=False, num_workers=2)"
   ]
  },
  {
   "cell_type": "code",
   "execution_count": 48,
   "metadata": {},
   "outputs": [],
   "source": [
    "import matplotlib.pyplot as plt\n",
    "import numpy as np"
   ]
  },
  {
   "cell_type": "code",
   "execution_count": 53,
   "metadata": {},
   "outputs": [],
   "source": [
    "def imshow(img):\n",
    "    npimg = img.numpy()\n",
    "    plt.imshow(np.transpose(npimg,(1,2,0)))"
   ]
  },
  {
   "cell_type": "code",
   "execution_count": 49,
   "metadata": {},
   "outputs": [],
   "source": [
    "# get some random training images\n",
    "dataiter = iter(trainloader)\n",
    "images, labels = dataiter.next()"
   ]
  },
  {
   "cell_type": "code",
   "execution_count": 50,
   "metadata": {},
   "outputs": [
    {
     "data": {
      "text/plain": [
       "torch.Size([64, 1, 28, 28])"
      ]
     },
     "execution_count": 50,
     "metadata": {},
     "output_type": "execute_result"
    }
   ],
   "source": [
    "images.size()"
   ]
  },
  {
   "cell_type": "code",
   "execution_count": 19,
   "metadata": {},
   "outputs": [
    {
     "data": {
      "text/plain": [
       "torch.Size([64, 1, 28, 28])"
      ]
     },
     "execution_count": 19,
     "metadata": {},
     "output_type": "execute_result"
    }
   ],
   "source": [
    "images.size()#\n",
    "# assert (torchvision.utils.make_grid(images)[0] == torchvision.utils.make_grid(images)[1]).all()"
   ]
  },
  {
   "cell_type": "code",
   "execution_count": 52,
   "metadata": {},
   "outputs": [
    {
     "data": {
      "text/plain": [
       "torch.Size([3, 242, 242])"
      ]
     },
     "execution_count": 52,
     "metadata": {},
     "output_type": "execute_result"
    }
   ],
   "source": [
    "torchvision.utils.make_grid(images).size()"
   ]
  },
  {
   "cell_type": "markdown",
   "metadata": {},
   "source": [
    "#### And the output of the code is a batch of images displayed on a grid:"
   ]
  },
  {
   "cell_type": "code",
   "execution_count": 51,
   "metadata": {},
   "outputs": [
    {
     "data": {
      "image/png": "[encoded data removed]",
      "text/plain": [
       "<Figure size 432x288 with 1 Axes>"
      ]
     },
     "metadata": {
      "needs_background": "light"
     },
     "output_type": "display_data"
    }
   ],
   "source": [
    "# show images\n",
    "imshow(torchvision.utils.make_grid(images))"
   ]
  },
  {
   "cell_type": "markdown",
   "metadata": {},
   "source": [
    "### Model"
   ]
  },
  {
   "cell_type": "code",
   "execution_count": 54,
   "metadata": {},
   "outputs": [],
   "source": [
    "# parameters \n",
    "N_STEPS = 28#时间步数\n",
    "N_INPUTS = 28#每个输入有多少位\n",
    "N_NEURONS = 150#隐藏层的神经单元个数\n",
    "N_OUTPUTS = 10#输出类别个数\n",
    "N_EPHOCS = 10#训练10个epoch"
   ]
  },
  {
   "cell_type": "markdown",
   "metadata": {},
   "source": [
    "<img src =\"image/1.png\" width = \"700\" height=\"500\">"
   ]
  },
  {
   "cell_type": "code",
   "execution_count": 29,
   "metadata": {},
   "outputs": [],
   "source": [
    "# help(nn.RNN)"
   ]
  },
  {
   "cell_type": "code",
   "execution_count": 55,
   "metadata": {},
   "outputs": [],
   "source": [
    "class ImageRNN(nn.Module):\n",
    "    def __init__(self, batch_size, n_steps, n_inputs, n_neurons, n_outputs):\n",
    "        super(ImageRNN, self).__init__()\n",
    "        \n",
    "        self.n_neurons = n_neurons\n",
    "        self.batch_size = batch_size\n",
    "        self.n_steps = n_steps\n",
    "        self.n_inputs = n_inputs\n",
    "        self.n_outputs = n_outputs\n",
    "        \n",
    "        self.basic_rnn = nn.RNN(self.n_inputs, self.n_neurons)\n",
    "        \n",
    "        self.FC = nn.Linear(self.n_neurons, self.n_outputs)\n",
    "    \n",
    "    def init_hidden(self,):\n",
    "        # (num_layers, batch_size, n_neurons)我们使用num_layers=1，不用管这个参数\n",
    "        return (torch.zeros(1,self.batch_size,self.n_neurons))\n",
    "    \n",
    "    def forward(self, X):\n",
    "        # transforms X to dimensions: n_steps X batch_size X n_inputs\n",
    "        X = X.permute(1,0,2)\n",
    "        \n",
    "        self.batch_size = X.size(1)\n",
    "        self.hidden = self.init_hidden()\n",
    "        \n",
    "        rnn_out, self.hidden = self.basic_rnn(X, self.hidden)\n",
    "        #rnn_out：所有隐藏层的结果。\n",
    "        #self.hidden：最后一层隐藏层的结果\n",
    "#         print('*'*100,self.hidden.size())\n",
    "#         print(\"###\"*100,rnn_out.size())\n",
    "        out = self.FC(self.hidden)\n",
    "        \n",
    "        return out.view(-1,self.n_outputs)## batch_size X n_output\n",
    "    "
   ]
  },
  {
   "cell_type": "markdown",
   "metadata": {},
   "source": [
    "### Testing the model with some samples"
   ]
  },
  {
   "cell_type": "code",
   "execution_count": 57,
   "metadata": {},
   "outputs": [],
   "source": [
    "# images.size()"
   ]
  },
  {
   "cell_type": "code",
   "execution_count": 65,
   "metadata": {},
   "outputs": [
    {
     "name": "stdout",
     "output_type": "stream",
     "text": [
      "tensor([[-0.0175,  0.0260,  0.0287, -0.0374, -0.0687, -0.0270,  0.0983,  0.0926,\n",
      "         -0.0281,  0.1544],\n",
      "        [-0.0264,  0.0391,  0.0103, -0.0473, -0.0690, -0.0439,  0.0831,  0.1003,\n",
      "         -0.0114,  0.1393]], grad_fn=<SliceBackward0>)\n"
     ]
    }
   ],
   "source": [
    "dataiter = iter(trainloader)\n",
    "images, labels = dataiter.next()\n",
    "model = ImageRNN(BATCH_SIZE, N_STEPS, N_INPUTS, N_NEURONS, N_OUTPUTS)\n",
    "logits = model(images.view(-1,28,28))\n",
    "print(logits[0:2])#没有做softmax"
   ]
  },
  {
   "cell_type": "code",
   "execution_count": 66,
   "metadata": {},
   "outputs": [
    {
     "data": {
      "text/plain": [
       "torch.return_types.max(\n",
       "values=tensor([0.1544, 0.1393, 0.1557, 0.1529, 0.1548, 0.1435, 0.1823, 0.1597, 0.1572,\n",
       "        0.1563, 0.1513, 0.1542, 0.1547, 0.1546, 0.1379, 0.1552, 0.1376, 0.1477,\n",
       "        0.1512, 0.1484, 0.1546, 0.1429, 0.1353, 0.1417, 0.1472, 0.1442, 0.1401,\n",
       "        0.1562, 0.1449, 0.1551, 0.1369, 0.1635, 0.1390, 0.1476, 0.1514, 0.1387,\n",
       "        0.1553, 0.1429, 0.1337, 0.1655, 0.1668, 0.1357, 0.1471, 0.1530, 0.1420,\n",
       "        0.1544, 0.1430, 0.1651, 0.1551, 0.1372, 0.1540, 0.1488, 0.1568, 0.1494,\n",
       "        0.1522, 0.1535, 0.1398, 0.1378, 0.1713, 0.1411, 0.1511, 0.1312, 0.1395,\n",
       "        0.1489], grad_fn=<MaxBackward0>),\n",
       "indices=tensor([9, 9, 9, 9, 9, 9, 9, 9, 9, 9, 9, 9, 9, 9, 9, 9, 9, 9, 9, 9, 9, 9, 9, 9,\n",
       "        9, 9, 9, 9, 9, 9, 9, 9, 9, 9, 9, 9, 9, 9, 9, 9, 9, 9, 9, 9, 9, 9, 9, 9,\n",
       "        9, 9, 9, 9, 9, 9, 9, 9, 9, 9, 9, 9, 9, 9, 9, 9]))"
      ]
     },
     "execution_count": 66,
     "metadata": {},
     "output_type": "execute_result"
    }
   ],
   "source": [
    "torch.max(logits, 1)#返回概率和位置"
   ]
  },
  {
   "cell_type": "code",
   "execution_count": 63,
   "metadata": {},
   "outputs": [
    {
     "data": {
      "text/plain": [
       "tensor([0, 8, 4, 5, 8, 1, 2, 3, 0, 7])"
      ]
     },
     "execution_count": 63,
     "metadata": {},
     "output_type": "execute_result"
    }
   ],
   "source": [
    "labels[0:10]"
   ]
  },
  {
   "cell_type": "code",
   "execution_count": 64,
   "metadata": {},
   "outputs": [
    {
     "data": {
      "text/plain": [
       "torch.return_types.max(\n",
       "values=tensor([0.0725, 0.0713, 0.0776, 0.0789, 0.0762, 0.0770, 0.0690, 0.0781, 0.0770,\n",
       "        0.0865, 0.0750, 0.0699, 0.1197, 0.0750, 0.1190, 0.0796, 0.1389, 0.0800,\n",
       "        0.0746, 0.0683, 0.0874, 0.0863, 0.0768, 0.0766, 0.0637, 0.0758, 0.0713,\n",
       "        0.0783, 0.1540, 0.0752, 0.0715, 0.0777, 0.0757, 0.0804, 0.0766, 0.0819,\n",
       "        0.0718, 0.0783, 0.0814, 0.0702, 0.0726, 0.0783, 0.0755, 0.0738, 0.1188,\n",
       "        0.0783, 0.1577, 0.0771, 0.0775, 0.1014, 0.0859, 0.0724, 0.0730, 0.0700,\n",
       "        0.0763, 0.0775, 0.0779, 0.1022, 0.0802, 0.0739, 0.0854, 0.0781, 0.0680,\n",
       "        0.0716], grad_fn=<MaxBackward0>),\n",
       "indices=tensor([6, 5, 1, 6, 6, 6, 6, 6, 6, 6, 1, 5, 1, 1, 1, 6, 1, 1, 6, 5, 1, 6, 6, 1,\n",
       "        1, 1, 6, 6, 1, 6, 6, 5, 6, 6, 6, 6, 6, 6, 6, 6, 1, 6, 7, 6, 1, 1, 1, 1,\n",
       "        6, 1, 5, 6, 6, 6, 6, 5, 6, 1, 1, 6, 6, 6, 6, 1]))"
      ]
     },
     "execution_count": 64,
     "metadata": {},
     "output_type": "execute_result"
    }
   ],
   "source": [
    "torch.max(logits, 1)#返回概率和位置"
   ]
  },
  {
   "cell_type": "code",
   "execution_count": 67,
   "metadata": {},
   "outputs": [
    {
     "data": {
      "text/plain": [
       "tensor([4, 8, 2, 4, 4, 0, 7, 3, 2, 1, 2, 3, 5, 2, 5, 2, 0, 8, 6, 4, 5, 1, 5, 3,\n",
       "        4, 2, 3, 3, 0, 6, 3, 9, 0, 0, 5, 4, 2, 8, 8, 9, 9, 3, 8, 8, 9, 6, 0, 7,\n",
       "        9, 9, 0, 4, 9, 1, 3, 6, 4, 3, 7, 4, 1, 8, 3, 5])"
      ]
     },
     "execution_count": 67,
     "metadata": {},
     "output_type": "execute_result"
    }
   ],
   "source": [
    "labels"
   ]
  },
  {
   "cell_type": "code",
   "execution_count": 68,
   "metadata": {},
   "outputs": [],
   "source": [
    "import torch.optim as optim\n",
    "\n",
    "# Device\n",
    "# device = torch.device(\"cuda:0\" if torch.cuda.is_available() else \"cpu\")\n",
    "\n",
    "# Model instance\n",
    "model = ImageRNN(BATCH_SIZE, N_STEPS, N_INPUTS, N_NEURONS, N_OUTPUTS)\n",
    "criterion = nn.CrossEntropyLoss()#包含一个softmax操作和一个计算交叉熵的操作\n",
    "optimizer = optim.Adam(model.parameters(), lr=0.001)\n",
    "\n",
    "def get_accuracy(logit, target, batch_size):\n",
    "    ''' Obtain accuracy for training round '''\n",
    "    corrects = (torch.max(logit, 1)[1].view(target.size()).data == target.data).sum()\n",
    "    accuracy = 100.0 * corrects/batch_size\n",
    "    return accuracy.item()"
   ]
  },
  {
   "cell_type": "code",
   "execution_count": 69,
   "metadata": {},
   "outputs": [
    {
     "name": "stdout",
     "output_type": "stream",
     "text": [
      "Epoch:  0 | Loss: 0.7902 | Train Accuracy: 74.26\n",
      "Epoch:  1 | Loss: 0.3336 | Train Accuracy: 90.10\n",
      "Epoch:  2 | Loss: 0.2446 | Train Accuracy: 93.00\n",
      "Epoch:  3 | Loss: 0.1947 | Train Accuracy: 94.46\n",
      "Epoch:  4 | Loss: 0.1665 | Train Accuracy: 95.25\n",
      "Epoch:  5 | Loss: 0.1545 | Train Accuracy: 95.62\n",
      "Epoch:  6 | Loss: 0.1475 | Train Accuracy: 95.84\n",
      "Epoch:  7 | Loss: 0.1361 | Train Accuracy: 96.13\n",
      "Epoch:  8 | Loss: 0.1232 | Train Accuracy: 96.53\n",
      "Epoch:  9 | Loss: 0.1290 | Train Accuracy: 96.35\n"
     ]
    }
   ],
   "source": [
    "for epoch in range(N_EPHOCS):  # loop over the dataset multiple times\n",
    "    train_running_loss = 0.0\n",
    "    train_acc = 0.0\n",
    "    model.train()#使用训练模式\n",
    "    \n",
    "    # TRAINING ROUND\n",
    "    for i, data in enumerate(trainloader):\n",
    "         # zero the parameter gradients\n",
    "        optimizer.zero_grad()\n",
    "        \n",
    "        # reset hidden states\n",
    "        model.hidden = model.init_hidden() \n",
    "        \n",
    "        # get the inputs\n",
    "        inputs, labels = data\n",
    "        inputs = inputs.view(-1, 28,28) \n",
    "\n",
    "        # forward + backward + optimize\n",
    "        outputs = model(inputs)\n",
    "\n",
    "        loss = criterion(outputs, labels)\n",
    "        loss.backward()\n",
    "        optimizer.step()\n",
    "\n",
    "        train_running_loss += loss.detach().item()\n",
    "        train_acc += get_accuracy(outputs, labels, BATCH_SIZE)\n",
    "         \n",
    "    model.eval()\n",
    "    print('Epoch:  %d | Loss: %.4f | Train Accuracy: %.2f' \n",
    "          %(epoch, train_running_loss / i, train_acc/i))"
   ]
  },
  {
   "cell_type": "code",
   "execution_count": 28,
   "metadata": {},
   "outputs": [],
   "source": [
    "# next(model.parameters()).is_cuda"
   ]
  }
 ],
 "metadata": {
  "kernelspec": {
   "display_name": "Python 3 (ipykernel)",
   "language": "python",
   "name": "python3"
  },
  "language_info": {
   "codemirror_mode": {
    "name": "ipython",
    "version": 3
   },
   "file_extension": ".py",
   "mimetype": "text/x-python",
   "name": "python",
   "nbconvert_exporter": "python",
   "pygments_lexer": "ipython3",
   "version": "3.7.11"
  }
 },
 "nbformat": 4,
 "nbformat_minor": 4
}
