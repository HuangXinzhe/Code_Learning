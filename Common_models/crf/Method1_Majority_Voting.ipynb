{
 "cells": [
  {
   "cell_type": "code",
   "execution_count": 4,
   "metadata": {},
   "outputs": [],
   "source": [
    "import pandas as pd\n",
    "import numpy as np\n",
    "data = pd.read_csv(\"ner_dataset.csv\", encoding=\"latin1\")"
   ]
  },
  {
   "cell_type": "code",
   "execution_count": 5,
   "metadata": {},
   "outputs": [
    {
     "data": {
      "text/html": [
       "<div>\n",
       "<style scoped>\n",
       "    .dataframe tbody tr th:only-of-type {\n",
       "        vertical-align: middle;\n",
       "    }\n",
       "\n",
       "    .dataframe tbody tr th {\n",
       "        vertical-align: top;\n",
       "    }\n",
       "\n",
       "    .dataframe thead th {\n",
       "        text-align: right;\n",
       "    }\n",
       "</style>\n",
       "<table border=\"1\" class=\"dataframe\">\n",
       "  <thead>\n",
       "    <tr style=\"text-align: right;\">\n",
       "      <th></th>\n",
       "      <th>Sentence #</th>\n",
       "      <th>Word</th>\n",
       "      <th>POS</th>\n",
       "      <th>Tag</th>\n",
       "    </tr>\n",
       "  </thead>\n",
       "  <tbody>\n",
       "    <tr>\n",
       "      <th>1048565</th>\n",
       "      <td>Sentence: 47958</td>\n",
       "      <td>impact</td>\n",
       "      <td>NN</td>\n",
       "      <td>O</td>\n",
       "    </tr>\n",
       "    <tr>\n",
       "      <th>1048566</th>\n",
       "      <td>Sentence: 47958</td>\n",
       "      <td>.</td>\n",
       "      <td>.</td>\n",
       "      <td>O</td>\n",
       "    </tr>\n",
       "    <tr>\n",
       "      <th>1048567</th>\n",
       "      <td>Sentence: 47959</td>\n",
       "      <td>Indian</td>\n",
       "      <td>JJ</td>\n",
       "      <td>B-gpe</td>\n",
       "    </tr>\n",
       "    <tr>\n",
       "      <th>1048568</th>\n",
       "      <td>Sentence: 47959</td>\n",
       "      <td>forces</td>\n",
       "      <td>NNS</td>\n",
       "      <td>O</td>\n",
       "    </tr>\n",
       "    <tr>\n",
       "      <th>1048569</th>\n",
       "      <td>Sentence: 47959</td>\n",
       "      <td>said</td>\n",
       "      <td>VBD</td>\n",
       "      <td>O</td>\n",
       "    </tr>\n",
       "    <tr>\n",
       "      <th>1048570</th>\n",
       "      <td>Sentence: 47959</td>\n",
       "      <td>they</td>\n",
       "      <td>PRP</td>\n",
       "      <td>O</td>\n",
       "    </tr>\n",
       "    <tr>\n",
       "      <th>1048571</th>\n",
       "      <td>Sentence: 47959</td>\n",
       "      <td>responded</td>\n",
       "      <td>VBD</td>\n",
       "      <td>O</td>\n",
       "    </tr>\n",
       "    <tr>\n",
       "      <th>1048572</th>\n",
       "      <td>Sentence: 47959</td>\n",
       "      <td>to</td>\n",
       "      <td>TO</td>\n",
       "      <td>O</td>\n",
       "    </tr>\n",
       "    <tr>\n",
       "      <th>1048573</th>\n",
       "      <td>Sentence: 47959</td>\n",
       "      <td>the</td>\n",
       "      <td>DT</td>\n",
       "      <td>O</td>\n",
       "    </tr>\n",
       "    <tr>\n",
       "      <th>1048574</th>\n",
       "      <td>Sentence: 47959</td>\n",
       "      <td>attack</td>\n",
       "      <td>NN</td>\n",
       "      <td>O</td>\n",
       "    </tr>\n",
       "  </tbody>\n",
       "</table>\n",
       "</div>"
      ],
      "text/plain": [
       "              Sentence #       Word  POS    Tag\n",
       "1048565  Sentence: 47958     impact   NN      O\n",
       "1048566  Sentence: 47958          .    .      O\n",
       "1048567  Sentence: 47959     Indian   JJ  B-gpe\n",
       "1048568  Sentence: 47959     forces  NNS      O\n",
       "1048569  Sentence: 47959       said  VBD      O\n",
       "1048570  Sentence: 47959       they  PRP      O\n",
       "1048571  Sentence: 47959  responded  VBD      O\n",
       "1048572  Sentence: 47959         to   TO      O\n",
       "1048573  Sentence: 47959        the   DT      O\n",
       "1048574  Sentence: 47959     attack   NN      O"
      ]
     },
     "execution_count": 5,
     "metadata": {},
     "output_type": "execute_result"
    }
   ],
   "source": [
    "# method=\"ffill\"，表示NaN的位置元素用前一行有数值的元素填充\n",
    "data = data.fillna(method=\"ffill\")\n",
    "data.tail(10)"
   ]
  },
  {
   "cell_type": "code",
   "execution_count": 6,
   "metadata": {},
   "outputs": [
    {
     "data": {
      "text/plain": [
       "35178"
      ]
     },
     "execution_count": 6,
     "metadata": {},
     "output_type": "execute_result"
    }
   ],
   "source": [
    "# words存储得到的所有单词\n",
    "words = list(set(data[\"Word\"].values))\n",
    "n_words = len(words); n_words"
   ]
  },
  {
   "cell_type": "code",
   "execution_count": 7,
   "metadata": {},
   "outputs": [],
   "source": [
    "# {'Thousands': {'O': 113, 'I-geo': 1}, \n",
    "# 'of': {'O': 25118, 'I-org': 491, 'I-tim': 381, 'I-art': 6, 'I-gpe': 3, \n",
    "# 'B-tim': 93, 'I-geo': 184, 'I-per': 13, 'B-geo': 32, 'I-eve': 3, 'B-org': 30}}\n",
    "# 通过统计形成的字典如上，字典嵌套字典，外层键为单词，内层键为实体识别的结果，内层的值为实体识别结果的个数\n",
    "\n",
    "from sklearn.base import BaseEstimator, TransformerMixin\n",
    "\n",
    "class MajorityVotingTagger(BaseEstimator, TransformerMixin):\n",
    "    \n",
    "    def fit(self, X, y):\n",
    "        \"\"\"\n",
    "        X: list of words，词\n",
    "        y: list of tags，标签\n",
    "        \"\"\"\n",
    "        # 创建word2cnt字典，将统计得到的数据存入\n",
    "        word2cnt = {}\n",
    "        self.tags = []\n",
    "        \n",
    "        # X为单词，y为实体识别的结果，循环所有的数据将所需信息存入字典中\n",
    "        for x, t in zip(X, y):\n",
    "            \n",
    "            if t not in self.tags:\n",
    "                self.tags.append(t)\n",
    "            if x in word2cnt:\n",
    "                if t in word2cnt[x]:\n",
    "                    word2cnt[x][t] += 1\n",
    "                else:\n",
    "                    word2cnt[x][t] = 1\n",
    "            else:\n",
    "                word2cnt[x] = {t: 1}\n",
    "        \n",
    "        # 如所构建的字典中的数据所示，每个单词会有不同的实体结果及实体结果的个数，找到数值最大的作为该词的结果\n",
    "        self.mjvote = {}\n",
    "        \n",
    "        # 例：{'Thousands': {'O': 113, 'I-geo': 1}，k为单词Thousands，d为{'O': 113, 'I-geo': 1}\n",
    "        for k, d in word2cnt.items():\n",
    "            \n",
    "            # 获得d中最大值的键，即为该词的实体识别的类别\n",
    "            self.mjvote[k] = max(d, key=d.get)\n",
    "    \n",
    "    # 预测单词的实体识别的类别\n",
    "    def predict(self, X, y=None):\n",
    "        '''\n",
    "        Predict the the tag from memory. If word is unknown, predict 'O'.\n",
    "        '''\n",
    "        # 返回识别结果，当单词不在所建字典中时返回'O'\n",
    "        return [self.mjvote.get(x, 'O') for x in X]"
   ]
  },
  {
   "cell_type": "code",
   "execution_count": 8,
   "metadata": {},
   "outputs": [],
   "source": [
    "# tolist()转化为列表\n",
    "words = data[\"Word\"].values.tolist()\n",
    "tags = data[\"Tag\"].values.tolist()"
   ]
  },
  {
   "cell_type": "code",
   "execution_count": 9,
   "metadata": {},
   "outputs": [
    {
     "name": "stdout",
     "output_type": "stream",
     "text": [
      "              precision    recall  f1-score   support\n",
      "\n",
      "       B-art       0.20      0.05      0.09       402\n",
      "       B-eve       0.54      0.25      0.34       308\n",
      "       B-geo       0.78      0.85      0.81     37644\n",
      "       B-gpe       0.94      0.93      0.94     15870\n",
      "       B-nat       0.42      0.28      0.33       201\n",
      "       B-org       0.67      0.49      0.56     20143\n",
      "       B-per       0.78      0.65      0.71     16990\n",
      "       B-tim       0.87      0.77      0.82     20333\n",
      "       I-art       0.04      0.01      0.01       297\n",
      "       I-eve       0.39      0.12      0.18       253\n",
      "       I-geo       0.73      0.58      0.65      7414\n",
      "       I-gpe       0.62      0.45      0.52       198\n",
      "       I-nat       0.00      0.00      0.00        51\n",
      "       I-org       0.69      0.53      0.60     16784\n",
      "       I-per       0.73      0.65      0.69     17251\n",
      "       I-tim       0.58      0.13      0.21      6528\n",
      "           O       0.97      0.99      0.98    887908\n",
      "\n",
      "   micro avg       0.95      0.95      0.95   1048575\n",
      "   macro avg       0.59      0.45      0.50   1048575\n",
      "weighted avg       0.94      0.95      0.94   1048575\n",
      "\n"
     ]
    }
   ],
   "source": [
    "from sklearn.model_selection import cross_val_predict\n",
    "from sklearn.metrics import classification_report\n",
    "\n",
    "# 交叉验证\n",
    "pred = cross_val_predict(estimator=MajorityVotingTagger(), X=words, y=tags, cv=5)\n",
    "\n",
    "# classification_report()，构建一个显示主要分类指标的文本报告\n",
    "report = classification_report(y_pred=pred, y_true=tags)\n",
    "\n",
    "print(report)"
   ]
  }
 ],
 "metadata": {
  "kernelspec": {
   "display_name": "Python 3 (ipykernel)",
   "language": "python",
   "name": "python3"
  },
  "language_info": {
   "codemirror_mode": {
    "name": "ipython",
    "version": 3
   },
   "file_extension": ".py",
   "mimetype": "text/x-python",
   "name": "python",
   "nbconvert_exporter": "python",
   "pygments_lexer": "ipython3",
   "version": "3.7.11"
  }
 },
 "nbformat": 4,
 "nbformat_minor": 2
}
