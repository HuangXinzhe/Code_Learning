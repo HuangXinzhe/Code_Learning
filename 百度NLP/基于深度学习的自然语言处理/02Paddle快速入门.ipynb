{
 "cells": [
  {
   "cell_type": "markdown",
   "metadata": {
    "collapsed": false
   },
   "source": [
    "# PaddlePaddle快速入门\n",
    "![](https://ai-studio-static-online.cdn.bcebos.com/466b717826ff438a917074f4e62ca844e5f291ca1f8b48d7b78838d513ad7536)\n",
    "\n",
    "学会使用深度学习框架是解决深度学习任务的基本能力，这里我们推荐成熟易用的国产开源框架PaddlePaddle。以下内容将带你你快速入门PaddlePaddle，你可以尝试跑通一个小demo来熟悉PaddlePaddle的基本命令。"
   ]
  },
  {
   "cell_type": "markdown",
   "metadata": {
    "collapsed": false
   },
   "source": [
    "# PaddlePaddle基础命令\n",
    "PaddlePaddle是百度开源的深度学习框架，类似的深度学习框架还有谷歌的Tensorflow、Facebook的Pytorch等，在入门深度学习时，学会并使用一门常见的框架，可以让学习效率大大提升。在PaddlePaddle中，计算的对象是张量，我们可以先使用PaddlePaddle来计算一个[[1, 1], [1, 1]] * [[1, 1], [1, 1]]。\n",
    "\n",
    "## 计算常量的加法：1+1\n",
    "首先导入PaddlePaddle库\n"
   ]
  },
  {
   "cell_type": "code",
   "execution_count": 5,
   "metadata": {
    "collapsed": false
   },
   "outputs": [
    {
     "data": {
      "text/plain": [
       "'2.1.2'"
      ]
     },
     "execution_count": 5,
     "metadata": {},
     "output_type": "execute_result"
    }
   ],
   "source": [
    "import paddle\n",
    "\n",
    "paddle.__version__"
   ]
  },
  {
   "cell_type": "markdown",
   "metadata": {
    "collapsed": false
   },
   "source": [
    "定义两个张量的常量x1和x2，并指定它们的形状是[2, 2]，并赋值为1铺满整个张量，类型为int64."
   ]
  },
  {
   "cell_type": "code",
   "execution_count": 6,
   "metadata": {
    "collapsed": false
   },
   "outputs": [],
   "source": [
    "# 定义两个张量\n",
    "x1 = paddle.ones([2,2], dtype='int64')\n",
    "x2 = paddle.ones([2,2], dtype='int64')"
   ]
  },
  {
   "cell_type": "markdown",
   "metadata": {
    "collapsed": false
   },
   "source": [
    "接着定义一个操作，该计算是将上面两个张量进行加法计算，并返回一个求和的算子。PaddlePaddle提供了大量的操作，比如加减乘除、三角函数等。"
   ]
  },
  {
   "cell_type": "code",
   "execution_count": 7,
   "metadata": {
    "collapsed": false
   },
   "outputs": [
    {
     "name": "stdout",
     "output_type": "stream",
     "text": [
      "Tensor(shape=[2, 2], dtype=int64, place=CPUPlace, stop_gradient=True,\n",
      "       [[2, 2],\n",
      "        [2, 2]])\n"
     ]
    }
   ],
   "source": [
    "# 将两个张量求和\n",
    "y1 = paddle.add(x1, x2)\n",
    "\n",
    "# 查看结果\n",
    "print(y1)"
   ]
  },
  {
   "cell_type": "markdown",
   "metadata": {
    "collapsed": false
   },
   "source": [
    "# 使用PaddlePaddle做线性回归\n",
    "\n",
    "在上面的教学中，教大家学会用PaddlePaddle做基本的算子运算，下面来教大家如何用PaddlePaddle来做简单的线性回归，包括从定义网络到使用自定义的数据进行训练，最后验证我们网络的预测能力。\n",
    "\n",
    "首先导入PaddlePaddle库和一些工具类库。"
   ]
  },
  {
   "cell_type": "code",
   "execution_count": 8,
   "metadata": {
    "collapsed": false
   },
   "outputs": [
    {
     "data": {
      "text/plain": [
       "'2.1.2'"
      ]
     },
     "execution_count": 8,
     "metadata": {},
     "output_type": "execute_result"
    }
   ],
   "source": [
    "import paddle\n",
    "import numpy as np\n",
    "\n",
    "paddle.__version__"
   ]
  },
  {
   "cell_type": "markdown",
   "metadata": {
    "collapsed": false
   },
   "source": [
    "我们使用numpy定义一组数据，这组数据的每一条数据有13个，为了做示例，其中除了第一个数外都填充了0。这组数据是符合y = 2 * x + 1，但是程序是不知道的，我们之后使用这组数据进行训练，看看强大的神经网络是否能够训练出一个拟合这个函数的模型。最后定义了一个预测数据，是在训练完成，使用这个数据作为x输入，看是否能够预测于正确值相近结果。"
   ]
  },
  {
   "cell_type": "code",
   "execution_count": 9,
   "metadata": {
    "collapsed": false
   },
   "outputs": [],
   "source": [
    "# 定义训练和测试数据\n",
    "x_data = np.array([[1.0, 0.0, 0.0, 0.0, 0.0, 0.0, 0.0, 0.0, 0.0, 0.0, 0.0, 0.0, 0.0], \n",
    "                   [2.0, 0.0, 0.0, 0.0, 0.0, 0.0, 0.0, 0.0, 0.0, 0.0, 0.0, 0.0, 0.0], \n",
    "                   [3.0, 0.0, 0.0, 0.0, 0.0, 0.0, 0.0, 0.0, 0.0, 0.0, 0.0, 0.0, 0.0], \n",
    "                   [4.0, 0.0, 0.0, 0.0, 0.0, 0.0, 0.0, 0.0, 0.0, 0.0, 0.0, 0.0, 0.0], \n",
    "                   [5.0, 0.0, 0.0, 0.0, 0.0, 0.0, 0.0, 0.0, 0.0, 0.0, 0.0, 0.0, 0.0]]).astype('float32')\n",
    "y_data = np.array([[3.0], [5.0], [7.0], [9.0], [11.0]]).astype('float32')\n",
    "test_data = np.array([[6.0, 0.0, 0.0, 0.0, 0.0, 0.0, 0.0, 0.0, 0.0, 0.0, 0.0, 0.0, 0.0]]).astype('float32')"
   ]
  },
  {
   "cell_type": "markdown",
   "metadata": {
    "collapsed": false
   },
   "source": [
    "定义一个简单的线性网络，这个网络非常简单，结构是：\n",
    "```text\n",
    "[输入层] --> [隐层] --> [激活函数] --> [输出层]\n",
    "```\n",
    "\n",
    "更具体的就是一个输出大小为100的全连接层、之后接激活函数ReLU和一个输出大小为1的全连接层，就这样构建了一个非常简单的网络。\n",
    "\n",
    "这里定义输入层的形状为13，这是因为波士顿房价数据集的每条数据有13个属性，我们之后自定义的数据集也是为了符合这一个维度。"
   ]
  },
  {
   "cell_type": "code",
   "execution_count": 10,
   "metadata": {
    "collapsed": false
   },
   "outputs": [],
   "source": [
    "# 定义一个简单的线性网络\n",
    "net = paddle.nn.Sequential(\n",
    "    paddle.nn.Linear(13, 100),\n",
    "    paddle.nn.ReLU(),\n",
    "    paddle.nn.Linear(100, 1)\n",
    ")"
   ]
  },
  {
   "cell_type": "markdown",
   "metadata": {
    "collapsed": false
   },
   "source": [
    "接着是定义训练使用的优化方法，这里使用的是随机梯度下降优化方法。PaddlePaddle提供了大量的优化函数接口，除了本项目使用的随机梯度下降法（SGD），还有Momentum、Adagrad、Adagrad等等，读者可以更加自己项目的需求使用不同的优化方法。"
   ]
  },
  {
   "cell_type": "code",
   "execution_count": 11,
   "metadata": {
    "collapsed": false
   },
   "outputs": [],
   "source": [
    "# 定义优化方法\n",
    "optimizer = paddle.optimizer.SGD(learning_rate=0.01, parameters=net.parameters())"
   ]
  },
  {
   "cell_type": "markdown",
   "metadata": {
    "collapsed": false
   },
   "source": [
    "我们可以使用数据进行训练了，我们这次训练了10个pass，读者可根据情况设置更多的训练轮数，通常来说训练的次数和模型收敛有一定的关系。\n",
    "\n",
    "因为本项目是一个线性回归任务，所以我们在训练的时候使用的是平方差损失函数。因为`paddle.nn.functional.square_error_cost`求的是一个Batch的损失值，所以我们还要对他求一个平均值。PaddlePaddle提供了很多的损失函数的接口，比如交叉熵损失函数`paddle.nn.CrossEntropyLoss`。\n",
    "\n",
    "在训练过程中，我们可以看到输出的损失值在不断减小，证明我们的模型在不断收敛。"
   ]
  },
  {
   "cell_type": "code",
   "execution_count": 12,
   "metadata": {
    "collapsed": false
   },
   "outputs": [
    {
     "name": "stdout",
     "output_type": "stream",
     "text": [
      "Pass:0, Cost:59.79158\n",
      "Pass:1, Cost:19.42874\n",
      "Pass:2, Cost:3.69929\n",
      "Pass:3, Cost:0.12066\n",
      "Pass:4, Cost:0.02968\n",
      "Pass:5, Cost:0.02904\n",
      "Pass:6, Cost:0.02843\n",
      "Pass:7, Cost:0.02784\n",
      "Pass:8, Cost:0.02726\n",
      "Pass:9, Cost:0.02669\n"
     ]
    }
   ],
   "source": [
    "# 将numpy类型数据转换成tensor之后才能用于模型训练\n",
    "inputs = paddle.to_tensor(x_data)\n",
    "labels = paddle.to_tensor(y_data)\n",
    "\n",
    "# 开始训练100个pass\n",
    "for pass_id in range(10):\n",
    "    out = net(inputs)\n",
    "    loss = paddle.mean(paddle.nn.functional.square_error_cost(out, labels))\n",
    "\n",
    "    loss.backward()\n",
    "    optimizer.step()\n",
    "    optimizer.clear_grad()\n",
    "\n",
    "    print(\"Pass:%d, Cost:%0.5f\" % (pass_id, loss))"
   ]
  },
  {
   "cell_type": "markdown",
   "metadata": {
    "collapsed": false
   },
   "source": [
    "训练完成之后，我们使用上面克隆主程序得到的预测程序了预测我们刚才定义的预测数据。根据我们上面定义数据时，满足规律y = 2 * x + 1，所以当x为6时，y应该时13，最后输出的结果也是应该接近13的。"
   ]
  },
  {
   "cell_type": "code",
   "execution_count": 13,
   "metadata": {
    "collapsed": false
   },
   "outputs": [
    {
     "name": "stdout",
     "output_type": "stream",
     "text": [
      "当x为6.0时，y为：13.24943\n"
     ]
    }
   ],
   "source": [
    "# 开始预测\n",
    "predict_inputs = paddle.to_tensor(test_data)\n",
    "result = net(predict_inputs)\n",
    "\n",
    "print(\"当x为6.0时，y为：%0.5f\" % result)"
   ]
  },
  {
   "cell_type": "markdown",
   "metadata": {
    "collapsed": false
   },
   "source": [
    "# 快来上手第一个Demo吧！——用PaddlePaddle做房价预测"
   ]
  },
  {
   "cell_type": "markdown",
   "metadata": {
    "collapsed": false
   },
   "source": [
    "# **Step1：准备数据。**\n",
    "\n",
    "- 1. uci-housing数据集介绍\n",
    "\n",
    "数据集共506行,每行14列。前13列用来描述房屋的各种信息，最后一列为该类房屋价格中位数。\n",
    "\n",
    "PaddlePaddle提供了读取uci_housing数据集的接口，`paddle.text.datasets.UCIHousing`。\n",
    "\n",
    "- 2. 数据集加载\n",
    "\n",
    "PaddlePaddle中使用`paddle.io.DataLoader`来进行数据的加载操作，通过参数batch_size控制批次大小，shuffle控制是否打乱顺序。"
   ]
  },
  {
   "cell_type": "code",
   "execution_count": 32,
   "metadata": {
    "collapsed": false
   },
   "outputs": [],
   "source": [
    "# 导入基本的库\n",
    "import os\n",
    "import paddle\n",
    "import numpy as np\n",
    "\n",
    "\n",
    "BATCH_SIZE=20\n",
    "\n",
    "train_dataset = paddle.text.datasets.UCIHousing(mode='train')\n",
    "valid_dataset = paddle.text.datasets.UCIHousing(mode='test')\n",
    "\n",
    "#用于训练的数据加载器，每次随机读取批次大小的数据，剩余不满足批大小的数据丢弃\n",
    "train_loader = paddle.io.DataLoader(train_dataset, batch_size=BATCH_SIZE, shuffle=True, drop_last=True)\n",
    "\n",
    "#用于测试的数据加载器，每次随机读取批次大小的数据\n",
    "valid_loader = paddle.io.DataLoader(valid_dataset, batch_size=BATCH_SIZE, shuffle=True)"
   ]
  },
  {
   "cell_type": "markdown",
   "metadata": {
    "collapsed": false
   },
   "source": [
    "打印查看uci_housing数据"
   ]
  },
  {
   "cell_type": "code",
   "execution_count": 33,
   "metadata": {
    "collapsed": false
   },
   "outputs": [
    {
     "name": "stdout",
     "output_type": "stream",
     "text": [
      "(array([-0.0405441 ,  0.06636363, -0.32356226, -0.06916996, -0.03435197,\n",
      "        0.05563625, -0.03475696,  0.02682186, -0.37171334, -0.21419305,\n",
      "       -0.33569506,  0.10143217, -0.21172912], dtype=float32), array([24.], dtype=float32))\n"
     ]
    }
   ],
   "source": [
    "#用于打印，查看uci_housing数据\r\n",
    "print(train_dataset[0])"
   ]
  },
  {
   "cell_type": "markdown",
   "metadata": {
    "collapsed": false
   },
   "source": [
    "# **Step2:网络配置**\n",
    "\n",
    "**（1）网络搭建**：对于线性回归来讲，它就是一个从输入到输出的简单的全连接层。\n",
    "\n",
    "对于波士顿房价数据集，假设属性和房价之间的关系可以被属性间的线性组合描述。\n",
    "\n",
    "![](https://ai-studio-static-online.cdn.bcebos.com/f3f567e7aa7a499fb3abb767aaaa1b943eed373cf4694d87beb382e161ea8edc)\n",
    "\n",
    "![](https://ai-studio-static-online.cdn.bcebos.com/f6c44a96e1624828829bbd438c29c17ead9ecc45c68b4310bfbbb0a4dc96c3fe)\n",
    "\n"
   ]
  },
  {
   "cell_type": "code",
   "execution_count": 34,
   "metadata": {
    "collapsed": false
   },
   "outputs": [],
   "source": [
    "# 输入数据形状为[13]，输出形状[1]\r\n",
    "net = paddle.nn.Linear(13, 1)"
   ]
  },
  {
   "cell_type": "markdown",
   "metadata": {
    "collapsed": false
   },
   "source": [
    "**(2)定义损失函数**\n",
    "\n",
    "此处使用均方差损失函数。\n",
    "\n",
    "square_error_cost(input,lable):接受输入预测值和目标值，并返回方差估计,即为（y-y_predict）的平方"
   ]
  },
  {
   "cell_type": "markdown",
   "metadata": {
    "collapsed": false
   },
   "source": [
    "**(3)定义优化函数**\n",
    "\n",
    "此处使用的是随机梯度下降。"
   ]
  },
  {
   "cell_type": "code",
   "execution_count": 35,
   "metadata": {
    "collapsed": false
   },
   "outputs": [],
   "source": [
    "optimizer = paddle.optimizer.SGD(learning_rate=0.001, parameters=net.parameters())"
   ]
  },
  {
   "cell_type": "markdown",
   "metadata": {
    "collapsed": false
   },
   "source": [
    "# **Step3.模型训练** and **Step4.模型评估**"
   ]
  },
  {
   "cell_type": "markdown",
   "metadata": {
    "collapsed": false
   },
   "source": [
    "**（1）定义绘制训练过程的损失值变化趋势的方法draw_train_process**"
   ]
  },
  {
   "cell_type": "code",
   "execution_count": 36,
   "metadata": {
    "collapsed": false
   },
   "outputs": [],
   "source": [
    "import matplotlib.pyplot as plt\r\n",
    "\r\n",
    "\r\n",
    "iter = 0\r\n",
    "iters = []\r\n",
    "train_costs = []\r\n",
    "\r\n",
    "def draw_train_process(iters, train_costs):\r\n",
    "    title=\"training cost\"\r\n",
    "    plt.title(title, fontsize=24)\r\n",
    "    plt.xlabel(\"iter\", fontsize=14)\r\n",
    "    plt.ylabel(\"cost\", fontsize=14)\r\n",
    "    plt.plot(iters, train_costs, color='red', label='training cost') \r\n",
    "    plt.grid()\r\n",
    "    plt.show()"
   ]
  },
  {
   "cell_type": "markdown",
   "metadata": {
    "collapsed": false
   },
   "source": [
    "**（2）训练并保存模型**\n",
    "\n",
    "遍历轮次和数据集loader，将批次数据送入net里面进行计算，最终经过loss计算，在进行反向传播和参数优化。\n",
    "\n",
    "注：enumerate() 函数用于将一个可遍历的数据对象(如列表、元组或字符串)组合为一个索引序列，同时列出数据和数据下标，"
   ]
  },
  {
   "cell_type": "code",
   "execution_count": 37,
   "metadata": {
    "collapsed": false
   },
   "outputs": [
    {
     "name": "stdout",
     "output_type": "stream",
     "text": [
      "Pass:0, Cost:518.33130\n",
      "Test:0, Cost:70.12001\n",
      "Pass:1, Cost:664.44934\n",
      "Test:1, Cost:232.93411\n",
      "Pass:2, Cost:677.64429\n",
      "Test:2, Cost:164.07687\n",
      "Pass:3, Cost:328.76154\n",
      "Test:3, Cost:244.68904\n",
      "Pass:4, Cost:506.97089\n",
      "Test:4, Cost:109.99494\n",
      "Pass:5, Cost:601.20441\n",
      "Test:5, Cost:191.15268\n",
      "Pass:6, Cost:255.98445\n",
      "Test:6, Cost:138.24420\n",
      "Pass:7, Cost:327.20792\n",
      "Test:7, Cost:160.71399\n",
      "Pass:8, Cost:397.79727\n",
      "Test:8, Cost:55.34387\n",
      "Pass:9, Cost:318.53024\n",
      "Test:9, Cost:101.11332\n",
      "Pass:10, Cost:375.81226\n",
      "Test:10, Cost:59.23970\n",
      "Pass:11, Cost:151.54128\n",
      "Test:11, Cost:100.27298\n",
      "Pass:12, Cost:302.66760\n",
      "Test:12, Cost:161.80023\n",
      "Pass:13, Cost:338.98981\n",
      "Test:13, Cost:146.37219\n",
      "Pass:14, Cost:358.78113\n",
      "Test:14, Cost:95.79240\n",
      "Pass:15, Cost:250.38554\n",
      "Test:15, Cost:37.45445\n",
      "Pass:16, Cost:159.32510\n",
      "Test:16, Cost:218.91922\n",
      "Pass:17, Cost:180.01738\n",
      "Test:17, Cost:50.84778\n",
      "Pass:18, Cost:214.17838\n",
      "Test:18, Cost:9.02155\n",
      "Pass:19, Cost:164.47644\n",
      "Test:19, Cost:77.38618\n",
      "Pass:20, Cost:64.16972\n",
      "Test:20, Cost:41.33039\n",
      "Pass:21, Cost:127.71362\n",
      "Test:21, Cost:24.29936\n",
      "Pass:22, Cost:141.86595\n",
      "Test:22, Cost:34.78854\n",
      "Pass:23, Cost:164.94455\n",
      "Test:23, Cost:46.22329\n",
      "Pass:24, Cost:150.71497\n",
      "Test:24, Cost:4.38187\n",
      "Pass:25, Cost:127.42433\n",
      "Test:25, Cost:8.01297\n",
      "Pass:26, Cost:129.60251\n",
      "Test:26, Cost:30.98365\n",
      "Pass:27, Cost:110.82170\n",
      "Test:27, Cost:36.98291\n",
      "Pass:28, Cost:129.91949\n",
      "Test:28, Cost:11.60146\n",
      "Pass:29, Cost:167.07034\n",
      "Test:29, Cost:10.14493\n",
      "Pass:30, Cost:131.93933\n",
      "Test:30, Cost:22.24308\n",
      "Pass:31, Cost:88.84603\n",
      "Test:31, Cost:12.35242\n",
      "Pass:32, Cost:107.75179\n",
      "Test:32, Cost:24.46233\n",
      "Pass:33, Cost:153.28197\n",
      "Test:33, Cost:20.02575\n",
      "Pass:34, Cost:128.94601\n",
      "Test:34, Cost:20.30926\n",
      "Pass:35, Cost:137.44469\n",
      "Test:35, Cost:28.92428\n",
      "Pass:36, Cost:60.13037\n",
      "Test:36, Cost:36.05735\n",
      "Pass:37, Cost:32.53410\n",
      "Test:37, Cost:24.16826\n",
      "Pass:38, Cost:51.55521\n",
      "Test:38, Cost:45.65979\n",
      "Pass:39, Cost:52.63685\n",
      "Test:39, Cost:11.96319\n",
      "Pass:40, Cost:143.07114\n",
      "Test:40, Cost:37.17185\n",
      "Pass:41, Cost:32.34135\n",
      "Test:41, Cost:1.97166\n",
      "Pass:42, Cost:103.18767\n",
      "Test:42, Cost:52.56680\n",
      "Pass:43, Cost:82.47974\n",
      "Test:43, Cost:14.22100\n",
      "Pass:44, Cost:78.89996\n",
      "Test:44, Cost:13.17399\n",
      "Pass:45, Cost:70.91943\n",
      "Test:45, Cost:100.40662\n",
      "Pass:46, Cost:192.17029\n",
      "Test:46, Cost:4.34407\n",
      "Pass:47, Cost:24.83494\n",
      "Test:47, Cost:15.21050\n",
      "Pass:48, Cost:56.35394\n",
      "Test:48, Cost:11.63828\n",
      "Pass:49, Cost:29.46546\n",
      "Test:49, Cost:7.27064\n"
     ]
    },
    {
     "data": {
      "image/png": "[encoded data removed]",
      "text/plain": [
       "<Figure size 432x288 with 1 Axes>"
      ]
     },
     "metadata": {},
     "output_type": "display_data"
    }
   ],
   "source": [
    "EPOCH_NUM=50\r\n",
    "\r\n",
    "#训练EPOCH_NUM轮\r\n",
    "for pass_id in range(EPOCH_NUM):                                  \r\n",
    "    # 开始训练并输出最后一个batch的损失值\r\n",
    "    train_cost = 0\r\n",
    "\r\n",
    "    #遍历train_reader迭代器\r\n",
    "    for batch_id, data in enumerate(train_loader()):\r\n",
    "        inputs = paddle.to_tensor(data[0])\r\n",
    "        labels = paddle.to_tensor(data[1])\r\n",
    "        out = net(inputs)\r\n",
    "        train_loss = paddle.mean(paddle.nn.functional.square_error_cost(out, labels))\r\n",
    "        train_loss.backward()\r\n",
    "        optimizer.step()\r\n",
    "        optimizer.clear_grad()\r\n",
    "\r\n",
    "        #每运行40步，输出一次信息,\r\n",
    "        #注意batch_id=0时也输出, 即 0, 40, 80, ...\r\n",
    "        if batch_id % 40 == 0:\r\n",
    "            print(\"Pass:%d, Cost:%0.5f\" % (pass_id, train_loss))    \r\n",
    "        \r\n",
    "        iter = iter + BATCH_SIZE\r\n",
    "        iters.append(iter)\r\n",
    "        train_costs.append(train_loss.numpy()[0])\r\n",
    "       \r\n",
    "    # 开始测试并输出最后一个batch的损失值\r\n",
    "    test_loss = 0\r\n",
    "\r\n",
    "    #遍历test_reader迭代器\r\n",
    "    for batch_id, data in enumerate(valid_loader()):               \r\n",
    "        inputs = paddle.to_tensor(data[0])\r\n",
    "        labels = paddle.to_tensor(data[1])\r\n",
    "        out = net(inputs)\r\n",
    "        test_loss = paddle.mean(paddle.nn.functional.square_error_cost(out, labels))\r\n",
    "        \r\n",
    "    #打印最后一个batch的损失值\r\n",
    "    print('Test:%d, Cost:%0.5f' % (pass_id, test_loss))     \r\n",
    "    \r\n",
    "#保存模型\r\n",
    "paddle.save(net.state_dict(), 'fit_a_line.pdparams')\r\n",
    "\r\n",
    "draw_train_process(iters,train_costs)"
   ]
  },
  {
   "cell_type": "markdown",
   "metadata": {
    "collapsed": false
   },
   "source": [
    "# **Step5.模型预测**\n",
    "\n",
    "**(1)可视化真实值与预测值方法定义**"
   ]
  },
  {
   "cell_type": "code",
   "execution_count": 20,
   "metadata": {
    "collapsed": false
   },
   "outputs": [],
   "source": [
    "infer_results = []\r\n",
    "groud_truths = []\r\n",
    "\r\n",
    "#绘制真实值和预测值对比图\r\n",
    "def draw_infer_result(groud_truths, infer_results):\r\n",
    "    title='Boston'\r\n",
    "    plt.title(title, fontsize=24)\r\n",
    "    x = np.arange(1,20) \r\n",
    "    y = x\r\n",
    "    plt.plot(x, y)\r\n",
    "    plt.xlabel('ground truth', fontsize=14)\r\n",
    "    plt.ylabel('infer result', fontsize=14)\r\n",
    "    plt.scatter(groud_truths, infer_results, color='green',label='training cost') \r\n",
    "    plt.grid()\r\n",
    "    plt.show()"
   ]
  },
  {
   "cell_type": "markdown",
   "metadata": {
    "collapsed": false
   },
   "source": [
    "**(2)开始预测**\n",
    "\n",
    "通过paddle.load加载已经训练好的模型，来对从未遇见过的数据进行预测。"
   ]
  },
  {
   "cell_type": "code",
   "execution_count": 21,
   "metadata": {
    "collapsed": false
   },
   "outputs": [
    {
     "name": "stdout",
     "output_type": "stream",
     "text": [
      "Index:0, Infer Result: 14.40, Ground Truth: 8.50\n",
      "Index:1, Infer Result: 14.73, Ground Truth: 5.00\n",
      "Index:2, Infer Result: 14.09, Ground Truth: 11.90\n",
      "Index:3, Infer Result: 15.28, Ground Truth: 27.90\n",
      "Index:4, Infer Result: 14.56, Ground Truth: 17.20\n",
      "Index:5, Infer Result: 14.95, Ground Truth: 27.50\n",
      "Index:6, Infer Result: 14.33, Ground Truth: 15.00\n",
      "Index:7, Infer Result: 14.23, Ground Truth: 17.20\n",
      "Index:8, Infer Result: 12.51, Ground Truth: 17.90\n",
      "Index:9, Infer Result: 14.29, Ground Truth: 16.30\n",
      "Index:10, Infer Result: 12.27, Ground Truth: 7.00\n",
      "Index:11, Infer Result: 13.43, Ground Truth: 7.20\n",
      "Index:12, Infer Result: 13.88, Ground Truth: 7.50\n",
      "Index:13, Infer Result: 13.58, Ground Truth: 10.40\n",
      "Index:14, Infer Result: 13.63, Ground Truth: 8.80\n",
      "Index:15, Infer Result: 14.26, Ground Truth: 8.40\n",
      "Index:16, Infer Result: 15.28, Ground Truth: 16.70\n",
      "Index:17, Infer Result: 15.12, Ground Truth: 14.20\n",
      "Index:18, Infer Result: 15.30, Ground Truth: 20.80\n",
      "Index:19, Infer Result: 13.89, Ground Truth: 13.40\n",
      "Index:20, Infer Result: 14.28, Ground Truth: 11.70\n",
      "Index:21, Infer Result: 13.45, Ground Truth: 8.30\n",
      "Index:22, Infer Result: 14.70, Ground Truth: 10.20\n",
      "Index:23, Infer Result: 14.41, Ground Truth: 10.90\n",
      "Index:24, Infer Result: 14.32, Ground Truth: 11.00\n",
      "Index:25, Infer Result: 13.90, Ground Truth: 9.50\n",
      "Index:26, Infer Result: 14.71, Ground Truth: 14.50\n",
      "Index:27, Infer Result: 14.69, Ground Truth: 14.10\n",
      "Index:28, Infer Result: 15.28, Ground Truth: 16.10\n",
      "Index:29, Infer Result: 14.56, Ground Truth: 14.30\n",
      "Index:30, Infer Result: 14.42, Ground Truth: 11.70\n",
      "Index:31, Infer Result: 14.10, Ground Truth: 13.40\n",
      "Index:32, Infer Result: 14.04, Ground Truth: 9.60\n",
      "Index:33, Infer Result: 13.24, Ground Truth: 8.70\n",
      "Index:34, Infer Result: 13.07, Ground Truth: 8.40\n",
      "Index:35, Infer Result: 14.78, Ground Truth: 12.80\n",
      "Index:36, Infer Result: 14.90, Ground Truth: 10.50\n",
      "Index:37, Infer Result: 15.25, Ground Truth: 17.10\n",
      "Index:38, Infer Result: 15.34, Ground Truth: 18.40\n",
      "Index:39, Infer Result: 15.29, Ground Truth: 15.40\n",
      "Index:40, Infer Result: 14.19, Ground Truth: 10.80\n",
      "Index:41, Infer Result: 13.73, Ground Truth: 11.80\n",
      "Index:42, Infer Result: 15.08, Ground Truth: 14.90\n",
      "Index:43, Infer Result: 15.38, Ground Truth: 12.60\n",
      "Index:44, Infer Result: 15.33, Ground Truth: 14.10\n",
      "Index:45, Infer Result: 15.01, Ground Truth: 13.00\n",
      "Index:46, Infer Result: 14.19, Ground Truth: 13.40\n",
      "Index:47, Infer Result: 15.41, Ground Truth: 15.20\n",
      "Index:48, Infer Result: 15.47, Ground Truth: 16.10\n",
      "Index:49, Infer Result: 15.87, Ground Truth: 17.80\n",
      "Index:50, Infer Result: 14.11, Ground Truth: 14.90\n",
      "Index:51, Infer Result: 14.32, Ground Truth: 14.10\n",
      "Index:52, Infer Result: 13.85, Ground Truth: 12.70\n",
      "Index:53, Infer Result: 14.02, Ground Truth: 13.50\n",
      "Index:54, Infer Result: 15.21, Ground Truth: 14.90\n",
      "Index:55, Infer Result: 15.67, Ground Truth: 20.00\n",
      "Index:56, Infer Result: 15.24, Ground Truth: 16.40\n",
      "Index:57, Infer Result: 15.74, Ground Truth: 17.70\n",
      "Index:58, Infer Result: 15.84, Ground Truth: 19.50\n",
      "Index:59, Infer Result: 16.05, Ground Truth: 20.20\n",
      "Index:60, Infer Result: 16.20, Ground Truth: 21.40\n",
      "Index:61, Infer Result: 15.93, Ground Truth: 19.90\n",
      "Index:62, Infer Result: 14.18, Ground Truth: 19.00\n",
      "Index:63, Infer Result: 15.19, Ground Truth: 19.10\n",
      "Index:64, Infer Result: 15.79, Ground Truth: 19.10\n",
      "Index:65, Infer Result: 16.18, Ground Truth: 20.10\n",
      "Index:66, Infer Result: 15.96, Ground Truth: 19.90\n",
      "Index:67, Infer Result: 16.22, Ground Truth: 19.60\n",
      "Index:68, Infer Result: 16.29, Ground Truth: 23.20\n",
      "Index:69, Infer Result: 16.63, Ground Truth: 29.80\n",
      "Index:70, Infer Result: 15.19, Ground Truth: 13.80\n",
      "Index:71, Infer Result: 14.94, Ground Truth: 13.30\n",
      "Index:72, Infer Result: 15.74, Ground Truth: 16.70\n",
      "Index:73, Infer Result: 14.61, Ground Truth: 12.00\n",
      "Index:74, Infer Result: 15.54, Ground Truth: 14.60\n",
      "Index:75, Infer Result: 15.97, Ground Truth: 21.40\n",
      "Index:76, Infer Result: 16.69, Ground Truth: 23.00\n",
      "Index:77, Infer Result: 16.95, Ground Truth: 23.70\n",
      "Index:78, Infer Result: 17.12, Ground Truth: 25.00\n",
      "Index:79, Infer Result: 16.80, Ground Truth: 21.80\n",
      "Index:80, Infer Result: 16.44, Ground Truth: 20.60\n",
      "Index:81, Infer Result: 16.74, Ground Truth: 21.20\n",
      "Index:82, Infer Result: 16.05, Ground Truth: 19.10\n",
      "Index:83, Infer Result: 16.48, Ground Truth: 20.60\n",
      "Index:84, Infer Result: 16.32, Ground Truth: 15.20\n",
      "Index:85, Infer Result: 15.69, Ground Truth: 7.00\n",
      "Index:86, Infer Result: 15.11, Ground Truth: 8.10\n",
      "Index:87, Infer Result: 16.46, Ground Truth: 13.60\n",
      "Index:88, Infer Result: 16.97, Ground Truth: 20.10\n",
      "Index:89, Infer Result: 20.40, Ground Truth: 21.80\n",
      "Index:90, Infer Result: 20.55, Ground Truth: 24.50\n",
      "Index:91, Infer Result: 20.36, Ground Truth: 23.10\n",
      "Index:92, Infer Result: 19.49, Ground Truth: 19.70\n",
      "Index:93, Infer Result: 20.12, Ground Truth: 18.30\n",
      "Index:94, Infer Result: 20.35, Ground Truth: 21.20\n",
      "Index:95, Infer Result: 19.91, Ground Truth: 17.50\n",
      "Index:96, Infer Result: 20.09, Ground Truth: 16.80\n",
      "Index:97, Infer Result: 21.17, Ground Truth: 22.40\n",
      "Index:98, Infer Result: 20.92, Ground Truth: 20.60\n",
      "Index:99, Infer Result: 21.32, Ground Truth: 23.90\n",
      "Index:100, Infer Result: 21.20, Ground Truth: 22.00\n",
      "Index:101, Infer Result: 20.90, Ground Truth: 11.90\n"
     ]
    },
    {
     "data": {
      "image/png": "[encoded data removed]",
      "text/plain": [
       "<Figure size 432x288 with 1 Axes>"
      ]
     },
     "metadata": {},
     "output_type": "display_data"
    }
   ],
   "source": [
    "import paddle\r\n",
    "import numpy as np\r\n",
    "import matplotlib.pyplot as plt\r\n",
    "\r\n",
    "\r\n",
    "valid_dataset = paddle.text.UCIHousing(mode='test')\r\n",
    "infer_loader = paddle.io.DataLoader(valid_dataset, batch_size=200)\r\n",
    "\r\n",
    "infer_net = paddle.nn.Linear(13, 1)\r\n",
    "param = paddle.load('fit_a_line.pdparams')\r\n",
    "infer_net.set_dict(param)\r\n",
    "\r\n",
    "\r\n",
    "data = next(infer_loader())\r\n",
    "inputs = paddle.to_tensor(data[0])\r\n",
    "results = infer_net(inputs)\r\n",
    "\r\n",
    "for idx, item in enumerate(zip(results, data[1])):\r\n",
    "    print(\"Index:%d, Infer Result: %.2f, Ground Truth: %.2f\" % (idx, item[0], item[1]))\r\n",
    "    infer_results.append(item[0].numpy()[0])\r\n",
    "    groud_truths.append(item[1].numpy()[0])\r\n",
    "    \r\n",
    "draw_infer_result(groud_truths, infer_results)"
   ]
  },
  {
   "cell_type": "markdown",
   "metadata": {
    "collapsed": false
   },
   "source": [
    "到这里你已经学会了PaddlePaddle的基本命令和第一个小例子！恭喜你已经入门啦~ 如果想学习更多入门内容欢迎查看AI Studio 上的更多内容，有精选项目，也有优质课程，加油哦！\n",
    "\n",
    "NLP12日打卡营即将开始，你准备好了吗！"
   ]
  }
 ],
 "metadata": {
  "kernelspec": {
   "display_name": "Python 3",
   "language": "python",
   "name": "py35-paddle1.2.0"
  },
  "language_info": {
   "codemirror_mode": {
    "name": "ipython",
    "version": 3
   },
   "file_extension": ".py",
   "mimetype": "text/x-python",
   "name": "python",
   "nbconvert_exporter": "python",
   "pygments_lexer": "ipython3",
   "version": "3.7.4"
  }
 },
 "nbformat": 4,
 "nbformat_minor": 1
}
