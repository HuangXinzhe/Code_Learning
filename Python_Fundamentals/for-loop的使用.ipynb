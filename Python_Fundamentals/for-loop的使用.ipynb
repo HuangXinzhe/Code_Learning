{
 "cells": [
  {
   "cell_type": "markdown",
   "metadata": {},
   "source": [
    "for val in sequence:\n",
    "    loop body"
   ]
  },
  {
   "cell_type": "code",
   "execution_count": 3,
   "metadata": {},
   "outputs": [
    {
     "name": "stdout",
     "output_type": "stream",
     "text": [
      "1\n",
      "2\n",
      "3\n",
      "4\n",
      "5\n",
      "6\n",
      "7\n",
      "8\n",
      "9\n",
      "10\n"
     ]
    }
   ],
   "source": [
    "# iterate the list and print out the numbers\n",
    "# List of numbers\n",
    "numbers = [1,2,3,4,5,6,7,8,9,10]\n",
    "# print(numbers[0])\n",
    "# print(numbers[1])\n",
    "for val in numbers: #\n",
    "    print (val)"
   ]
  },
  {
   "cell_type": "code",
   "execution_count": 6,
   "metadata": {},
   "outputs": [
    {
     "name": "stdout",
     "output_type": "stream",
     "text": [
      "a\n",
      "yes\n",
      "b\n",
      "yes\n",
      "c\n",
      "yes\n",
      "e\n",
      "yes\n",
      "f\n",
      "yes\n"
     ]
    }
   ],
   "source": [
    "terms = [\"a\",\"b\",\"c\",\"e\",\"f\"]\n",
    "\n",
    "for val in terms:\n",
    "    print (val)\n",
    "    print (\"yes\")\n",
    "\n",
    "val=\"a\"\n",
    "print(val)\n",
    "print(\"yes\")\n",
    "val=\"b\"\n",
    "print(val)\n",
    "print(\"yes\")\n",
    "val=\"c\"\n",
    "print(val)\n",
    "print(\"yes\")\n",
    "val=\"e\"\n",
    "print(val)\n",
    "print(\"yes\")\n",
    "val=\"f\"\n",
    "print(val)\n",
    "print(\"yes\")"
   ]
  },
  {
   "cell_type": "code",
   "execution_count": 7,
   "metadata": {},
   "outputs": [
    {
     "name": "stdout",
     "output_type": "stream",
     "text": [
      "55\n"
     ]
    }
   ],
   "source": [
    "numbers=[1,2,3,4,5,6,7,8,9,10]\n",
    "# sum of these numbers\n",
    "# print (numbers[0]+numbers[1]+...+numbers[9])\n",
    "sum = 0\n",
    "\n",
    "for val in numbers:\n",
    "    sum = sum + val\n",
    "print (sum)\n",
    "\n",
    "sum=0\n",
    "val=1\n",
    "sum=sum+val # sum=1\n",
    "val=2\n",
    "sum=sum+val # sum=3\n",
    "val=3\n",
    "sum=sum+val # sum=6\n",
    "...\n",
    "..."
   ]
  },
  {
   "cell_type": "code",
   "execution_count": 2,
   "metadata": {},
   "outputs": [
    {
     "name": "stdout",
     "output_type": "stream",
     "text": [
      "The sum is 48\n"
     ]
    }
   ],
   "source": [
    "# Program to find the sum of all numbers stored in a list\n",
    "\n",
    "# List of numbers\n",
    "numbers = [6, 5, 3, 8, 4, 2, 5, 4, 11]\n",
    "\n",
    "# variable to store the sum\n",
    "sum = 0\n",
    "\n",
    "# iterate over the list\n",
    "for val in numbers:\n",
    "    sum = sum+val\n",
    "\n",
    "print(\"The sum is\", sum)"
   ]
  },
  {
   "cell_type": "code",
   "execution_count": 8,
   "metadata": {},
   "outputs": [
    {
     "name": "stdout",
     "output_type": "stream",
     "text": [
      "1\n",
      "2\n",
      "3\n",
      "4\n",
      "5\n",
      "6\n",
      "7\n",
      "8\n",
      "9\n",
      "10\n"
     ]
    }
   ],
   "source": [
    "# iterate the list and print out the numbers\n",
    "# List of numbers\n",
    "numbers = [1,2,3,4,5,6,7,8,9,10]\n",
    "for i in range(10): # range(10) = [0,1,2,,4,5,6,7,8,9]\n",
    "    print (numbers[i])"
   ]
  },
  {
   "cell_type": "code",
   "execution_count": 12,
   "metadata": {},
   "outputs": [
    {
     "name": "stdout",
     "output_type": "stream",
     "text": [
      "123\n",
      "23\n",
      "1\n",
      "123\n",
      "23\n",
      "1\n",
      "5\n",
      "6\n"
     ]
    }
   ],
   "source": [
    "numbers = [123, 23, 1, 5, 6]\n",
    "for i in range(len(numbers)): # range(5) = [0,1,2,3,4]\n",
    "    print (numbers[i])\n",
    "    \n",
    "for val in numbers:\n",
    "    print (val)"
   ]
  },
  {
   "cell_type": "code",
   "execution_count": 13,
   "metadata": {},
   "outputs": [
    {
     "name": "stdout",
     "output_type": "stream",
     "text": [
      "9\n",
      "The sum is 48\n"
     ]
    }
   ],
   "source": [
    "# Program to find the sum of all numbers stored in a list\n",
    "\n",
    "# List of numbers\n",
    "numbers = [6, 5, 3, 8, 4, 2, 5, 4, 11]\n",
    "\n",
    "# variable to store the sum\n",
    "sum = 0\n",
    "\n",
    "# iterate over the list\n",
    "print (len(numbers))\n",
    "for i in range(len(numbers)):\n",
    "    sum = sum+numbers[i]\n",
    "\n",
    "print(\"The sum is\", sum)"
   ]
  },
  {
   "cell_type": "code",
   "execution_count": 16,
   "metadata": {},
   "outputs": [
    {
     "name": "stdout",
     "output_type": "stream",
     "text": [
      "[0, 1, 2, 3, 4, 5, 6, 7]\n",
      "[2, 3, 4, 5, 6, 7, 8, 9, 10, 11, 12, 13, 14, 15, 16, 17, 18, 19]\n",
      "[2, 4, 6, 8, 10, 12, 14, 16, 18]\n"
     ]
    }
   ],
   "source": [
    "print(list(range(8))) # 0,1,2,3,4,5,6,7\n",
    "print(list(range(2, 20))) # 2,3,4,5,6,7\n",
    "print(list(range(2, 20, 2))) #"
   ]
  },
  {
   "cell_type": "code",
   "execution_count": 23,
   "metadata": {},
   "outputs": [
    {
     "name": "stdout",
     "output_type": "stream",
     "text": [
      "5\n",
      "6\n",
      "7\n",
      "8\n",
      "9\n"
     ]
    }
   ],
   "source": [
    "# iterate the list and print out the numbers\n",
    "# List of numbers\n",
    "numbers = [1,2,3,4,5,6,7,8,9,10]\n",
    "for i in range(4,9): # 4,5,6,7,8\n",
    "    print (numbers[i])"
   ]
  },
  {
   "cell_type": "code",
   "execution_count": 24,
   "metadata": {},
   "outputs": [
    {
     "name": "stdout",
     "output_type": "stream",
     "text": [
      "3\n",
      "5\n",
      "7\n",
      "9\n"
     ]
    }
   ],
   "source": [
    "# iterate the list and print out the numbers\n",
    "# List of numbers\n",
    "numbers = [1,2,3,4,5,6,7,8,9,10]\n",
    "for i in range(2,10,2):# 2,4,6,8\n",
    "    print (numbers[i])"
   ]
  },
  {
   "cell_type": "code",
   "execution_count": 25,
   "metadata": {},
   "outputs": [
    {
     "name": "stdout",
     "output_type": "stream",
     "text": [
      "I like pop\n",
      "I like rock\n",
      "I like jazz\n"
     ]
    }
   ],
   "source": [
    "# Program to iterate through a list using indexing\n",
    "\n",
    "genre = ['pop', 'rock', 'jazz']\n",
    "\n",
    "# iterate over the list using index\n",
    "for i in range(len(genre)): # 0,1,2\n",
    "    print(\"I like\", genre[i])"
   ]
  },
  {
   "cell_type": "code",
   "execution_count": 26,
   "metadata": {},
   "outputs": [
    {
     "name": "stdout",
     "output_type": "stream",
     "text": [
      "1\n",
      "2\n",
      "3\n",
      "4\n",
      "5\n",
      "6\n"
     ]
    }
   ],
   "source": [
    "# iterate the list and print out the numbers\n",
    "# List of numbers\n",
    "numbers = [1,2,3,4,5,6,7,8,9,10]\n",
    "for i in range(len(numbers)):\n",
    "    if numbers[i]==7:\n",
    "        break\n",
    "    print (numbers[i])\n",
    "    \n",
    "# 1,2,3,4,5,6"
   ]
  },
  {
   "cell_type": "code",
   "execution_count": 5,
   "metadata": {},
   "outputs": [
    {
     "name": "stdout",
     "output_type": "stream",
     "text": [
      "45\n"
     ]
    }
   ],
   "source": [
    "numbers = [2,3,4]\n",
    "sum = 0\n",
    "for i in range(len(numbers)): # 0,1,2\n",
    "    for j in range(len(numbers)): # 0,1,2\n",
    "        for k in range(len(numbers)):\n",
    "            sum = sum + numbers[i]+numbers[j]\n",
    "\n",
    "\n",
    "i=0\n",
    "j=0\n",
    "sum=4\n",
    "j=1\n",
    "sum = sum + 5\n",
    "j=2\n",
    "sum=sum+numbers[0]+numbers[2] \n",
    "\n",
    "i=1\n",
    "j=0\n",
    "sum=sum+numbers[1]+numbers[0] \n",
    "j=1\n",
    "sum=sum+numbers[1]+numbers[0] \n",
    "j=2\n",
    "sum=sum+numbers[1]+numbers[0] \n",
    "\n",
    "i=2\n",
    "j=0\n",
    "sum=sum+numbers[1]+numbers[0] \n",
    "j=1\n",
    "sum=sum+numbers[1]+numbers[0] \n",
    "j=2\n",
    "sum=sum+numbers[1]+numbers[0] \n",
    "\n",
    "\n",
    "\n",
    "\n",
    "\n",
    "\n",
    "        \n",
    "print(sum) "
   ]
  },
  {
   "cell_type": "markdown",
   "metadata": {},
   "source": [
    "$\\sum_{i=1}^{10}\\sum_{j=1}^{10}(i+j)$"
   ]
  }
 ],
 "metadata": {
  "kernelspec": {
   "display_name": "Python 3",
   "language": "python",
   "name": "python3"
  },
  "language_info": {
   "codemirror_mode": {
    "name": "ipython",
    "version": 3
   },
   "file_extension": ".py",
   "mimetype": "text/x-python",
   "name": "python",
   "nbconvert_exporter": "python",
   "pygments_lexer": "ipython3",
   "version": "3.7.9"
  }
 },
 "nbformat": 4,
 "nbformat_minor": 2
}
