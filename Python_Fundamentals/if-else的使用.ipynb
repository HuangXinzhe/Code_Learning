{
 "cells": [
  {
   "cell_type": "code",
   "execution_count": 2,
   "metadata": {},
   "outputs": [
    {
     "name": "stdout",
     "output_type": "stream",
     "text": [
      "3 is a positive number.\n",
      "This is always printed.\n",
      "This is also always printed.\n"
     ]
    }
   ],
   "source": [
    "# If the number is positive, we print an appropriate message\n",
    "\n",
    "num = 3\n",
    "if num > 0:\n",
    "    print(num, \"is a positive number.\")\n",
    "print(\"This is always printed.\")\n",
    "\n",
    "num = -1\n",
    "if num > 0:\n",
    "    print(num, \"is a positive number.\")\n",
    "print(\"This is also always printed.\")"
   ]
  },
  {
   "cell_type": "code",
   "execution_count": null,
   "metadata": {},
   "outputs": [],
   "source": [
    "if test expression:\n",
    "    Body of if\n",
    "else:\n",
    "    Body of else"
   ]
  },
  {
   "cell_type": "code",
   "execution_count": 4,
   "metadata": {},
   "outputs": [
    {
     "name": "stdout",
     "output_type": "stream",
     "text": [
      "no\n"
     ]
    }
   ],
   "source": [
    "num = 3\n",
    "if num > 3:\n",
    "    print (\"yes\")\n",
    "else: # <=3\n",
    "    print (\"no\")"
   ]
  },
  {
   "cell_type": "code",
   "execution_count": 5,
   "metadata": {},
   "outputs": [
    {
     "name": "stdout",
     "output_type": "stream",
     "text": [
      "stay at home\n"
     ]
    }
   ],
   "source": [
    "weather = \"hot\"\n",
    "\n",
    "if weather==\"sunny\":\n",
    "    print (\"outdoor activity\")\n",
    "elif weather==\"rainy\":\n",
    "    print (\"stay at home\")\n",
    "elif weather==\"hot\":\n",
    "    print (\"take a shower\")\n",
    "elif weather==\"cold\":\n",
    "    print (\"buy a jacket\")\n",
    "else:\n",
    "    print (\"go to work\")"
   ]
  },
  {
   "cell_type": "code",
   "execution_count": 7,
   "metadata": {},
   "outputs": [
    {
     "name": "stdout",
     "output_type": "stream",
     "text": [
      "Negative number\n"
     ]
    }
   ],
   "source": [
    "'''In this program, \n",
    "we check if the number is positive or\n",
    "negative or zero and \n",
    "display an appropriate message'''\n",
    "\n",
    "num = -3.4 # float\n",
    "\n",
    "if num > 0:\n",
    "    print(\"Positive number\")\n",
    "elif num == 0:\n",
    "    print(\"Zero\")\n",
    "else: # <= 0 \n",
    "    print(\"Negative number\")"
   ]
  },
  {
   "cell_type": "code",
   "execution_count": 9,
   "metadata": {},
   "outputs": [
    {
     "name": "stdout",
     "output_type": "stream",
     "text": [
      "Enter a number: -4\n",
      "Negative number\n"
     ]
    }
   ],
   "source": [
    "num = float(input(\"Enter a number: \"))\n",
    "if num >= 0: # True or False\n",
    "    if num == 0:\n",
    "        print(\"Zero\")\n",
    "    else:\n",
    "        print(\"Positive number\")\n",
    "else:\n",
    "    print(\"Negative number\")"
   ]
  },
  {
   "cell_type": "code",
   "execution_count": 12,
   "metadata": {},
   "outputs": [
    {
     "name": "stdout",
     "output_type": "stream",
     "text": [
      "yes\n"
     ]
    }
   ],
   "source": [
    "terms=[\"machine\", \"learning\", \"ai\"]\n",
    "if \"learning\" in terms: # machine is in terms?\n",
    "    print (\"yes\")"
   ]
  },
  {
   "cell_type": "markdown",
   "metadata": {},
   "source": [
    "logic rules:\n",
    "\n",
    "\"and\" table\n",
    "1.     2.   results\n",
    "True   True.  True\n",
    "True.  False  False\n",
    "False  True.  False\n",
    "False. False. False\n",
    "\n",
    "\"or\" table\n",
    "1.     2.   results\n",
    "True   True  True\n",
    "True.  False True\n",
    "False. True  True\n",
    "False  False False"
   ]
  },
  {
   "cell_type": "code",
   "execution_count": 15,
   "metadata": {},
   "outputs": [],
   "source": [
    "terms=[\"machine\", \"learning\", \"ai\"]\n",
    "if \"learning\" in terms and \"ai\" in terms and \"a\" in terms:\n",
    "    print (\"yes\")\n",
    "    print (\"yes\")"
   ]
  },
  {
   "cell_type": "code",
   "execution_count": 16,
   "metadata": {},
   "outputs": [
    {
     "name": "stdout",
     "output_type": "stream",
     "text": [
      "no\n"
     ]
    }
   ],
   "source": [
    "terms=[\"machine\", \"learning\", \"ai\"]\n",
    "if \"machine\" in terms and \"ml\" in terms:\n",
    "    print (\"yes\")\n",
    "else:\n",
    "    print (\"no\")"
   ]
  },
  {
   "cell_type": "code",
   "execution_count": 17,
   "metadata": {},
   "outputs": [
    {
     "name": "stdout",
     "output_type": "stream",
     "text": [
      "yes\n"
     ]
    }
   ],
   "source": [
    "terms=[\"machine\", \"learning\", \"ai\"]\n",
    "if \"machine\" in terms or \"ml\" in terms:\n",
    "    print (\"yes\")\n",
    "else:\n",
    "    print (\"no\")"
   ]
  },
  {
   "cell_type": "code",
   "execution_count": 18,
   "metadata": {},
   "outputs": [
    {
     "name": "stdout",
     "output_type": "stream",
     "text": [
      "1\n"
     ]
    }
   ],
   "source": [
    "a=3\n",
    "b=1\n",
    "if a>b:\n",
    "    print (1)\n",
    "else:\n",
    "    print (0)"
   ]
  },
  {
   "cell_type": "code",
   "execution_count": 19,
   "metadata": {},
   "outputs": [
    {
     "name": "stdout",
     "output_type": "stream",
     "text": [
      "1\n"
     ]
    }
   ],
   "source": [
    "a=3\n",
    "b=3\n",
    "if a==b:\n",
    "    print (1)\n",
    "else:\n",
    "    print (0)"
   ]
  },
  {
   "cell_type": "code",
   "execution_count": 20,
   "metadata": {},
   "outputs": [
    {
     "name": "stdout",
     "output_type": "stream",
     "text": [
      "请输入你的门票票号:24\n",
      "请您从4号门进入\n"
     ]
    }
   ],
   "source": [
    "# 先获取到游客输入的票号\n",
    "number = input('请输入你的门票票号:')\n",
    "# 由于获取到键盘输入的数据是字符串类型，所以这里要转换成整数类型\n",
    "number_int = int(number)\n",
    "\n",
    "# 判断用户应该从哪个门进入\n",
    "if number_int % 7 == 0:\n",
    "    print(\"请您从1号门进入\")\n",
    "elif number_int % 7 == 1:\n",
    "    print(\"请您从2号门进入\")\n",
    "elif number_int % 7 == 2:\n",
    "    print(\"请您从3号门进入\")\n",
    "elif number_int % 7 == 3:\n",
    "    print(\"请您从4号门进入\")\n",
    "elif number_int % 7 == 4:\n",
    "    print(\"请您从5号门进入\")\n",
    "elif number_int % 7 == 5:\n",
    "    print(\"请您从6号门进入\")\n",
    "elif number_int % 7 == 6:\n",
    "    print(\"请您从7号门进入\")\n",
    "else:\n",
    "    pass"
   ]
  }
 ],
 "metadata": {
  "kernelspec": {
   "display_name": "Python 3",
   "language": "python",
   "name": "python3"
  },
  "language_info": {
   "codemirror_mode": {
    "name": "ipython",
    "version": 3
   },
   "file_extension": ".py",
   "mimetype": "text/x-python",
   "name": "python",
   "nbconvert_exporter": "python",
   "pygments_lexer": "ipython3",
   "version": "3.7.9"
  }
 },
 "nbformat": 4,
 "nbformat_minor": 2
}
