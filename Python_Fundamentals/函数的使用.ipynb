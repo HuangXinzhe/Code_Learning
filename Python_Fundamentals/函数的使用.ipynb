{
 "cells": [
  {
   "cell_type": "code",
   "execution_count": 3,
   "metadata": {},
   "outputs": [
    {
     "name": "stdout",
     "output_type": "stream",
     "text": [
      "7\n",
      "33\n",
      "7\n",
      "15\n"
     ]
    }
   ],
   "source": [
    "a=1\n",
    "b=2\n",
    "c=3\n",
    "print (a+b*c)\n",
    "\n",
    "a=3\n",
    "b=5\n",
    "c=6\n",
    "print(a+b*c)\n",
    "\n",
    "\n",
    "\n",
    "def custom_operation(a,b,c): # a,b,c为参数\n",
    "     return a+b*c\n",
    "\n",
    "print (custom_operation(1,2,3))\n",
    "print (custom_operation(3,4,3))"
   ]
  },
  {
   "cell_type": "code",
   "execution_count": 4,
   "metadata": {},
   "outputs": [
    {
     "name": "stdout",
     "output_type": "stream",
     "text": [
      "9.13888888888889\n",
      "36.020833333333336\n",
      "49.02040816326531\n"
     ]
    }
   ],
   "source": [
    "# 给定长度，宽度，高度，计算的逻辑为：\n",
    "# a= 高度*高度\n",
    "# b= a*宽度\n",
    "# c = 长度/b+a\n",
    "\n",
    "height=3\n",
    "length=5\n",
    "width=4\n",
    "\n",
    "a=height*height\n",
    "b=a*width\n",
    "c=length/b+a\n",
    "print(c)\n",
    "\n",
    "height=6\n",
    "length=3\n",
    "width=4\n",
    "\n",
    "a=height*height\n",
    "b=a*width\n",
    "c=length/b+a\n",
    "print(c)\n",
    "\n",
    "\n",
    "height=7\n",
    "length=4\n",
    "width=4\n",
    "\n",
    "a=height*height\n",
    "b=a*width\n",
    "c=length/b+a\n",
    "print(c)"
   ]
  },
  {
   "cell_type": "code",
   "execution_count": 6,
   "metadata": {},
   "outputs": [
    {
     "name": "stdout",
     "output_type": "stream",
     "text": [
      "9.088888888888889\n",
      "9.088888888888889\n",
      "36.03703703703704\n",
      "49.02040816326531\n"
     ]
    }
   ],
   "source": [
    "def my_method(height,width,length):\n",
    "    a=height*height\n",
    "    b=a*width\n",
    "    c=length/b+a\n",
    "    \n",
    "    return c\n",
    "\n",
    "result=my_method(3,5,4)\n",
    "print (result)\n",
    "\n",
    "print (my_method(3,5,4))\n",
    "print (my_method(6,3,4))\n",
    "print (my_method(7,4,4))"
   ]
  },
  {
   "cell_type": "markdown",
   "metadata": {},
   "source": [
    "In Python, a function is a group of related statements that performs a specific task.\n",
    "\n",
    "Functions help break our program into smaller and modular chunks. As our program grows larger and larger, functions make it more organized and manageable.\n",
    "\n",
    "Furthermore, it avoids repetition and makes the code reusable."
   ]
  },
  {
   "cell_type": "code",
   "execution_count": 2,
   "metadata": {},
   "outputs": [],
   "source": [
    "def function_name(parameters):\n",
    "    statement(s)\n",
    "    return val"
   ]
  },
  {
   "cell_type": "code",
   "execution_count": 8,
   "metadata": {},
   "outputs": [
    {
     "name": "stdout",
     "output_type": "stream",
     "text": [
      "Hello, 小明. Good morning!\n",
      "Hello, 你的名字. Good morning!\n"
     ]
    }
   ],
   "source": [
    "def greet(name):\n",
    "    \"\"\"\n",
    "    This function greets to\n",
    "    the person passed in as\n",
    "    a parameter\n",
    "    \"\"\"\n",
    "    print(\"Hello, \" + name + \". Good morning!\")\n",
    "    \n",
    "\n",
    "greet(\"小明\")\n",
    "greet(\"你的名字\")"
   ]
  },
  {
   "cell_type": "code",
   "execution_count": 10,
   "metadata": {},
   "outputs": [
    {
     "name": "stdout",
     "output_type": "stream",
     "text": [
      "3\n"
     ]
    }
   ],
   "source": [
    "def add(a,b):\n",
    "    return a+b\n",
    "\n",
    "result = add(1,2)\n",
    "print (result)"
   ]
  }
 ],
 "metadata": {
  "kernelspec": {
   "display_name": "Python 3",
   "language": "python",
   "name": "python3"
  },
  "language_info": {
   "codemirror_mode": {
    "name": "ipython",
    "version": 3
   },
   "file_extension": ".py",
   "mimetype": "text/x-python",
   "name": "python",
   "nbconvert_exporter": "python",
   "pygments_lexer": "ipython3",
   "version": "3.7.9"
  }
 },
 "nbformat": 4,
 "nbformat_minor": 2
}
