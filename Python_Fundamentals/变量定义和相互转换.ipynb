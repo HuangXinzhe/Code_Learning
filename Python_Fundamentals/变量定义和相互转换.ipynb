{
 "cells": [
  {
   "cell_type": "code",
   "execution_count": 1,
   "metadata": {},
   "outputs": [
    {
     "name": "stdout",
     "output_type": "stream",
     "text": [
      "20\n",
      "<class 'int'>\n"
     ]
    }
   ],
   "source": [
    "# integer的定义\n",
    "age=20  # 赋值\n",
    "print (age) # 打印变量的值\n",
    "print (type(age)) # 打印变量的类型"
   ]
  },
  {
   "cell_type": "code",
   "execution_count": 2,
   "metadata": {},
   "outputs": [
    {
     "name": "stdout",
     "output_type": "stream",
     "text": [
      "1500\n"
     ]
    }
   ],
   "source": [
    "# integer的基本运算\n",
    "width = 30  # 定义宽度\n",
    "length = 50 # 定义长度\n",
    "area = width * length # 计算面积\n",
    "print(area) # 打印面积"
   ]
  },
  {
   "cell_type": "code",
   "execution_count": 7,
   "metadata": {},
   "outputs": [
    {
     "name": "stdout",
     "output_type": "stream",
     "text": [
      "0.8\n",
      "-10\n",
      "90\n"
     ]
    }
   ],
   "source": [
    "# integer的基本运算\n",
    "a = 40\n",
    "b = 50\n",
    "print(a / b)\n",
    "print(a - b)\n",
    "print(a + b)"
   ]
  },
  {
   "cell_type": "code",
   "execution_count": 8,
   "metadata": {},
   "outputs": [
    {
     "name": "stdout",
     "output_type": "stream",
     "text": [
      "24.6\n",
      "<class 'float'>\n"
     ]
    }
   ],
   "source": [
    "# float类型\n",
    "weather = 24.6\n",
    "print(weather)\n",
    "print(type(weather))"
   ]
  },
  {
   "cell_type": "code",
   "execution_count": 3,
   "metadata": {},
   "outputs": [
    {
     "name": "stdout",
     "output_type": "stream",
     "text": [
      "1386.9\n"
     ]
    }
   ],
   "source": [
    "# float类型的运算\n",
    "width = 34.5 \n",
    "length = 40.2  \n",
    "print(width * length) # 打印面积"
   ]
  },
  {
   "cell_type": "code",
   "execution_count": 10,
   "metadata": {},
   "outputs": [
    {
     "name": "stdout",
     "output_type": "stream",
     "text": [
      "-0.10000000000000009\n",
      "12.6\n",
      "0.9722222222222222\n"
     ]
    }
   ],
   "source": [
    "# float的基本运算\n",
    "a = 3.5\n",
    "b = 3.6\n",
    "print(a - b)\n",
    "print(a * b)\n",
    "print(a / b)"
   ]
  },
  {
   "cell_type": "code",
   "execution_count": 11,
   "metadata": {},
   "outputs": [
    {
     "name": "stdout",
     "output_type": "stream",
     "text": [
      "22.5\n",
      "<class 'float'>\n",
      "9.5\n",
      "<class 'float'>\n",
      "1.1111111111111112\n",
      "<class 'float'>\n"
     ]
    }
   ],
   "source": [
    "# integer与float混合运算, 只要float参与运算结果均为float!\n",
    "a = 5 # int, integer\n",
    "b = 4.5 # float\n",
    "print(a * b) # float \n",
    "print(type(a * b)) #float\n",
    "print(a + b) # float\n",
    "print(type(a + b)) # float\n",
    "print(a / b)\n",
    "print(type(a / b))"
   ]
  },
  {
   "cell_type": "code",
   "execution_count": 4,
   "metadata": {},
   "outputs": [
    {
     "name": "stdout",
     "output_type": "stream",
     "text": [
      "我们下次见\n",
      "人工智能\n"
     ]
    }
   ],
   "source": [
    "# String类型\n",
    "message = \"我们下次见\"\n",
    "course_name = \"人工智能\"\n",
    "print(message)\n",
    "print(course_name)"
   ]
  },
  {
   "cell_type": "code",
   "execution_count": 5,
   "metadata": {},
   "outputs": [
    {
     "name": "stdout",
     "output_type": "stream",
     "text": [
      "我们下次见\n",
      "们\n",
      "次\n",
      "我们下\n",
      "们下\n",
      "我们下次见\n"
     ]
    }
   ],
   "source": [
    "# String类型的indexing，请记住python的下标是从0开始，也就是下标0为第一个字符\n",
    "print(message)  # \"我们下次见\"\n",
    "print(message[1]) # 打印message字符串的第二个字符\n",
    "print(message[3]) # 打印message字符串的第四个字符\n",
    "print(message[0:3]) # 打印message字符串第1到第3个字符\n",
    "print(message[1:3]) # 打印message字符串的第2到第3个字符\n",
    "print(message[0:]) # 打印message字符串的第1个字符到最后一个字符，完整的字符串"
   ]
  },
  {
   "cell_type": "code",
   "execution_count": 6,
   "metadata": {},
   "outputs": [
    {
     "name": "stdout",
     "output_type": "stream",
     "text": [
      "我们下次见\n",
      "见\n",
      "次\n",
      "们下次\n",
      "们下次见\n"
     ]
    }
   ],
   "source": [
    "# String类型的negative indexing, 反向的\n",
    "print (message) # \"我们下次见\"\n",
    "print (message[-1]) # 打印字符串的最后一个字符\n",
    "print (message[-2]) # 打印字符串的最后第二个字符\n",
    "print (message[-4:-1]) # 打印字符串倒数第四个字符到倒数第二个字符\n",
    "print (message[-4:]) # 打印字符串倒数第四个字符一直到最后一个字符"
   ]
  },
  {
   "cell_type": "code",
   "execution_count": 9,
   "metadata": {},
   "outputs": [
    {
     "name": "stdout",
     "output_type": "stream",
     "text": [
      "人工智能机器学习人工智能\n",
      "人工智能机器学习\n",
      "人工智能 机器学习\n",
      "人工智能\n",
      "机器学习\n"
     ]
    }
   ],
   "source": [
    "# String的一些操作\n",
    "message1 = \"人工智能\"\n",
    "message2 = \"机器学习\"\n",
    "message3 = message1 + message2 + message1\n",
    "print(message3)\n",
    "print(message1 + message2) # 两个字符串相加\n",
    "print(message1 + \" \" + message2) # 中间加入空格\n",
    "print(message1 + \"\\n\" + message2) # 中间加入回车"
   ]
  },
  {
   "cell_type": "code",
   "execution_count": 13,
   "metadata": {},
   "outputs": [
    {
     "name": "stdout",
     "output_type": "stream",
     "text": [
      "1\n",
      "123\n",
      "45\n",
      "<class 'int'>\n",
      "1.0\n",
      "123.0\n",
      "45.6\n",
      "<class 'float'>\n",
      "46.6\n"
     ]
    }
   ],
   "source": [
    "# String, integer, float之间的转换, 通过函数int(), float()来实现\n",
    "a = \"人工智能\"  # string\n",
    "b = \"1\"       # string\n",
    "c = 123       # integer\n",
    "d = 45.6      # float\n",
    "\n",
    "# print(int(a))\n",
    "print(int(b))  \n",
    "print(int(c))\n",
    "print(int(d))\n",
    "print(type(int(d)))\n",
    "\n",
    "print(float(b)) # 1.0\n",
    "print(float(c)) # 123.0 \n",
    "print(float(d)) # 45.6\n",
    "print(type(float(d)))\n",
    "\n",
    "# b=\"1\"  d=45.6\n",
    "print(d+float(b)) # 46.6"
   ]
  },
  {
   "cell_type": "code",
   "execution_count": 16,
   "metadata": {},
   "outputs": [
    {
     "name": "stdout",
     "output_type": "stream",
     "text": [
      "人工智能1\n",
      "人工智能45.6\n"
     ]
    }
   ],
   "source": [
    "# str可以用来强制转换（比如int/float--> string)\n",
    "a = \"人工智能\"  # string\n",
    "b = \"1\"       # string\n",
    "c = 123       # integer\n",
    "d = 45.6      # float\n",
    "\n",
    "print(a + b)  # ”人工智能1“\n",
    "print(a + str(d)) # 人工智能123\n"
   ]
  }
 ],
 "metadata": {
  "kernelspec": {
   "display_name": "Python 3",
   "language": "python",
   "name": "python3"
  },
  "language_info": {
   "codemirror_mode": {
    "name": "ipython",
    "version": 3
   },
   "file_extension": ".py",
   "mimetype": "text/x-python",
   "name": "python",
   "nbconvert_exporter": "python",
   "pygments_lexer": "ipython3",
   "version": "3.7.9"
  }
 },
 "nbformat": 4,
 "nbformat_minor": 2
}
