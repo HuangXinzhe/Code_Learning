{
 "cells": [
  {
   "cell_type": "code",
   "execution_count": 1,
   "metadata": {},
   "outputs": [
    {
     "name": "stdout",
     "output_type": "stream",
     "text": [
      "我来AI学习\n",
      "我来学习AI\n"
     ]
    }
   ],
   "source": [
    "# print(\"我来\",\"AI\",\"学习\")\n",
    "a = \"AI\"\n",
    "print(\"我来%s学习\" % a) # %s 需要插入的是字符串的类型（String）\n",
    "s = \"我来学习%s\" % \"AI\"\n",
    "print(s)"
   ]
  },
  {
   "cell_type": "code",
   "execution_count": 2,
   "metadata": {},
   "outputs": [
    {
     "name": "stdout",
     "output_type": "stream",
     "text": [
      "我学习AI有5个小时了\n"
     ]
    }
   ],
   "source": [
    "print(\"我学习AI有%d个小时了\" % 5)"
   ]
  },
  {
   "cell_type": "code",
   "execution_count": 3,
   "metadata": {},
   "outputs": [
    {
     "name": "stdout",
     "output_type": "stream",
     "text": [
      "我学习AI有5.500000个小时了\n"
     ]
    }
   ],
   "source": [
    "print(\"我学习AI有%f个小时了\" % 5.5)"
   ]
  },
  {
   "cell_type": "markdown",
   "metadata": {},
   "source": [
    "## {}.format 格式化字符串"
   ]
  },
  {
   "cell_type": "code",
   "execution_count": 4,
   "metadata": {},
   "outputs": [
    {
     "name": "stdout",
     "output_type": "stream",
     "text": [
      "我跟老师1着,学人工智能习\n"
     ]
    }
   ],
   "source": [
    "r = \"我跟{}着,学{}习\".format(\"老师1\",\"人工智能\")\n",
    "print(r)"
   ]
  },
  {
   "cell_type": "code",
   "execution_count": 5,
   "metadata": {},
   "outputs": [
    {
     "name": "stdout",
     "output_type": "stream",
     "text": [
      "我跟着老师,学习老师,我学习了5小时了\n"
     ]
    }
   ],
   "source": [
    "r = \"{0}跟着{1},学习{1},{0}学习了{3}小时了\".format(\"我\",\"老师\",\"人工智能\",'5')\n",
    "print(r)"
   ]
  },
  {
   "cell_type": "code",
   "execution_count": 6,
   "metadata": {},
   "outputs": [
    {
     "name": "stdout",
     "output_type": "stream",
     "text": [
      "欢迎小强，跟着老师学习人工智能\n"
     ]
    }
   ],
   "source": [
    "r = \"欢迎{student_name}，跟着{teacher_name}学习{course_name}\".format(course_name=\"人工智能\",student_name=\"小强\",teacher_name=\"老师\")\n",
    "print(r)"
   ]
  },
  {
   "cell_type": "code",
   "execution_count": 7,
   "metadata": {},
   "outputs": [
    {
     "name": "stdout",
     "output_type": "stream",
     "text": [
      "请保留小数点后2位3.1416\n"
     ]
    }
   ],
   "source": [
    "# 保留小数点后2位\n",
    "print(\"请保留小数点后2位{:.4f}\".format(3.1415926))"
   ]
  },
  {
   "cell_type": "code",
   "execution_count": 8,
   "metadata": {},
   "outputs": [
    {
     "name": "stdout",
     "output_type": "stream",
     "text": [
      "请保留小数点后2位+3.14\n"
     ]
    }
   ],
   "source": [
    "# 保留符号，保留小数点后2位\n",
    "print(\"请保留小数点后2位{:+.2f}\".format(3.1415926))"
   ]
  },
  {
   "cell_type": "code",
   "execution_count": 9,
   "metadata": {},
   "outputs": [
    {
     "name": "stdout",
     "output_type": "stream",
     "text": [
      "请保留小数点后2位-3.14\n"
     ]
    }
   ],
   "source": [
    "# 保留符号，保留小数点后2位\n",
    "print(\"请保留小数点后2位{:+.2f}\".format(-3.1415926))"
   ]
  },
  {
   "cell_type": "code",
   "execution_count": 10,
   "metadata": {},
   "outputs": [
    {
     "name": "stdout",
     "output_type": "stream",
     "text": [
      "舍弃掉小数后的数字4\n"
     ]
    }
   ],
   "source": [
    "# 不带小数\n",
    "print(\"舍弃掉小数后的数字{:.0f}\".format(3.6543))"
   ]
  },
  {
   "cell_type": "code",
   "execution_count": 11,
   "metadata": {},
   "outputs": [
    {
     "name": "stdout",
     "output_type": "stream",
     "text": [
      "舍弃掉小数后的数字4\n"
     ]
    }
   ],
   "source": [
    "# 不带小数\n",
    "print(\"舍弃掉小数后的数字{:.0f}\".format(3.8543))"
   ]
  },
  {
   "cell_type": "markdown",
   "metadata": {},
   "source": [
    "###  字符串中的查找"
   ]
  },
  {
   "cell_type": "code",
   "execution_count": 12,
   "metadata": {},
   "outputs": [
    {
     "name": "stdout",
     "output_type": "stream",
     "text": [
      "1\n",
      "-1\n"
     ]
    }
   ],
   "source": [
    "## 字符串的查找  find from a string\n",
    "#    0 1 2 3 4 5\n",
    "s = \"我喜欢人工智能\"\n",
    "print(s.find(\"喜\"))\n",
    "# find 返回的是要查找的字符位于被查找的字符串的位置\n",
    "print(s.find(\"aa\"))"
   ]
  },
  {
   "cell_type": "code",
   "execution_count": 13,
   "metadata": {},
   "outputs": [
    {
     "name": "stdout",
     "output_type": "stream",
     "text": [
      "yes\n"
     ]
    }
   ],
   "source": [
    "if \"小明\" in \"小明喜欢人工智能\":\n",
    "    print(\"yes\")\n",
    "else:\n",
    "    print (\"no\")\n",
    "\n",
    "# print(\"小明1\" in \"小明喜欢人工智能\")"
   ]
  },
  {
   "cell_type": "code",
   "execution_count": 15,
   "metadata": {},
   "outputs": [
    {
     "name": "stdout",
     "output_type": "stream",
     "text": [
      "请输入你的message： 你好\n",
      "很高兴为你服务！\n",
      "请输入你的message： 查询\n",
      "您想去哪里？\n",
      "请输入你的message： 回家\n"
     ]
    }
   ],
   "source": [
    "for i in range(5):\n",
    "    message=input(\"请输入你的message： \")\n",
    "    if message in \"你好先生\":\n",
    "        print (\"很高兴为你服务！\")\n",
    "    elif message in \"查询机票\":\n",
    "        print (\"您想去哪里？\")\n",
    "    else:\n",
    "        break"
   ]
  },
  {
   "cell_type": "code",
   "execution_count": null,
   "metadata": {},
   "outputs": [],
   "source": [
    "# 以下是简单的对话机器人\n",
    "\n",
    "robot = \"小爱\"\n",
    "while True:\n",
    "    user_message = input(\"我:\")\n",
    "    if \"名字\" in user_message:\n",
    "        print(\"{}:我叫小爱\".format(robot))\n",
    "    elif user_message.find(\"学习\")>-1: # ”学习“ in user_message\n",
    "        print(\"{}:我跟着老师学习呀\".format(robot))\n",
    "    elif \"老师\" in user_message:\n",
    "        print(\"{}:我喜欢我们的老师\".format(robot))\n",
    "    elif \"水果\" in user_message:\n",
    "        print(\"{}:我喜欢的水果很多呀，比如苹果、香蕉、大鸭梨呀\".format(robot))\n",
    "    elif \"再见\" in user_message:\n",
    "        print(\"{}:再见，小爱会永远想你的。\".format(robot))\n",
    "        break\n",
    "    else: # default case\n",
    "        print(\"{}:对不起，小可爱目前还没有学会这个语言，听不懂你说的是什么\".format(robot))"
   ]
  }
 ],
 "metadata": {
  "kernelspec": {
   "display_name": "Python 3",
   "language": "python",
   "name": "python3"
  },
  "language_info": {
   "codemirror_mode": {
    "name": "ipython",
    "version": 3
   },
   "file_extension": ".py",
   "mimetype": "text/x-python",
   "name": "python",
   "nbconvert_exporter": "python",
   "pygments_lexer": "ipython3",
   "version": "3.7.9"
  }
 },
 "nbformat": 4,
 "nbformat_minor": 2
}
