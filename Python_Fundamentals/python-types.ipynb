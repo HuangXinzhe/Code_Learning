{
 "cells": [
  {
   "cell_type": "markdown",
   "metadata": {},
   "source": [
    "#  Intro to Python: Datatypes\n",
    "***\n",
    "Week 1 | Day 1\n",
    "\n",
    "### Learning Objectives\n",
    "*After this lesson, you will be able to:*\n",
    "- Learn how to use integers, strings, tuples, lists, and dictionaries\n",
    "- Learn to use arithmetic operations and string operations\n",
    "- Learn to use basic Jupyter Notebook features"
   ]
  },
  {
   "cell_type": "markdown",
   "metadata": {},
   "source": [
    "# What are types and why do we care?\n",
    "\n",
    "The **type** as a _kind_ of container for data.  Each _kind_ of continer has different strengths, weakness, and capabilities.  \n",
    "\n",
    "![](data-types.jpg)"
   ]
  },
  {
   "cell_type": "markdown",
   "metadata": {},
   "source": [
    "### Exercize: Figure out the data types\n",
    "\n",
    "1. 35: Integer\n",
    "2. 30.12: float\n",
    "3. \"artificial intelligence\": String\n",
    "4. [1,1,10, 1, 3,4]:  List\n",
    "5. [\"apple\",\"banana\",\"juice\"]: List\n",
    "6. {\"color\": \"green\", \"shape\": \"circle\", \"size\": \"large\"}: Dict\n"
   ]
  },
  {
   "cell_type": "markdown",
   "metadata": {},
   "source": [
    "## Integers（整数类型）"
   ]
  },
  {
   "cell_type": "code",
   "execution_count": 13,
   "metadata": {},
   "outputs": [
    {
     "name": "stdout",
     "output_type": "stream",
     "text": [
      "20\n",
      "<class 'int'>\n",
      "35656222554887711\n",
      "<class 'int'>\n"
     ]
    }
   ],
   "source": [
    "age=20\n",
    "print(age)\n",
    "print(type(age))\n",
    "\n",
    "y = 35656222554887711\n",
    "z = -3255522\n",
    "print(y)\n",
    "print(type(z))"
   ]
  },
  {
   "cell_type": "markdown",
   "metadata": {},
   "source": [
    "### Common Mathmatical Operations"
   ]
  },
  {
   "cell_type": "markdown",
   "metadata": {},
   "source": [
    "#### Subtraction（减法）\n",
    "$45-19$"
   ]
  },
  {
   "cell_type": "code",
   "execution_count": 20,
   "metadata": {
    "slideshow": {
     "slide_type": "subslide"
    }
   },
   "outputs": [
    {
     "name": "stdout",
     "output_type": "stream",
     "text": [
      "26\n"
     ]
    }
   ],
   "source": [
    "a=45\n",
    "b=19\n",
    "print (a-b)"
   ]
  },
  {
   "cell_type": "markdown",
   "metadata": {},
   "source": [
    "#### Multiplication（乘法）\n",
    "$100\\times 5$"
   ]
  },
  {
   "cell_type": "code",
   "execution_count": 21,
   "metadata": {},
   "outputs": [
    {
     "name": "stdout",
     "output_type": "stream",
     "text": [
      "500\n"
     ]
    }
   ],
   "source": [
    "a=100\n",
    "b=5\n",
    "print (a*b)"
   ]
  },
  {
   "cell_type": "markdown",
   "metadata": {},
   "source": [
    "#### Exponentiation （指数）\n",
    "$10^3$"
   ]
  },
  {
   "cell_type": "code",
   "execution_count": 26,
   "metadata": {},
   "outputs": [
    {
     "name": "stdout",
     "output_type": "stream",
     "text": [
      "315\n"
     ]
    }
   ],
   "source": [
    "a=100\n",
    "b=5\n",
    "c=3\n",
    "print ((a+b)*c)"
   ]
  },
  {
   "cell_type": "markdown",
   "metadata": {},
   "source": [
    "## Float（浮点类型）"
   ]
  },
  {
   "cell_type": "code",
   "execution_count": 27,
   "metadata": {},
   "outputs": [
    {
     "name": "stdout",
     "output_type": "stream",
     "text": [
      "<class 'float'>\n"
     ]
    }
   ],
   "source": [
    "a = 1.5\n",
    "print (type(a))"
   ]
  },
  {
   "cell_type": "code",
   "execution_count": 29,
   "metadata": {},
   "outputs": [
    {
     "name": "stdout",
     "output_type": "stream",
     "text": [
      "2.08\n",
      "2.9000000000000004\n",
      "-0.09000000000000008\n"
     ]
    }
   ],
   "source": [
    "a=1.6\n",
    "b=1.3\n",
    "print (a*b)\n",
    "print (a+b)\n",
    "print (a-b*b)"
   ]
  },
  {
   "cell_type": "code",
   "execution_count": 35,
   "metadata": {},
   "outputs": [
    {
     "name": "stdout",
     "output_type": "stream",
     "text": [
      "<class 'float'>\n",
      "5.0\n"
     ]
    }
   ],
   "source": [
    "# integer and float combination \n",
    "a=5 # integer\n",
    "b=1.0 # float\n",
    "print (type(a*1.0)) \n",
    "print (a/b)"
   ]
  },
  {
   "cell_type": "markdown",
   "metadata": {
    "slideshow": {
     "slide_type": "slide"
    }
   },
   "source": [
    "## String（字符串类型）"
   ]
  },
  {
   "cell_type": "code",
   "execution_count": 1,
   "metadata": {
    "slideshow": {
     "slide_type": "fragment"
    }
   },
   "outputs": [
    {
     "name": "stdout",
     "output_type": "stream",
     "text": [
      "人工智能是趋势\n",
      "人工智能是未来\n"
     ]
    }
   ],
   "source": [
    "sentence = \"人工智能是趋势\\n人工智能是未来\"\n",
    "print (sentence)"
   ]
  },
  {
   "cell_type": "markdown",
   "metadata": {
    "slideshow": {
     "slide_type": "slide"
    }
   },
   "source": [
    "## Sequential Types\n",
    "\n",
    "- Strings\n",
    "- Lists\n",
    "- Sets\n",
    "- Dictionaries\n",
    "\n",
    "---\n",
    "\n",
    "All of the above types can be accessed using brackets in the following ways:\n",
    "\n",
    "- **`x[0]`** References the first elements in a `string`, `list`, `set`, or `dictionary`.\n",
    "- **`x[0:4]`** References the first **4** elements of a string from index **`0`**.\n",
    "- **`x[-1]`** Reference the _first_ item in reverse order (or the last item).\n",
    "- **`x[-2]`** Reference the _second_ item in reverse order.\n",
    "- **`x[0:-3]`** Reference everyting _execept the last 3_ elements.\n"
   ]
  },
  {
   "cell_type": "code",
   "execution_count": 47,
   "metadata": {},
   "outputs": [
    {
     "name": "stdout",
     "output_type": "stream",
     "text": [
      "人\n",
      "智\n",
      "工智能\n",
      "势\n",
      "趋\n",
      "人工智能\n"
     ]
    }
   ],
   "source": [
    "sentence = \"人工智能是趋势\"\n",
    "# 提取第一个字符\n",
    "print (sentence[0])\n",
    "# 提取第三个字符\n",
    "print (sentence[2])\n",
    "# 提取前三个字符\n",
    "print (sentence[1:4])  # index 1,2,3\n",
    "# 提取最后一个字符\n",
    "print (sentence[-1])\n",
    "# 提取最后第二个字符\n",
    "print (sentence[-2])\n",
    "# 除了最后三个字符...\n",
    "print (sentence[0:-3])"
   ]
  },
  {
   "cell_type": "markdown",
   "metadata": {},
   "source": [
    "## List（列表）"
   ]
  },
  {
   "cell_type": "code",
   "execution_count": 5,
   "metadata": {},
   "outputs": [
    {
     "data": {
      "text/plain": [
       "['coefficient', 'residual', 'linear', 'covariance', 'pearson']"
      ]
     },
     "execution_count": 5,
     "metadata": {},
     "output_type": "execute_result"
    }
   ],
   "source": [
    "terms = [\"coefficient\", \"residual\", \"linear\", \"covariance\", \"pearson\"]\n",
    "terms"
   ]
  },
  {
   "cell_type": "code",
   "execution_count": 55,
   "metadata": {},
   "outputs": [
    {
     "name": "stdout",
     "output_type": "stream",
     "text": [
      "['machine learning', 'deep learning', 'matching']\n",
      "machine learning\n",
      "<class 'str'>\n",
      "matching\n",
      "['machine learning', 'deep learning']\n",
      "matching\n",
      "m\n"
     ]
    }
   ],
   "source": [
    "# list \n",
    "ai_terms = [\"machine learning\",\"deep learning\",\"matching\"]\n",
    "print (ai_terms)\n",
    "print (ai_terms[0])\n",
    "print (type(ai_terms[0]))\n",
    "print (ai_terms[2])\n",
    "print (ai_terms[0:2])\n",
    "print (ai_terms[-1])\n",
    "print (ai_terms[0][0])"
   ]
  },
  {
   "cell_type": "code",
   "execution_count": 57,
   "metadata": {},
   "outputs": [
    {
     "name": "stdout",
     "output_type": "stream",
     "text": [
      "[1, 'machine', 1.0]\n"
     ]
    }
   ],
   "source": [
    "mixed_terms = [1, \"machine\", 1.0]\n",
    "print (mixed_terms)"
   ]
  },
  {
   "cell_type": "code",
   "execution_count": 58,
   "metadata": {},
   "outputs": [
    {
     "name": "stdout",
     "output_type": "stream",
     "text": [
      "[1, 'machine', 1.0, 'learning']\n"
     ]
    }
   ],
   "source": [
    "mixed_terms.append(\"learning\")\n",
    "print (mixed_terms)"
   ]
  },
  {
   "cell_type": "markdown",
   "metadata": {},
   "source": [
    "### list的总结\n",
    "- 基于下标查找，append 很快\n",
    "- delete, 直接查找element很慢"
   ]
  },
  {
   "cell_type": "markdown",
   "metadata": {},
   "source": [
    "# Sets and Set operations\n",
    "A `set` is like a list and a sequential type.  It is one of two common Python datatypes that don't guarantee order.  The means that sequential order of anything defined in a `set` could in fact be different than how it was defined."
   ]
  },
  {
   "cell_type": "code",
   "execution_count": 8,
   "metadata": {},
   "outputs": [
    {
     "data": {
      "text/plain": [
       "{'Excellent', 'Great', 'Medium', 'Normal', 'Poor'}"
      ]
     },
     "execution_count": 8,
     "metadata": {},
     "output_type": "execute_result"
    }
   ],
   "source": [
    "grades = set([\"Poor\", \"Medium\", \"Normal\", \"Great\", \"Excellent\"])\n",
    "grades"
   ]
  },
  {
   "cell_type": "markdown",
   "metadata": {},
   "source": [
    "A `set` is much like a primary key in a database but if you're unfamilliar with that concept so far, a `set` can only contain unique elements."
   ]
  },
  {
   "cell_type": "markdown",
   "metadata": {},
   "source": [
    "## What can a `set` do that other sequential types can't?\n",
    "Set opertations are powerful tools that enable us to select and exclude data.  It's also easy to convert a `list` to a `set`.\n",
    "\n",
    "- All elements in a `set` are unique.\n",
    "- All elements in a `set` are unordered."
   ]
  },
  {
   "cell_type": "code",
   "execution_count": 9,
   "metadata": {},
   "outputs": [],
   "source": [
    "animals = set([\"Bat\", \"Cat\", \"Rat\"])\n",
    "flying  = set([\"Bat\", \"Seagull\", \"Eagle\"])\n",
    "running = set([\"Cat\", \"Rat\", \"Dog\"])"
   ]
  },
  {
   "cell_type": "markdown",
   "metadata": {},
   "source": [
    "# Dictionaries （字典）\n",
    "\n",
    "One of the most common types\n",
    "\n",
    "- Referenced by key\n",
    "- Unique key space (like a set)\n",
    "- Order isn't guaranteed (like a set)\n",
    "- Keys can be any type\n",
    "- Values can be any type\n",
    "- Can be nested (dictionary of dictionaries)"
   ]
  },
  {
   "cell_type": "code",
   "execution_count": 10,
   "metadata": {},
   "outputs": [],
   "source": [
    "pokedex = {\n",
    "    \"pikachu\": {\n",
    "        \"speed\": 15,\n",
    "        \"power\": 150\n",
    "    },\n",
    "    \"charizard\": {\n",
    "        \"speed\": 15,\n",
    "        \"power\": 150,\n",
    "        \"cellphone\": {\n",
    "            \"motorola\": {\n",
    "                \"phone\": [8001234567, 8001234568, 8001234569]\n",
    "            }\n",
    "        }\n",
    "    },\n",
    "    \"bulbasaur\": {\n",
    "        \"speed\": 15,\n",
    "        \"power\": 150\n",
    "    },\n",
    "}"
   ]
  },
  {
   "cell_type": "code",
   "execution_count": 11,
   "metadata": {},
   "outputs": [
    {
     "data": {
      "text/plain": [
       "dict_keys(['pikachu', 'charizard', 'bulbasaur'])"
      ]
     },
     "execution_count": 11,
     "metadata": {},
     "output_type": "execute_result"
    }
   ],
   "source": [
    "pokedex.keys()"
   ]
  },
  {
   "cell_type": "code",
   "execution_count": 12,
   "metadata": {},
   "outputs": [
    {
     "data": {
      "text/plain": [
       "{'pikachu': {'speed': 15, 'power': 150},\n",
       " 'charizard': {'speed': 15,\n",
       "  'power': 150,\n",
       "  'cellphone': {'motorola': {'phone': [8001234567, 8001234568, 8001234569]}}},\n",
       " 'bulbasaur': {'speed': 15, 'power': 150}}"
      ]
     },
     "execution_count": 12,
     "metadata": {},
     "output_type": "execute_result"
    }
   ],
   "source": [
    "pokedex"
   ]
  }
 ],
 "metadata": {
  "anaconda-cloud": {},
  "kernelspec": {
   "display_name": "Python 3",
   "language": "python",
   "name": "python3"
  },
  "language_info": {
   "codemirror_mode": {
    "name": "ipython",
    "version": 3
   },
   "file_extension": ".py",
   "mimetype": "text/x-python",
   "name": "python",
   "nbconvert_exporter": "python",
   "pygments_lexer": "ipython3",
   "version": "3.7.9"
  }
 },
 "nbformat": 4,
 "nbformat_minor": 2
}
