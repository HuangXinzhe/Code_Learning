{
 "cells": [
  {
   "cell_type": "code",
   "execution_count": 1,
   "metadata": {},
   "outputs": [
    {
     "name": "stdout",
     "output_type": "stream",
     "text": [
      "Hello world\n"
     ]
    }
   ],
   "source": [
    "# 单行打印\n",
    "print(\"Hello world\")"
   ]
  },
  {
   "cell_type": "code",
   "execution_count": 1,
   "metadata": {},
   "outputs": [
    {
     "name": "stdout",
     "output_type": "stream",
     "text": [
      "Hello\n",
      "World\n"
     ]
    }
   ],
   "source": [
    "# 多行打印   \\n换行符号解决多行打印问题\n",
    "print(\"Hello\\nWorld\")"
   ]
  },
  {
   "cell_type": "code",
   "execution_count": 2,
   "metadata": {},
   "outputs": [
    {
     "name": "stdout",
     "output_type": "stream",
     "text": [
      "Hello \n",
      "World\n",
      "hello\n",
      "word\n",
      "\n"
     ]
    }
   ],
   "source": [
    "# 第二种多行打印\n",
    "# 注意：这种实现方式，是使用三对儿引号，来包裹我们要打印输出的内容\n",
    "print(\"\"\"Hello \n",
    "World\n",
    "hello\n",
    "word\n",
    "\"\"\")"
   ]
  },
  {
   "cell_type": "code",
   "execution_count": 3,
   "metadata": {},
   "outputs": [
    {
     "name": "stdout",
     "output_type": "stream",
     "text": [
      "\n",
      "                veLoveLov           veLoveLov               \n",
      "            eLoveLoveLoveLove   eLoveLoveLoveLove           \n",
      "          veLoveLoveLoveLoveLoveLoveLoveLoveLoveLov         \n",
      "         veLoveLoveLoveLoveLoveLoveLoveLoveLoveLoveL        \n",
      "        veLoveLoveLoveLoveLoveLoveLoveLoveLoveLoveLov       \n",
      "        eLoveLoveLoveLoveLoveLoveLoveLoveLoveLoveLove       \n",
      "        LoveLoveLoveLoveLoveLoveLoveLoveLoveLoveLoveL       \n",
      "        oveLoveLoveLoveLoveLoveLoveLoveLoveLoveLoveLo       \n",
      "        veLoveLoveLoveLoveLoveLoveLoveLoveLoveLoveLov       \n",
      "        eLoveLoveLoveLoveLoveLoveLoveLoveLoveLoveLove       \n",
      "         oveLoveLoveLoveLoveLoveLoveLoveLoveLoveLove        \n",
      "          eLoveLoveLoveLoveLoveLoveLoveLoveLoveLove         \n",
      "          LoveLoveLoveLoveLoveLoveLoveLoveLoveLoveL         \n",
      "            eLoveLoveLoveLoveLoveLoveLoveLoveLove           \n",
      "             oveLoveLoveLoveLoveLoveLoveLoveLove            \n",
      "              eLoveLoveLoveLoveLoveLoveLoveLove             \n",
      "                veLoveLoveLoveLoveLoveLoveLov               \n",
      "                  oveLoveLoveLoveLoveLoveLo                 \n",
      "                    LoveLoveLoveLoveLoveL                   \n",
      "                       LoveLoveLoveLov                      \n",
      "                          LoveLoveL                         \n",
      "                             Lov                            \n",
      "                              v                             \n",
      "                                     \n",
      "\n"
     ]
    }
   ],
   "source": [
    "print(\n",
    "    \"\"\"\n",
    "                veLoveLov           veLoveLov               \n",
    "            eLoveLoveLoveLove   eLoveLoveLoveLove           \n",
    "          veLoveLoveLoveLoveLoveLoveLoveLoveLoveLov         \n",
    "         veLoveLoveLoveLoveLoveLoveLoveLoveLoveLoveL        \n",
    "        veLoveLoveLoveLoveLoveLoveLoveLoveLoveLoveLov       \n",
    "        eLoveLoveLoveLoveLoveLoveLoveLoveLoveLoveLove       \n",
    "        LoveLoveLoveLoveLoveLoveLoveLoveLoveLoveLoveL       \n",
    "        oveLoveLoveLoveLoveLoveLoveLoveLoveLoveLoveLo       \n",
    "        veLoveLoveLoveLoveLoveLoveLoveLoveLoveLoveLov       \n",
    "        eLoveLoveLoveLoveLoveLoveLoveLoveLoveLoveLove       \n",
    "         oveLoveLoveLoveLoveLoveLoveLoveLoveLoveLove        \n",
    "          eLoveLoveLoveLoveLoveLoveLoveLoveLoveLove         \n",
    "          LoveLoveLoveLoveLoveLoveLoveLoveLoveLoveL         \n",
    "            eLoveLoveLoveLoveLoveLoveLoveLoveLove           \n",
    "             oveLoveLoveLoveLoveLoveLoveLoveLove            \n",
    "              eLoveLoveLoveLoveLoveLoveLoveLove             \n",
    "                veLoveLoveLoveLoveLoveLoveLov               \n",
    "                  oveLoveLoveLoveLoveLoveLo                 \n",
    "                    LoveLoveLoveLoveLoveL                   \n",
    "                       LoveLoveLoveLov                      \n",
    "                          LoveLoveL                         \n",
    "                             Lov                            \n",
    "                              v                             \n",
    "                                     \n",
    "\"\"\"\n",
    ")"
   ]
  },
  {
   "cell_type": "code",
   "execution_count": 6,
   "metadata": {},
   "outputs": [
    {
     "name": "stdout",
     "output_type": "stream",
     "text": [
      "7 is the lucky number 7 jack\n"
     ]
    }
   ],
   "source": [
    "num=7\n",
    "name=\"jack\"\n",
    "print (num, \"is the lucky number\",num,name)"
   ]
  },
  {
   "cell_type": "code",
   "execution_count": 7,
   "metadata": {},
   "outputs": [
    {
     "name": "stdout",
     "output_type": "stream",
     "text": [
      "ai is interesting !\n"
     ]
    }
   ],
   "source": [
    "print (\"ai\",\"is interesting\",\"!\")"
   ]
  }
 ],
 "metadata": {
  "kernelspec": {
   "display_name": "Python 3",
   "language": "python",
   "name": "python3"
  },
  "language_info": {
   "codemirror_mode": {
    "name": "ipython",
    "version": 3
   },
   "file_extension": ".py",
   "mimetype": "text/x-python",
   "name": "python",
   "nbconvert_exporter": "python",
   "pygments_lexer": "ipython3",
   "version": "3.7.9"
  }
 },
 "nbformat": 4,
 "nbformat_minor": 2
}
