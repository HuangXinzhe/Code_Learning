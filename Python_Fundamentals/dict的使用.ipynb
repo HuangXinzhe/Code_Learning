{
 "cells": [
  {
   "cell_type": "code",
   "execution_count": null,
   "metadata": {},
   "outputs": [],
   "source": [
    "# empty dictionary\n",
    "my_dict = {}\n",
    "\n",
    "# dictionary with integer keys\n",
    "my_dict = {1: 'apple', 2: 'ball'}\n",
    "\n",
    "# dictionary with mixed keys\n",
    "my_dict = {'name': 'John', 1: [2, 4, 3]}\n",
    "\n",
    "# using dict()\n",
    "my_dict = dict({1:'apple', 2:'ball'})"
   ]
  },
  {
   "cell_type": "code",
   "execution_count": null,
   "metadata": {},
   "outputs": [],
   "source": [
    "my_dict = {'name': 'Jack', 'age': 26}\n",
    "\n",
    "# Output: Jack\n",
    "print(my_dict['name'])\n",
    "\n",
    "# Output: 26\n",
    "print(my_dict.get('age'))\n",
    "\n",
    "# Trying to access keys which doesn't exist throws error\n",
    "# Output None\n",
    "print(my_dict.get('address'))\n",
    "\n",
    "# KeyError\n",
    "print(my_dict['address'])"
   ]
  },
  {
   "cell_type": "code",
   "execution_count": null,
   "metadata": {},
   "outputs": [],
   "source": [
    "# Changing and adding Dictionary Elements\n",
    "my_dict = {'name': 'Jack', 'age': 26}\n",
    "\n",
    "# update value\n",
    "my_dict['age'] = 27\n",
    "\n",
    "#Output: {'age': 27, 'name': 'Jack'}\n",
    "print(my_dict)\n",
    "\n",
    "# add item\n",
    "my_dict['address'] = 'Downtown'\n",
    "\n",
    "# Output: {'address': 'Downtown', 'age': 27, 'name': 'Jack'}\n",
    "print(my_dict)"
   ]
  },
  {
   "cell_type": "code",
   "execution_count": null,
   "metadata": {},
   "outputs": [],
   "source": [
    "# Removing elements from a dictionary\n",
    "\n",
    "# create a dictionary\n",
    "squares = {1: 1, 2: 4, 3: 9, 4: 16, 5: 25}\n",
    "\n",
    "# remove a particular item, returns its value\n",
    "# Output: 16\n",
    "print(squares.pop(4))\n",
    "\n",
    "# Output: {1: 1, 2: 4, 3: 9, 5: 25}\n",
    "print(squares)\n",
    "\n",
    "# remove an arbitrary item, return (key,value)\n",
    "# Output: (5, 25)\n",
    "print(squares.popitem())\n",
    "\n",
    "# Output: {1: 1, 2: 4, 3: 9}\n",
    "print(squares)\n",
    "\n",
    "# remove all items\n",
    "squares.clear()\n",
    "\n",
    "# Output: {}\n",
    "print(squares)\n",
    "\n",
    "# delete the dictionary itself\n",
    "del squares\n",
    "\n",
    "# Throws Error\n",
    "print(squares)"
   ]
  },
  {
   "cell_type": "code",
   "execution_count": 1,
   "metadata": {},
   "outputs": [],
   "source": [
    "hero_fight_slogan = {\n",
    "    \"韩信\":\"人，总得有个活着的理由\",\n",
    "    \"程咬金\":\"进攻是最好的防守\",\n",
    "    \"关羽\":\"确定了内心的正道，并绝不动摇\",\n",
    "    \"扁鹊\":\"生存还是死亡，这是个问题\",\n",
    "    \"花木兰\":\"离家太远会忘记故乡，杀人太多会忘掉自己\",\n",
    "    \"墨子\":\"为了永久的和平，偶尔的战争是必要的\",\n",
    "    \"钟无艳\":\"俗说说得好，有钱男子汉，没钱汉子难\",\n",
    "    \"马可波罗\":\"世界那么大，我想去看看\",\n",
    "    \"安琪拉\":\"生命，就像人家的魔法书，涂涂改改又是一年\",\n",
    "    \"刘邦\":\"没有永远的朋友，只有永恒的利益\",\n",
    "    \"刘备\":\"深刻而不深沉，平淡而不平庸\",\n",
    "    \"老夫子\":\"有朋友自远方来，不亦乐乎\",\n",
    "    \"李白\":\"十步杀一人，千里不留行\"\n",
    "}"
   ]
  },
  {
   "cell_type": "code",
   "execution_count": 3,
   "metadata": {},
   "outputs": [
    {
     "name": "stdout",
     "output_type": "stream",
     "text": [
      "请输入英雄的名字>>>刘备\n",
      "深刻而不深沉，平淡而不平庸\n",
      "如果你想退出，请输入q或者是Q即可\n",
      "请输入英雄的名字>>>q\n"
     ]
    }
   ],
   "source": [
    "# 实现的目标是，输入了英雄的名字，就能够获取到英雄的口号\n",
    "while True:\n",
    "    hero_name = input(\"请输入英雄的名字>>>\")\n",
    "    # 我需要判断一下，用户输入的英雄的名字是不是存在\n",
    "    hero_list = set(hero_fight_slogan.keys())\n",
    "    if hero_name in hero_list:      \n",
    "        print(hero_fight_slogan[hero_name])\n",
    "    # 如果用户输入了q或者Q我们退出程序\n",
    "    elif hero_name.upper() == \"Q\":\n",
    "        break\n",
    "    else:\n",
    "        print(\"英雄名字不存在，请重新输入\")\n",
    "    print(\"如果你想退出，请输入q或者是Q即可\")"
   ]
  },
  {
   "cell_type": "code",
   "execution_count": 4,
   "metadata": {},
   "outputs": [],
   "source": [
    "dates = [\"星期一\",\"星期二\",\"星期三\",\"星期四\",\"星期五\",\"星期六\",\"星期日\"]\n",
    "\n",
    "content = [\n",
    "\"坚持下去不是因为我很坚强,而是因为我别无选择\",\n",
    "\"含泪播种的人一定能笑着收获\",\n",
    "\"做对的事情比把事情做对更重要\",\n",
    "\"命运给予我们的不是失望之酒,而是机会之杯\",\n",
    "\"不要等到明天,明天太遥远,今天就行动\",\n",
    "\"求知若饥,虚心若愚\",\n",
    "\"成功将属于那些从不说'不可能'的人\"\n",
    "]"
   ]
  },
  {
   "cell_type": "code",
   "execution_count": 5,
   "metadata": {},
   "outputs": [
    {
     "data": {
      "text/plain": [
       "{'星期一': '坚持下去不是因为我很坚强,而是因为我别无选择',\n",
       " '星期二': '含泪播种的人一定能笑着收获',\n",
       " '星期三': '做对的事情比把事情做对更重要',\n",
       " '星期四': '命运给予我们的不是失望之酒,而是机会之杯',\n",
       " '星期五': '不要等到明天,明天太遥远,今天就行动',\n",
       " '星期六': '求知若饥,虚心若愚',\n",
       " '星期日': \"成功将属于那些从不说'不可能'的人\"}"
      ]
     },
     "execution_count": 5,
     "metadata": {},
     "output_type": "execute_result"
    }
   ],
   "source": [
    "my_dict = dict(zip(dates,content))\n",
    "my_dict"
   ]
  },
  {
   "cell_type": "code",
   "execution_count": 6,
   "metadata": {},
   "outputs": [
    {
     "data": {
      "text/plain": [
       "dict"
      ]
     },
     "execution_count": 6,
     "metadata": {},
     "output_type": "execute_result"
    }
   ],
   "source": [
    "type(my_dict)"
   ]
  },
  {
   "cell_type": "code",
   "execution_count": 9,
   "metadata": {},
   "outputs": [],
   "source": [
    "constellation_name_list = [\"白羊座\",\"金牛座\",\"双子座\",\"巨蟹座\",\"狮子座\",\"处女座\",\"天秤座\",\"天蝎座\",\"射手座\",\"摩羯座\",\"水瓶座\",\"双鱼座\"]\n",
    "\n",
    "constellation_value_list = [\n",
    "\"有一种让人看见就觉得开心的感觉，阳光、乐观、坚强，性格直来直去，就是有点小脾气。\",\n",
    "\"很保守，喜欢稳定，一旦有什么变动就会觉得心里不踏实，性格比较慢熟，是个理财高手。\",\n",
    "\"喜欢追求新鲜感，有点小聪明，耐心不够，因你的可爱性格会让很多人喜欢和你做朋友。\",\n",
    "\"情绪容易敏感，缺乏安全感，做事情有坚持到底的毅力，为人重情重义，对朋友和家人特别忠实。\",\n",
    "\"有着远大的理想，总想靠自己的努力成为人上人，总是期待被仰慕被崇拜的感觉。\",\n",
    "\"坚持追求自己的完美主义者。\",\n",
    "\"追求平等、和谐，交际能力强，因此朋友比较多，最大的缺点就是面对选择时总是犹豫不决。\",\n",
    "\"精力旺盛，占有欲强，对于生活很有目标，不达目的誓不罢休，复仇心重。\",\n",
    "\"崇尚自由，勇敢、果断、独立，身上有一股勇往直前的劲儿，只要想做就能做。\",\n",
    "\"是最优耐心的，做事最小心。做事脚踏实地，比较固执，不达目的不罢休，而且非常勤奋。\",\n",
    "\"人很聪明，最大的特点是创新，追求独一无二的生活，个人主义色彩很浓的星座。\",\n",
    "\"集所有星座的优缺点于一身，最大的有点是有一颗善良的心，愿意帮助别人。\"\n",
    "]"
   ]
  },
  {
   "cell_type": "code",
   "execution_count": 10,
   "metadata": {},
   "outputs": [
    {
     "name": "stdout",
     "output_type": "stream",
     "text": [
      "请输入星座的名字>>>白羊座\n",
      "有一种让人看见就觉得开心的感觉，阳光、乐观、坚强，性格直来直去，就是有点小脾气。\n",
      "请输入星座的名字>>>Q\n",
      "程序退出\n"
     ]
    }
   ],
   "source": [
    "## 写一段代码，根据星座能够获得这个星座对应的性格\n",
    "\n",
    "constellation_dict = dict(zip(constellation_name_list,constellation_value_list))\n",
    "\n",
    "while True:\n",
    "    constellation_name = input(\"请输入星座的名字>>>\")\n",
    "    # 获取字典用的key，并转换成列表\n",
    "    constellation_name_list = list(constellation_dict.keys())\n",
    "    \n",
    "    # 判断用户输入的星座的名字是否存在，如果不存在就让用户重新输入\n",
    "    # 如果存在就打印出用户输入星座的性格\n",
    "    # 如果输入q或者是Q就退出\n",
    "    if constellation_name in constellation_name_list:\n",
    "        print(constellation_dict[constellation_name])\n",
    "    elif constellation_name.upper() == \"Q\":\n",
    "        print(\"程序退出\")\n",
    "        break\n",
    "    else:\n",
    "        print(\"星座不存在，请重新输入\")\n",
    "\n"
   ]
  }
 ],
 "metadata": {
  "kernelspec": {
   "display_name": "Python 3",
   "language": "python",
   "name": "python3"
  },
  "language_info": {
   "codemirror_mode": {
    "name": "ipython",
    "version": 3
   },
   "file_extension": ".py",
   "mimetype": "text/x-python",
   "name": "python",
   "nbconvert_exporter": "python",
   "pygments_lexer": "ipython3",
   "version": "3.7.9"
  }
 },
 "nbformat": 4,
 "nbformat_minor": 2
}
