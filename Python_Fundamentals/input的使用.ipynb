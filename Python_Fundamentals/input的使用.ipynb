{
 "cells": [
  {
   "cell_type": "code",
   "execution_count": 2,
   "metadata": {},
   "outputs": [
    {
     "name": "stdout",
     "output_type": "stream",
     "text": [
      "请输入你的姓名：张三\n"
     ]
    }
   ],
   "source": [
    "# 使用input()从键盘输入中获取到值\n",
    "name=input(\"请输入你的姓名：\")"
   ]
  },
  {
   "cell_type": "code",
   "execution_count": 6,
   "metadata": {},
   "outputs": [
    {
     "name": "stdout",
     "output_type": "stream",
     "text": [
      "请输入长度:12\n",
      "12\n",
      "<class 'str'>\n"
     ]
    }
   ],
   "source": [
    "# 使用input（）从键盘获取值并赋值\n",
    "length=input(\"请输入长度:\")\n",
    "print(length)\n",
    "print(type(length))"
   ]
  },
  {
   "cell_type": "code",
   "execution_count": 7,
   "metadata": {},
   "outputs": [
    {
     "name": "stdout",
     "output_type": "stream",
     "text": [
      "请输入宽度：10\n",
      "10\n",
      "请输入高度20\n",
      "20\n",
      "200.0\n"
     ]
    }
   ],
   "source": [
    "# 从键盘输入中获取到值\n",
    "# input\n",
    "width=input(\"请输入宽度：\")\n",
    "print (width)\n",
    "height=input(\"请输入高度\")\n",
    "print(height)\n",
    "\n",
    "print(float(width)*float(height))"
   ]
  },
  {
   "cell_type": "code",
   "execution_count": 9,
   "metadata": {},
   "outputs": [
    {
     "name": "stdout",
     "output_type": "stream",
     "text": [
      "qing shuru...111\n",
      "111\n"
     ]
    }
   ],
   "source": [
    "a=input(\"qing shuru...\")\n",
    "print(a)"
   ]
  }
 ],
 "metadata": {
  "kernelspec": {
   "display_name": "Python 3",
   "language": "python",
   "name": "python3"
  },
  "language_info": {
   "codemirror_mode": {
    "name": "ipython",
    "version": 3
   },
   "file_extension": ".py",
   "mimetype": "text/x-python",
   "name": "python",
   "nbconvert_exporter": "python",
   "pygments_lexer": "ipython3",
   "version": "3.7.9"
  }
 },
 "nbformat": 4,
 "nbformat_minor": 2
}
