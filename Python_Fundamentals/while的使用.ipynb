{
 "cells": [
  {
   "cell_type": "markdown",
   "metadata": {},
   "source": [
    "### while 循环\n",
    "The while loop in Python is used to iterate over a block of code as long as the test expression (condition) is true."
   ]
  },
  {
   "cell_type": "code",
   "execution_count": null,
   "metadata": {},
   "outputs": [],
   "source": [
    "while test_expression:  # test_expression为True的时候执行body部分\n",
    "    Body of while  # test_expression: True, False"
   ]
  },
  {
   "cell_type": "code",
   "execution_count": null,
   "metadata": {},
   "outputs": [],
   "source": [
    "# Program to add natural\n",
    "# numbers up to \n",
    "# sum = 1+2+3+...+n\n",
    "\n",
    "# To take input from the user,\n",
    "# n = int(input(\"Enter n: \"))\n",
    "\n",
    "n = 10\n",
    "sum = 0\n",
    "i = 1\n",
    "while i <= n:\n",
    "    sum = sum + i\n",
    "    i = i+1    # update counter\n",
    "\n",
    "# print the sum\n",
    "print(\"The sum is\", sum)"
   ]
  },
  {
   "cell_type": "code",
   "execution_count": 3,
   "metadata": {},
   "outputs": [
    {
     "name": "stdout",
     "output_type": "stream",
     "text": [
      "5050\n"
     ]
    }
   ],
   "source": [
    "# 求 1+2+3,..+10\n",
    "sum=0\n",
    "for i in range(100): # 0,1,2,3,4...\n",
    "    sum=sum+i+1\n",
    "print (sum)"
   ]
  },
  {
   "cell_type": "code",
   "execution_count": 14,
   "metadata": {},
   "outputs": [
    {
     "name": "stdout",
     "output_type": "stream",
     "text": [
      "55\n"
     ]
    }
   ],
   "source": [
    "sum=0\n",
    "i=1\n",
    "while i <= 10:\n",
    "    sum=sum+i\n",
    "    i=i+1\n",
    "print (sum)"
   ]
  },
  {
   "cell_type": "code",
   "execution_count": 22,
   "metadata": {},
   "outputs": [
    {
     "name": "stdout",
     "output_type": "stream",
     "text": [
      "42\n",
      "42\n",
      "31\n"
     ]
    }
   ],
   "source": [
    "# 2+4+6+8+10+12\n",
    "sum=0\n",
    "for i in range(2,13,2):\n",
    "    sum=sum+i\n",
    "print (sum)\n",
    "\n",
    "sum=0\n",
    "i=2\n",
    "while i<=12:\n",
    "    sum=sum+i\n",
    "    i=i+2\n",
    "print(sum)\n",
    "\n",
    "\n",
    "# 1, 2, 4, 8, 16\n",
    "sum=0\n",
    "i=1\n",
    "while i<=16:\n",
    "    sum=sum+i\n",
    "    i=i*2\n",
    "print(sum)"
   ]
  },
  {
   "cell_type": "code",
   "execution_count": 27,
   "metadata": {},
   "outputs": [
    {
     "name": "stdout",
     "output_type": "stream",
     "text": [
      "please input your maximum number10\n",
      "1 0\n",
      "2 1\n",
      "3 3\n",
      "4 6\n",
      "5 10\n",
      "6 15\n",
      "7 21\n",
      "8 28\n",
      "9 36\n",
      "10 45\n",
      "55\n"
     ]
    }
   ],
   "source": [
    "# 1,2,3,4,... n \n",
    "num=input(\"please input your maximum number\")\n",
    "sum=0\n",
    "i=1\n",
    "while i<=int(num):\n",
    "    #print (i,sum)\n",
    "    sum=sum+i\n",
    "    i=i+1\n",
    "print(sum)"
   ]
  }
 ],
 "metadata": {
  "kernelspec": {
   "display_name": "Python 3",
   "language": "python",
   "name": "python3"
  },
  "language_info": {
   "codemirror_mode": {
    "name": "ipython",
    "version": 3
   },
   "file_extension": ".py",
   "mimetype": "text/x-python",
   "name": "python",
   "nbconvert_exporter": "python",
   "pygments_lexer": "ipython3",
   "version": "3.7.9"
  }
 },
 "nbformat": 4,
 "nbformat_minor": 2
}
