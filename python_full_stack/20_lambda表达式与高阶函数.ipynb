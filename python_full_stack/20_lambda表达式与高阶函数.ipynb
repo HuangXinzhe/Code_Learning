{
 "cells": [
  {
   "cell_type": "markdown",
   "id": "0d76bea7",
   "metadata": {},
   "source": [
    "# lambda"
   ]
  },
  {
   "cell_type": "code",
   "execution_count": 1,
   "id": "af9fce5e",
   "metadata": {},
   "outputs": [
    {
     "name": "stdout",
     "output_type": "stream",
     "text": [
      "4\n"
     ]
    }
   ],
   "source": [
    "# lambda表达式（匿名函数）\n",
    "# 格式：lambda参数列表：表达式\n",
    "#\n",
    "# def f(x):\n",
    "#     return x+x\n",
    "\n",
    "# 在工程中尽量用函数，不用lambda\n",
    "f = lambda x: x + x\n",
    "\n",
    "r = f(2)\n",
    "print(r)"
   ]
  },
  {
   "cell_type": "markdown",
   "id": "0236af27",
   "metadata": {},
   "source": [
    "# map"
   ]
  },
  {
   "cell_type": "code",
   "execution_count": 4,
   "id": "c2b49d70",
   "metadata": {},
   "outputs": [
    {
     "data": {
      "text/plain": [
       "<map at 0x1e2318578c8>"
      ]
     },
     "execution_count": 4,
     "metadata": {},
     "output_type": "execute_result"
    }
   ],
   "source": [
    "# map函数\n",
    "map_demo = map(lambda x: x + x, [1, 2, 3, 4])\n",
    "map_demo"
   ]
  },
  {
   "cell_type": "code",
   "execution_count": 3,
   "id": "89d1a7b4",
   "metadata": {},
   "outputs": [
    {
     "data": {
      "text/plain": [
       "[2, 4, 6, 8]"
      ]
     },
     "execution_count": 3,
     "metadata": {},
     "output_type": "execute_result"
    }
   ],
   "source": [
    "list(map_demo)"
   ]
  },
  {
   "cell_type": "code",
   "execution_count": 5,
   "id": "46a79164",
   "metadata": {},
   "outputs": [
    {
     "data": {
      "text/plain": [
       "['1', '2', '3', '4']"
      ]
     },
     "execution_count": 5,
     "metadata": {},
     "output_type": "execute_result"
    }
   ],
   "source": [
    "list(map(str, [1, 2, 3, 4]))"
   ]
  },
  {
   "cell_type": "markdown",
   "id": "cf16eaf2",
   "metadata": {},
   "source": [
    "# reduce"
   ]
  },
  {
   "cell_type": "code",
   "execution_count": 7,
   "id": "24e40317",
   "metadata": {},
   "outputs": [
    {
     "data": {
      "text/plain": [
       "20"
      ]
     },
     "execution_count": 7,
     "metadata": {},
     "output_type": "execute_result"
    }
   ],
   "source": [
    "# reduce函数（累加）\n",
    "from functools import reduce\n",
    "r = reduce(lambda x,y: x+y, [1, 2, 3, 4], 10)  # 列表中元素累加，10为初始化数值\n",
    "r"
   ]
  },
  {
   "cell_type": "markdown",
   "id": "dc1196d7",
   "metadata": {},
   "source": [
    "# filter"
   ]
  },
  {
   "cell_type": "code",
   "execution_count": 8,
   "id": "e2782218",
   "metadata": {},
   "outputs": [
    {
     "data": {
      "text/plain": [
       "[1, 3, 5, 7]"
      ]
     },
     "execution_count": 8,
     "metadata": {},
     "output_type": "execute_result"
    }
   ],
   "source": [
    "# filter函数（过滤）\n",
    "list(filter(lambda x: x%2 == 1, [1, 2, 3, 4, 5, 6, 7, 8]))"
   ]
  },
  {
   "cell_type": "code",
   "execution_count": 9,
   "id": "fd115f5b",
   "metadata": {},
   "outputs": [
    {
     "data": {
      "text/plain": [
       "['1', 'aa']"
      ]
     },
     "execution_count": 9,
     "metadata": {},
     "output_type": "execute_result"
    }
   ],
   "source": [
    "list(filter(lambda x: x and x.strip(), [\"1\", \"aa\", \" \", None]))"
   ]
  }
 ],
 "metadata": {
  "kernelspec": {
   "display_name": "Python 3 (ipykernel)",
   "language": "python",
   "name": "python3"
  },
  "language_info": {
   "codemirror_mode": {
    "name": "ipython",
    "version": 3
   },
   "file_extension": ".py",
   "mimetype": "text/x-python",
   "name": "python",
   "nbconvert_exporter": "python",
   "pygments_lexer": "ipython3",
   "version": "3.7.11"
  }
 },
 "nbformat": 4,
 "nbformat_minor": 5
}
