{
 "cells": [
  {
   "cell_type": "markdown",
   "id": "c6732a2c",
   "metadata": {},
   "source": [
    "## file_operation"
   ]
  },
  {
   "cell_type": "markdown",
   "id": "1b3e460a",
   "metadata": {},
   "source": [
    "## 文件读"
   ]
  },
  {
   "cell_type": "code",
   "execution_count": 4,
   "id": "fade4111",
   "metadata": {},
   "outputs": [
    {
     "name": "stdout",
     "output_type": "stream",
     "text": [
      "try:\n",
      "    f\n",
      "ile = open\n",
      "(\"aaaa\", '\n",
      "r')\n",
      "#     \n",
      "i = 1\n",
      "exce\n",
      "pt FileNot\n",
      "FoundError\n",
      " as e:  # \n",
      "指定要捕获的异常\n",
      " \n",
      "   print(\"\n",
      "发生异常了：文件没有\n",
      "发现，请检查\")\n",
      " \n",
      "   print(e\n",
      ")  # 打印异常内\n",
      "容\n",
      "except R\n",
      "eferenceEr\n",
      "ror as e:\n",
      "\n",
      "    print(\n",
      "\"异常2\")\n",
      "exc\n",
      "ept Except\n",
      "ion:  \n",
      "   \n",
      " print(\"发生\n",
      "异常了\")\n",
      "else\n",
      ":\n",
      "    prin\n",
      "t(\"没有发生异常\"\n",
      ")\n",
      "finally:\n",
      "\n",
      "    print\n",
      "(\"这个无论如何都会\n",
      "被打印，也就是说这个\n",
      "代码无论如何都会被执\n",
      "行\")\n",
      "\n"
     ]
    }
   ],
   "source": [
    "def read_file1():\n",
    "    f = open('exception.py', 'r', encoding='utf-8')\n",
    "    # print(f.read())  # 一次性读取所有内容。  文件很大时会占用很大的内存\n",
    "    # print(f.read(10))  # 指定大小的读取（字符）\n",
    "    \n",
    "    # 按指定的字符分段输出\n",
    "    while True:\n",
    "        z = f.read(10)\n",
    "        print(z)\n",
    "        if z is \"\":\n",
    "            break\n",
    "    \n",
    "    f.close()\n",
    "    \n",
    "read_file1()"
   ]
  },
  {
   "cell_type": "code",
   "execution_count": 9,
   "id": "b9163997",
   "metadata": {},
   "outputs": [
    {
     "name": "stdout",
     "output_type": "stream",
     "text": [
      "['try:\\n', '    file = open(\"aaaa\", \\'r\\')\\n', '#     i = 1\\n', 'except FileNotFoundError as e:  # 指定要捕获的异常\\n', '    print(\"发生异常了：文件没有发现，请检查\")\\n', '    print(e)  # 打印异常内容\\n', 'except ReferenceError as e:\\n', '    print(\"异常2\")\\n', 'except Exception:  \\n', '    print(\"发生异常了\")\\n', 'else:\\n', '    print(\"没有发生异常\")\\n', 'finally:\\n', '    print(\"这个无论如何都会被打印，也就是说这个代码无论如何都会被执行\")']\n"
     ]
    }
   ],
   "source": [
    "# with open 自动关闭文件的输入输出流\n",
    "from typing import AnyStr\n",
    "\n",
    "def read_file2(filename:str) -> AnyStr:\n",
    "    with open(filename, 'r', encoding='utf-8') as f:\n",
    "        lines = f.readlines()\n",
    "        print(lines)\n",
    "        \n",
    "read_file2('exception.py')"
   ]
  },
  {
   "cell_type": "code",
   "execution_count": 11,
   "id": "4e4afee8",
   "metadata": {},
   "outputs": [
    {
     "name": "stdout",
     "output_type": "stream",
     "text": [
      "aaa\n",
      "{'filename': <class 'int'>, 'return': '这是一个解释说明'}\n",
      "-1\n",
      "{'filename': <class 'int'>, 'return': '这是一个解释说明'}\n"
     ]
    }
   ],
   "source": [
    "def read_file3(filename: int = -1) -> \"这是一个解释说明\":\n",
    "    print(filename)\n",
    "    print(read_file3.__annotations__)\n",
    "    \n",
    "read_file3(\"aaa\")\n",
    "read_file3()"
   ]
  },
  {
   "cell_type": "markdown",
   "id": "0de87045",
   "metadata": {},
   "source": [
    "## 动态注释"
   ]
  },
  {
   "cell_type": "code",
   "execution_count": 12,
   "id": "7e3adf12",
   "metadata": {},
   "outputs": [
    {
     "name": "stdout",
     "output_type": "stream",
     "text": [
      "aaa\n",
      "{'filename': <class 'int'>, 'return': '这是一个解释说明'}\n",
      "{'filename': <class 'int'>, 'return': '这是一个解释说明', 'info': '动态注释'}\n",
      "-1\n",
      "{'filename': <class 'int'>, 'return': '这是一个解释说明', 'info': '动态注释'}\n",
      "{'filename': <class 'int'>, 'return': '这是一个解释说明', 'info': '动态注释'}\n"
     ]
    }
   ],
   "source": [
    "def read_file3(filename: int = -1) -> \"这是一个解释说明\":\n",
    "    print(filename)\n",
    "    print(read_file3.__annotations__)\n",
    "    read_file3.__annotations__['info'] = '动态注释'  # 动态注释方法\n",
    "    print(read_file3.__annotations__)\n",
    "    \n",
    "read_file3(\"aaa\")\n",
    "read_file3()"
   ]
  },
  {
   "cell_type": "markdown",
   "id": "e1bde44f",
   "metadata": {},
   "source": [
    "## 文件写"
   ]
  },
  {
   "cell_type": "code",
   "execution_count": null,
   "id": "a37725d8",
   "metadata": {},
   "outputs": [],
   "source": [
    "def write_file():\n",
    "    with open('1.txt', 'w', encoding='utf-8') as f:\n",
    "        for i in range(100):\n",
    "            f.write(str(i))\n",
    "            f.flush()  # 将内存（缓冲区）中的数据刷到磁盘上\n",
    "\n",
    "write_file()"
   ]
  }
 ],
 "metadata": {
  "kernelspec": {
   "display_name": "Python 3 (ipykernel)",
   "language": "python",
   "name": "python3"
  },
  "language_info": {
   "codemirror_mode": {
    "name": "ipython",
    "version": 3
   },
   "file_extension": ".py",
   "mimetype": "text/x-python",
   "name": "python",
   "nbconvert_exporter": "python",
   "pygments_lexer": "ipython3",
   "version": "3.7.11"
  }
 },
 "nbformat": 4,
 "nbformat_minor": 5
}
