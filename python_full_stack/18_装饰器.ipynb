{
 "cells": [
  {
   "cell_type": "markdown",
   "id": "edd161a4",
   "metadata": {},
   "source": [
    "# decorator"
   ]
  },
  {
   "cell_type": "code",
   "execution_count": null,
   "id": "774d0968",
   "metadata": {},
   "outputs": [],
   "source": [
    "\"\"\"\n",
    "装饰器（语法糖、注解）\n",
    "\"\"\"\n",
    "# 函数名为函数的引用，函数名（）为函数调用\n",
    "# 函数的参数可以是函数\n",
    "# 装饰器可以任意取名"
   ]
  },
  {
   "cell_type": "code",
   "execution_count": 1,
   "id": "4fc468af",
   "metadata": {},
   "outputs": [
    {
     "data": {
      "text/plain": [
       "13"
      ]
     },
     "execution_count": 1,
     "metadata": {},
     "output_type": "execute_result"
    }
   ],
   "source": [
    "def func_1(x):\n",
    "    return x * 2\n",
    "\n",
    "def func_2(x):\n",
    "    return x * 3\n",
    "\n",
    "def func_3(x, y, i, j):\n",
    "    return x(i) + y(j)\n",
    "\n",
    "r = func_3(func_1, func_2, 2, 3)\n",
    "print(r)"
   ]
  },
  {
   "cell_type": "markdown",
   "id": "1039ff50",
   "metadata": {},
   "source": [
    "## 无参数"
   ]
  },
  {
   "cell_type": "code",
   "execution_count": 7,
   "id": "c5132362",
   "metadata": {},
   "outputs": [
    {
     "name": "stdout",
     "output_type": "stream",
     "text": [
      "函数运行前\n",
      "demo1函数运行\n",
      "函数运行后\n",
      "1.0012221336364746\n"
     ]
    }
   ],
   "source": [
    "import time\n",
    "\n",
    "# 闭包函数\n",
    "def runtime_noargs(function_name):\n",
    "    \n",
    "    def wrapper():\n",
    "        start_time = time.time()\n",
    "        print(\"函数运行前\")\n",
    "        function_name()\n",
    "        print(\"函数运行后\")\n",
    "        end_time = time.time()\n",
    "        print(end_time - start_time)\n",
    "        \n",
    "    return wrapper\n",
    "\n",
    "# @后是函数名\n",
    "@runtime_noargs\n",
    "def function_demo1():  # function_demo1就是runtime_noargs中要传入的参数\n",
    "    time.sleep(1)\n",
    "    print(\"demo1函数运行\")\n",
    "    \n",
    "function_demo1()"
   ]
  },
  {
   "cell_type": "markdown",
   "id": "ecbdc093",
   "metadata": {},
   "source": [
    "## 有参数\n",
    "### Python是弱类型语言，没有限制任何函数参数数据类型，通过装饰器限制函数参数类型"
   ]
  },
  {
   "cell_type": "code",
   "execution_count": 9,
   "id": "6ee42804",
   "metadata": {},
   "outputs": [
    {
     "name": "stdout",
     "output_type": "stream",
     "text": [
      "参数错误\n"
     ]
    }
   ],
   "source": [
    "def args_is_str(function_name):\n",
    "    def wrapper(a):\n",
    "        t = type(a)\n",
    "        if not isinstance(t(), str):\n",
    "            print(\"参数错误\")\n",
    "        else:\n",
    "            function_name(a)\n",
    "            \n",
    "    return wrapper\n",
    "\n",
    "@args_is_str\n",
    "def function_demo2(args):\n",
    "    print(args)\n",
    "    \n",
    "function_demo2(1)"
   ]
  }
 ],
 "metadata": {
  "kernelspec": {
   "display_name": "Python 3 (ipykernel)",
   "language": "python",
   "name": "python3"
  },
  "language_info": {
   "codemirror_mode": {
    "name": "ipython",
    "version": 3
   },
   "file_extension": ".py",
   "mimetype": "text/x-python",
   "name": "python",
   "nbconvert_exporter": "python",
   "pygments_lexer": "ipython3",
   "version": "3.7.11"
  }
 },
 "nbformat": 4,
 "nbformat_minor": 5
}
