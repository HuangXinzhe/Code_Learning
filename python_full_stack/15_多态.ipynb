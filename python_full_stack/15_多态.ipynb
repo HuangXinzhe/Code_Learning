{
 "cells": [
  {
   "cell_type": "code",
   "execution_count": 1,
   "id": "068bb0ca",
   "metadata": {},
   "outputs": [],
   "source": [
    "\"\"\"\n",
    "多态\n",
    "一类事物有多种形态\n",
    "\"\"\"\n",
    "\n",
    "class Animal:\n",
    "    def run(self):\n",
    "        raise AttributeError(\"子类必须实现这个方法\")\n",
    "\n",
    "class Person(Animal):\n",
    "    def run(self):\n",
    "        print(\"人走\")\n",
    "        \n",
    "class Pig(Animal):\n",
    "    def run(self):\n",
    "        print(\"pig 跑\")\n",
    "        \n",
    "class Dog(Animal):\n",
    "    def run(self):\n",
    "        print(\"dog run\")"
   ]
  },
  {
   "cell_type": "code",
   "execution_count": 2,
   "id": "b8b7ab01",
   "metadata": {},
   "outputs": [
    {
     "name": "stdout",
     "output_type": "stream",
     "text": [
      "人走\n",
      "pig 跑\n",
      "dog run\n"
     ]
    }
   ],
   "source": [
    "person = Person()\n",
    "person.run()\n",
    "\n",
    "pig = Pig()\n",
    "pig.run()\n",
    "\n",
    "dog = Dog()\n",
    "dog.run()"
   ]
  },
  {
   "cell_type": "code",
   "execution_count": 5,
   "id": "d3287dbe",
   "metadata": {},
   "outputs": [
    {
     "name": "stdout",
     "output_type": "stream",
     "text": [
      "人走\n",
      "pig 跑\n",
      "dog run\n"
     ]
    }
   ],
   "source": [
    "\"\"\"\n",
    "多态性\n",
    "不考虑实例类型的情况下使用实例，多态性分为静态多态性和动态多态性\n",
    "静态多态性：如任何类型都可以用运算符+进行运算\n",
    "动态多态性：相同继承的子类拥有父类的共同方法，在调用时不需要考虑具体的类型直接使用（使用函数调用类方法）\n",
    "\"\"\"\n",
    "\n",
    "def func(obj):\n",
    "    obj.run()\n",
    "     \n",
    "person = Person()\n",
    "pig = Pig()\n",
    "dog = Dog()\n",
    "\n",
    "# 这里就相当于往USB接口上插入一些设备\n",
    "func(person)\n",
    "func(pig)\n",
    "func(dog)"
   ]
  },
  {
   "cell_type": "code",
   "execution_count": 8,
   "id": "b7a57595",
   "metadata": {},
   "outputs": [],
   "source": [
    "from abc import ABCMeta, abstractmethod\n",
    "\n",
    "class Computer(metaclass=ABCMeta):\n",
    "    \n",
    "    @abstractmethod\n",
    "    def usb_insert(self):\n",
    "        pass\n",
    "\n",
    "def usb_run(sub_computer):\n",
    "    sub_computer.usb_insert()\n",
    "    \n",
    "    \n",
    "class Mouse(Computer):\n",
    "    def usb_insert(self):\n",
    "        print(\"插入鼠标\")\n",
    "\n",
    "class Keyboard(Computer):\n",
    "    def usb_insert(self):\n",
    "        print(\"插入键盘\")"
   ]
  },
  {
   "cell_type": "code",
   "execution_count": 9,
   "id": "610bdf24",
   "metadata": {},
   "outputs": [
    {
     "name": "stdout",
     "output_type": "stream",
     "text": [
      "插入鼠标\n"
     ]
    }
   ],
   "source": [
    "m = Mouse()\n",
    "usb_run(m)"
   ]
  },
  {
   "cell_type": "code",
   "execution_count": 10,
   "id": "1e7591cd",
   "metadata": {},
   "outputs": [
    {
     "name": "stdout",
     "output_type": "stream",
     "text": [
      "插入键盘\n"
     ]
    }
   ],
   "source": [
    "k = Keyboard()\n",
    "usb_run(k)"
   ]
  },
  {
   "cell_type": "code",
   "execution_count": 14,
   "id": "b174a146",
   "metadata": {},
   "outputs": [],
   "source": [
    "from abc import ABCMeta, abstractmethod\n",
    "\n",
    "class Computer(metaclass=ABCMeta):\n",
    "    \n",
    "    # 类中包含有抽象方法就不能实例化（潜规则）\n",
    "    @abstractmethod\n",
    "    def usb_insert(self):\n",
    "        pass\n",
    "\n",
    "class Thinkpad(Computer):\n",
    "    def usb_insert(self):\n",
    "        pass\n",
    "    def usb_run(self, sub_computer):\n",
    "        sub_computer.usb_insert()\n",
    "    \n",
    "    \n",
    "class Mouse(Computer):\n",
    "    def usb_insert(self):\n",
    "        print(\"插入鼠标\")\n",
    "\n",
    "class Keyboard(Computer):\n",
    "    def usb_insert(self):\n",
    "        print(\"插入键盘\")"
   ]
  },
  {
   "cell_type": "code",
   "execution_count": 15,
   "id": "2f0bd9a0",
   "metadata": {},
   "outputs": [
    {
     "name": "stdout",
     "output_type": "stream",
     "text": [
      "插入鼠标\n",
      "插入键盘\n"
     ]
    }
   ],
   "source": [
    "computer = Thinkpad()\n",
    "m = Mouse()\n",
    "computer.usb_run(m)\n",
    "k = Keyboard()\n",
    "computer.usb_run(k)"
   ]
  }
 ],
 "metadata": {
  "kernelspec": {
   "display_name": "Python 3 (ipykernel)",
   "language": "python",
   "name": "python3"
  },
  "language_info": {
   "codemirror_mode": {
    "name": "ipython",
    "version": 3
   },
   "file_extension": ".py",
   "mimetype": "text/x-python",
   "name": "python",
   "nbconvert_exporter": "python",
   "pygments_lexer": "ipython3",
   "version": "3.7.11"
  }
 },
 "nbformat": 4,
 "nbformat_minor": 5
}
