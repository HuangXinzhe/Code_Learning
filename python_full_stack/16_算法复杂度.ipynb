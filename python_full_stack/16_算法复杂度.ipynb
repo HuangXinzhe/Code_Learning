{
 "cells": [
  {
   "cell_type": "code",
   "execution_count": 1,
   "id": "b7f53fd1",
   "metadata": {},
   "outputs": [],
   "source": [
    "a = 0\n",
    "n = 100\n",
    "while a < n:\n",
    "    a = a + 1  # 时间复杂度是O(N)，N为常数，计算量为N"
   ]
  },
  {
   "cell_type": "code",
   "execution_count": 3,
   "id": "2926dfbe",
   "metadata": {},
   "outputs": [],
   "source": [
    "a = 0\n",
    "b = 0\n",
    "c = 1\n",
    "n = 100\n",
    "while a < n:\n",
    "    while b < n:\n",
    "        c = c + 1  # 计算表达式  时间复杂度O(N^2)\n",
    "        b = b + 1\n",
    "    a = a + 1\n",
    "# 时间复杂度是一种趋势"
   ]
  },
  {
   "cell_type": "code",
   "execution_count": 6,
   "id": "96e00548",
   "metadata": {},
   "outputs": [],
   "source": [
    "a = 0\n",
    "b = 1\n",
    "c = 0\n",
    "n = 100\n",
    "while a < n:\n",
    "    while b < n:\n",
    "        c = c + 1  \n",
    "        b = b * 2\n",
    "    a = a + 1\n",
    "# 时间复杂度O(NlogN)"
   ]
  }
 ],
 "metadata": {
  "kernelspec": {
   "display_name": "Python 3 (ipykernel)",
   "language": "python",
   "name": "python3"
  },
  "language_info": {
   "codemirror_mode": {
    "name": "ipython",
    "version": 3
   },
   "file_extension": ".py",
   "mimetype": "text/x-python",
   "name": "python",
   "nbconvert_exporter": "python",
   "pygments_lexer": "ipython3",
   "version": "3.7.11"
  }
 },
 "nbformat": 4,
 "nbformat_minor": 5
}
