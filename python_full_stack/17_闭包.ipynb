{
 "cells": [
  {
   "cell_type": "markdown",
   "id": "4e6d6bbf",
   "metadata": {},
   "source": [
    "# close_package"
   ]
  },
  {
   "cell_type": "code",
   "execution_count": null,
   "id": "2da8b051",
   "metadata": {},
   "outputs": [],
   "source": [
    "\"\"\"\n",
    "闭包：外部函数的返回值是内部函数的引用\n",
    "\"\"\""
   ]
  },
  {
   "cell_type": "code",
   "execution_count": 2,
   "id": "b02d3106",
   "metadata": {},
   "outputs": [
    {
     "name": "stdout",
     "output_type": "stream",
     "text": [
      "15\n"
     ]
    }
   ],
   "source": [
    "def outer(a):\n",
    "    b = 10\n",
    "    def inner():\n",
    "        print(a + b)\n",
    "    # 外部函数的返回值是内部函数的引用\n",
    "    return inner\n",
    "\n",
    "inner_func = outer(5)\n",
    "inner_func()\n",
    "# inner和inner_func指向同一个地址，改地址为函数inner"
   ]
  }
 ],
 "metadata": {
  "kernelspec": {
   "display_name": "Python 3 (ipykernel)",
   "language": "python",
   "name": "python3"
  },
  "language_info": {
   "codemirror_mode": {
    "name": "ipython",
    "version": 3
   },
   "file_extension": ".py",
   "mimetype": "text/x-python",
   "name": "python",
   "nbconvert_exporter": "python",
   "pygments_lexer": "ipython3",
   "version": "3.7.11"
  }
 },
 "nbformat": 4,
 "nbformat_minor": 5
}
