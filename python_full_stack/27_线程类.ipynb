{
 "cells": [
  {
   "cell_type": "markdown",
   "id": "45c8ed7e",
   "metadata": {},
   "source": [
    "# 类中使用多线程"
   ]
  },
  {
   "cell_type": "code",
   "execution_count": 3,
   "id": "404fe0a4",
   "metadata": {},
   "outputs": [],
   "source": [
    "from threading import Thread\n",
    "\n",
    "class Hello(Thread):  # 多线程类需要继承Thread\n",
    "    def __init__(self, name):\n",
    "        super().__init__()\n",
    "        self.name = name\n",
    "\n",
    "    def run(self):\n",
    "        print(\"hello %s \" % self.name)"
   ]
  },
  {
   "cell_type": "code",
   "execution_count": 4,
   "id": "c97adcbc",
   "metadata": {},
   "outputs": [
    {
     "name": "stdout",
     "output_type": "stream",
     "text": [
      "hello 我是一个线程类 \n",
      "我是主线程\n"
     ]
    }
   ],
   "source": [
    "t = Hello(\"我是一个线程类\")\n",
    "t.start()\n",
    "print(\"我是主线程\")"
   ]
  }
 ],
 "metadata": {
  "kernelspec": {
   "display_name": "Python 3 (ipykernel)",
   "language": "python",
   "name": "python3"
  },
  "language_info": {
   "codemirror_mode": {
    "name": "ipython",
    "version": 3
   },
   "file_extension": ".py",
   "mimetype": "text/x-python",
   "name": "python",
   "nbconvert_exporter": "python",
   "pygments_lexer": "ipython3",
   "version": "3.7.11"
  }
 },
 "nbformat": 4,
 "nbformat_minor": 5
}
