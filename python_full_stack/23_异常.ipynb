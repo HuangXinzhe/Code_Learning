{
 "cells": [
  {
   "cell_type": "code",
   "execution_count": null,
   "id": "763c2513",
   "metadata": {},
   "outputs": [],
   "source": [
    "\"\"\"\n",
    "什么是异常？\n",
    "运行的时候发生了错误，其实是代码抛出了一个错误\n",
    "BaseException是所有异常的基类\n",
    "异常的处理方式：\n",
    "try:\n",
    "    代码块\n",
    "except 异常名字:\n",
    "    代码块：你要如何去处理这个异常\n",
    "else:\n",
    "    代码块\n",
    "\"\"\""
   ]
  },
  {
   "cell_type": "code",
   "execution_count": 2,
   "id": "7fc9ade4",
   "metadata": {},
   "outputs": [
    {
     "ename": "FileNotFoundError",
     "evalue": "[Errno 2] No such file or directory: 'aaaa'",
     "output_type": "error",
     "traceback": [
      "\u001b[1;31m---------------------------------------------------------------------------\u001b[0m",
      "\u001b[1;31mFileNotFoundError\u001b[0m                         Traceback (most recent call last)",
      "\u001b[1;32mC:\\Users\\Public\\Documents\\Wondershare\\CreatorTemp/ipykernel_2344/4006747657.py\u001b[0m in \u001b[0;36m<module>\u001b[1;34m\u001b[0m\n\u001b[1;32m----> 1\u001b[1;33m \u001b[0mfile\u001b[0m \u001b[1;33m=\u001b[0m \u001b[0mopen\u001b[0m\u001b[1;33m(\u001b[0m\u001b[1;34m\"aaaa\"\u001b[0m\u001b[1;33m,\u001b[0m \u001b[1;34m'r'\u001b[0m\u001b[1;33m)\u001b[0m\u001b[1;33m\u001b[0m\u001b[1;33m\u001b[0m\u001b[0m\n\u001b[0m",
      "\u001b[1;31mFileNotFoundError\u001b[0m: [Errno 2] No such file or directory: 'aaaa'"
     ]
    }
   ],
   "source": [
    "file = open(\"aaaa\", 'r')"
   ]
  },
  {
   "cell_type": "code",
   "execution_count": 3,
   "id": "8c54e6ea",
   "metadata": {},
   "outputs": [
    {
     "name": "stdout",
     "output_type": "stream",
     "text": [
      "发生异常了\n"
     ]
    }
   ],
   "source": [
    "# except没有写明异常类型，掩盖了异常类型\n",
    "try:\n",
    "    file = open(\"aaaa\", 'r')\n",
    "except:\n",
    "    print(\"发生异常了\")"
   ]
  },
  {
   "cell_type": "code",
   "execution_count": 1,
   "id": "d75faff8",
   "metadata": {},
   "outputs": [
    {
     "name": "stdout",
     "output_type": "stream",
     "text": [
      "没有发生异常\n"
     ]
    }
   ],
   "source": [
    "try:\n",
    "    # file = open(\"aaaa\", 'r')\n",
    "    i = 1\n",
    "except:\n",
    "    print(\"发生异常了\")\n",
    "else:\n",
    "    print(\"没有发生异常\")"
   ]
  },
  {
   "cell_type": "code",
   "execution_count": 6,
   "id": "a0364b06",
   "metadata": {},
   "outputs": [
    {
     "name": "stdout",
     "output_type": "stream",
     "text": [
      "发生异常了：文件没有发现，请检查\n",
      "[Errno 2] No such file or directory: 'aaaa'\n"
     ]
    }
   ],
   "source": [
    "try:\n",
    "    file = open(\"aaaa\", 'r')\n",
    "#     i = 1\n",
    "except FileNotFoundError as e:  # 指定要捕获的异常\n",
    "    print(\"发生异常了：文件没有发现，请检查\")\n",
    "    print(e)  # 打印异常内容\n",
    "else:\n",
    "    print(\"没有发生异常\")"
   ]
  },
  {
   "cell_type": "code",
   "execution_count": 7,
   "id": "66df7790",
   "metadata": {},
   "outputs": [
    {
     "name": "stdout",
     "output_type": "stream",
     "text": [
      "发生异常了\n"
     ]
    }
   ],
   "source": [
    "# 只会捕获第一个符合的异常，将子类异常放在前面，将父类异常放在后面防止子类异常不起作用\n",
    "try:\n",
    "    file = open(\"aaaa\", 'r')\n",
    "#     i = 1\n",
    "except Exception:  # 一旦满足异常即返回，因此权限大的异常放后面\n",
    "    print(\"发生异常了\")\n",
    "except FileNotFoundError as e:  # 指定要捕获的异常\n",
    "    print(\"发生异常了：文件没有发现，请检查\")\n",
    "    print(e)  # 打印异常内容\n",
    "else:\n",
    "    print(\"没有发生异常\")"
   ]
  },
  {
   "cell_type": "code",
   "execution_count": null,
   "id": "2ed69f54",
   "metadata": {},
   "outputs": [],
   "source": [
    "\"\"\"\n",
    "异常处理原则：\n",
    "什么时候进行异常捕获\n",
    "能处理的捕获，不能处理直接抛出\n",
    "\"\"\""
   ]
  },
  {
   "cell_type": "markdown",
   "id": "047ac708",
   "metadata": {},
   "source": [
    "## finally一般用于资源的处理与释放"
   ]
  },
  {
   "cell_type": "code",
   "execution_count": 8,
   "id": "d4999588",
   "metadata": {},
   "outputs": [
    {
     "name": "stdout",
     "output_type": "stream",
     "text": [
      "发生异常了：文件没有发现，请检查\n",
      "[Errno 2] No such file or directory: 'aaaa'\n",
      "这个无论如何都会被打印，也就是说这个代码无论如何都会被执行\n"
     ]
    }
   ],
   "source": [
    "try:\n",
    "    file = open(\"aaaa\", 'r')\n",
    "#     i = 1\n",
    "except FileNotFoundError as e:  # 指定要捕获的异常\n",
    "    print(\"发生异常了：文件没有发现，请检查\")\n",
    "    print(e)  # 打印异常内容\n",
    "except ReferenceError as e:\n",
    "    print(\"异常2\")\n",
    "except Exception:  \n",
    "    print(\"发生异常了\")\n",
    "else:\n",
    "    print(\"没有发生异常\")\n",
    "finally:\n",
    "    print(\"这个无论如何都会被打印，也就是说这个代码无论如何都会被执行\")"
   ]
  },
  {
   "cell_type": "markdown",
   "id": "477a90ed",
   "metadata": {},
   "source": [
    "## 手动抛出异常"
   ]
  },
  {
   "cell_type": "code",
   "execution_count": 10,
   "id": "c501d6db",
   "metadata": {},
   "outputs": [
    {
     "ename": "Exception",
     "evalue": "手动抛出异常",
     "output_type": "error",
     "traceback": [
      "\u001b[1;31m---------------------------------------------------------------------------\u001b[0m",
      "\u001b[1;31mException\u001b[0m                                 Traceback (most recent call last)",
      "\u001b[1;32mC:\\Users\\Public\\Documents\\Wondershare\\CreatorTemp/ipykernel_26888/3264365014.py\u001b[0m in \u001b[0;36m<module>\u001b[1;34m\u001b[0m\n\u001b[1;32m----> 1\u001b[1;33m \u001b[1;32mraise\u001b[0m \u001b[0mException\u001b[0m\u001b[1;33m(\u001b[0m\u001b[1;34m\"手动抛出异常\"\u001b[0m\u001b[1;33m)\u001b[0m\u001b[1;33m\u001b[0m\u001b[1;33m\u001b[0m\u001b[0m\n\u001b[0m",
      "\u001b[1;31mException\u001b[0m: 手动抛出异常"
     ]
    }
   ],
   "source": [
    "raise Exception(\"手动抛出异常\")"
   ]
  },
  {
   "cell_type": "code",
   "execution_count": 11,
   "id": "796c19cc",
   "metadata": {},
   "outputs": [
    {
     "name": "stdout",
     "output_type": "stream",
     "text": [
      "捕获了一个异常\n"
     ]
    }
   ],
   "source": [
    "try:\n",
    "    raise Exception(\"手动抛出异常\")\n",
    "except:\n",
    "    print(\"捕获了一个异常\")"
   ]
  },
  {
   "cell_type": "markdown",
   "id": "5ab288ef",
   "metadata": {},
   "source": [
    "## 自定义异常"
   ]
  },
  {
   "cell_type": "code",
   "execution_count": 13,
   "id": "f54927b7",
   "metadata": {},
   "outputs": [
    {
     "ename": "MyDefineError",
     "evalue": "抛出去一个自己定义的异常",
     "output_type": "error",
     "traceback": [
      "\u001b[1;31m---------------------------------------------------------------------------\u001b[0m",
      "\u001b[1;31mMyDefineError\u001b[0m                             Traceback (most recent call last)",
      "\u001b[1;32mC:\\Users\\Public\\Documents\\Wondershare\\CreatorTemp/ipykernel_26888/3048869821.py\u001b[0m in \u001b[0;36m<module>\u001b[1;34m\u001b[0m\n\u001b[0;32m      1\u001b[0m \u001b[1;32mclass\u001b[0m \u001b[0mMyDefineError\u001b[0m\u001b[1;33m(\u001b[0m\u001b[0mBaseException\u001b[0m\u001b[1;33m)\u001b[0m\u001b[1;33m:\u001b[0m\u001b[1;33m\u001b[0m\u001b[1;33m\u001b[0m\u001b[0m\n\u001b[0;32m      2\u001b[0m     \u001b[1;32mpass\u001b[0m\u001b[1;33m\u001b[0m\u001b[1;33m\u001b[0m\u001b[0m\n\u001b[1;32m----> 3\u001b[1;33m \u001b[1;32mraise\u001b[0m \u001b[0mMyDefineError\u001b[0m\u001b[1;33m(\u001b[0m\u001b[1;34m\"抛出去一个自己定义的异常\"\u001b[0m\u001b[1;33m)\u001b[0m\u001b[1;33m\u001b[0m\u001b[1;33m\u001b[0m\u001b[0m\n\u001b[0m",
      "\u001b[1;31mMyDefineError\u001b[0m: 抛出去一个自己定义的异常"
     ]
    }
   ],
   "source": [
    "class MyDefineError(BaseException):\n",
    "    pass\n",
    "raise MyDefineError(\"抛出去一个自己定义的异常\")"
   ]
  },
  {
   "cell_type": "code",
   "execution_count": 14,
   "id": "0efbdf54",
   "metadata": {},
   "outputs": [
    {
     "name": "stdout",
     "output_type": "stream",
     "text": [
      "抛出去一个自己定义的异常\n"
     ]
    }
   ],
   "source": [
    "try:\n",
    "    raise MyDefineError(\"抛出去一个自己定义的异常\")\n",
    "except MyDefineError as e:\n",
    "    print(e)"
   ]
  }
 ],
 "metadata": {
  "kernelspec": {
   "display_name": "Python 3 (ipykernel)",
   "language": "python",
   "name": "python3"
  },
  "language_info": {
   "codemirror_mode": {
    "name": "ipython",
    "version": 3
   },
   "file_extension": ".py",
   "mimetype": "text/x-python",
   "name": "python",
   "nbconvert_exporter": "python",
   "pygments_lexer": "ipython3",
   "version": "3.7.11"
  }
 },
 "nbformat": 4,
 "nbformat_minor": 5
}
