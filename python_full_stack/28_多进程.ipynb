{
 "cells": [
  {
   "cell_type": "markdown",
   "id": "97f3f20d",
   "metadata": {},
   "source": [
    "# 进程与线程的区别：是否占用PID"
   ]
  },
  {
   "cell_type": "code",
   "execution_count": 6,
   "id": "005b1328",
   "metadata": {},
   "outputs": [
    {
     "name": "stdout",
     "output_type": "stream",
     "text": [
      "41804\n",
      "41804\n",
      "主进程-->线程 PID 41804\n",
      "主进程-->线程 PID 41804\n"
     ]
    }
   ],
   "source": [
    "from threading import Thread  # 导入线程\n",
    "from multiprocessing import Process  # 导入进程\n",
    "import os\n",
    "\n",
    "def work():\n",
    "    print(os.getpid())\n",
    "    \n",
    "if __name__ == \"__main__\":\n",
    "    # 在主进程下开启多个线程  每个线程的pid都一样，都在一个进程下\n",
    "    t1 = Thread(target=work)\n",
    "    t2 = Thread(target=work)\n",
    "    t1.start()\n",
    "    t2.start()\n",
    "    print(\"主进程-->线程 PID\", os.getpid())\n",
    "    \n",
    "    # 开启多个进程  每个进程都有独立的pid\n",
    "    p1 = Process(target=work)\n",
    "    p2 = Process(target=work)\n",
    "    p1.start()\n",
    "    p2.start()\n",
    "    print(\"主进程-->线程 PID\", os.getpid())"
   ]
  }
 ],
 "metadata": {
  "kernelspec": {
   "display_name": "Python 3 (ipykernel)",
   "language": "python",
   "name": "python3"
  },
  "language_info": {
   "codemirror_mode": {
    "name": "ipython",
    "version": 3
   },
   "file_extension": ".py",
   "mimetype": "text/x-python",
   "name": "python",
   "nbconvert_exporter": "python",
   "pygments_lexer": "ipython3",
   "version": "3.7.11"
  }
 },
 "nbformat": 4,
 "nbformat_minor": 5
}
