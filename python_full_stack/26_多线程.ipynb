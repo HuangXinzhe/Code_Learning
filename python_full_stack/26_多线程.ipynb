{
 "cells": [
  {
   "cell_type": "markdown",
   "id": "e06f0112",
   "metadata": {},
   "source": [
    "# thread_function"
   ]
  },
  {
   "cell_type": "markdown",
   "id": "379a069d",
   "metadata": {},
   "source": [
    "- linux中top命令查看进程\n",
    "- 线程位于进程内\n",
    "- 多线程：一个进程中包含多个线程\n",
    "- 一般一核心两个线程"
   ]
  },
  {
   "cell_type": "code",
   "execution_count": 7,
   "id": "198baa1e",
   "metadata": {},
   "outputs": [],
   "source": [
    "import threading\n",
    "import time\n",
    "import random"
   ]
  },
  {
   "cell_type": "code",
   "execution_count": 10,
   "id": "b5b5a147",
   "metadata": {},
   "outputs": [
    {
     "name": "stdout",
     "output_type": "stream",
     "text": [
      "do something\n",
      "执行事件线程2\n",
      "执行事件线程4\n",
      "执行事件线程1\n",
      "执行事件线程3\n",
      "执行事件线程5\n"
     ]
    }
   ],
   "source": [
    "def my_print(info):\n",
    "    time.sleep(random.randint(1, 10))\n",
    "    print(\"执行事件\" + info)\n",
    "if __name__ == \"__main__\":\n",
    "    # target：要执行的函数，args：线程中的参数\n",
    "    t1 = threading.Thread(target=my_print, args=(\"线程1\", ))\n",
    "    t2 = threading.Thread(target=my_print, args=(\"线程2\", ))\n",
    "    t3 = threading.Thread(target=my_print, args=(\"线程3\", ))\n",
    "    t4 = threading.Thread(target=my_print, args=(\"线程4\", ))\n",
    "    t5 = threading.Thread(target=my_print, args=(\"线程5\", ))\n",
    "\n",
    "    \n",
    "    # 调动线程\n",
    "    t1.start()\n",
    "    t2.start()\n",
    "    t3.start()\n",
    "    t4.start()\n",
    "    t5.start()\n",
    "    \n",
    "    print(\"do something\")"
   ]
  },
  {
   "cell_type": "code",
   "execution_count": 9,
   "id": "c055220e",
   "metadata": {},
   "outputs": [
    {
     "name": "stdout",
     "output_type": "stream",
     "text": [
      "do something\n",
      "执行事件线程2\n",
      "执行事件线程5\n",
      "执行事件线程4\n",
      "执行事件线程3\n",
      "执行事件线程1\n"
     ]
    }
   ],
   "source": [
    "def my_print(info):\n",
    "    time.sleep(random.randint(1, 10))\n",
    "    print(\"执行事件\" + info)\n",
    "\n",
    "# target：要执行的函数，args：线程中的参数\n",
    "t1 = threading.Thread(target=my_print, args=(\"线程1\", ))\n",
    "t2 = threading.Thread(target=my_print, args=(\"线程2\", ))\n",
    "t3 = threading.Thread(target=my_print, args=(\"线程3\", ))\n",
    "t4 = threading.Thread(target=my_print, args=(\"线程4\", ))\n",
    "t5 = threading.Thread(target=my_print, args=(\"线程5\", ))\n",
    "\n",
    "\n",
    "# 调动线程\n",
    "t1.start()\n",
    "t2.start()\n",
    "t3.start()\n",
    "t4.start()\n",
    "t5.start()\n",
    "\n",
    "print(\"do something\")  # 主线程\n",
    "# 得到的结果顺序不一样是因为每个线程sleep时间不一样"
   ]
  },
  {
   "cell_type": "code",
   "execution_count": 13,
   "id": "6fafce45",
   "metadata": {},
   "outputs": [
    {
     "name": "stdout",
     "output_type": "stream",
     "text": [
      "9999\n",
      "9998\n",
      "9997\n",
      "9996\n",
      "9995\n"
     ]
    }
   ],
   "source": [
    "num = 10000\n",
    "\n",
    "def number_print(info):\n",
    "    global num\n",
    "    num -= 1\n",
    "    print(num)\n",
    "\n",
    "if __name__ == \"__main__\":\n",
    "    t1 = threading.Thread(target=number_print, args=(\"线程1\", ))\n",
    "    t2 = threading.Thread(target=number_print, args=(\"线程2\", ))\n",
    "    t3 = threading.Thread(target=number_print, args=(\"线程3\", ))\n",
    "    t4 = threading.Thread(target=number_print, args=(\"线程4\", ))\n",
    "    t5 = threading.Thread(target=number_print, args=(\"线程5\", ))\n",
    "\n",
    "\n",
    "    # 调动线程\n",
    "    t1.start()\n",
    "    t2.start()\n",
    "    t3.start()\n",
    "    t4.start()\n",
    "    t5.start()"
   ]
  }
 ],
 "metadata": {
  "kernelspec": {
   "display_name": "Python 3 (ipykernel)",
   "language": "python",
   "name": "python3"
  },
  "language_info": {
   "codemirror_mode": {
    "name": "ipython",
    "version": 3
   },
   "file_extension": ".py",
   "mimetype": "text/x-python",
   "name": "python",
   "nbconvert_exporter": "python",
   "pygments_lexer": "ipython3",
   "version": "3.7.11"
  }
 },
 "nbformat": 4,
 "nbformat_minor": 5
}
