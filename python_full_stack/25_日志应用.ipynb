{
 "cells": [
  {
   "cell_type": "markdown",
   "id": "6ba0e770",
   "metadata": {},
   "source": [
    "## 记录代码运行中的行为或错误并写入文件"
   ]
  },
  {
   "cell_type": "code",
   "execution_count": 1,
   "id": "06c25342",
   "metadata": {},
   "outputs": [],
   "source": [
    "\"\"\"\n",
    "常用的级别（不是全部）\n",
    "1、debug 调试级别的日志\n",
    "2、info 信息级别的日志\n",
    "3、warning 警告级别的日志\n",
    "4、error 错误级别的日志\n",
    "\n",
    "\"\"\""
   ]
  },
  {
   "cell_type": "markdown",
   "id": "0e5511f4",
   "metadata": {},
   "source": [
    "## 打印等级限制，只打印warning及以上等级的日志（默认是生产环境），一般用info及以上"
   ]
  },
  {
   "cell_type": "code",
   "execution_count": 2,
   "id": "acbe21ef",
   "metadata": {},
   "outputs": [],
   "source": [
    "import logging\n",
    "\n",
    "logging.debug(\"This is a debug log\")\n",
    "logging.info(\"This is a info log\")\n",
    "logging.warning(\"This is a warning log\")\n",
    "logging.error(\"This is a error log\")"
   ]
  },
  {
   "cell_type": "markdown",
   "id": "05975e6e",
   "metadata": {},
   "source": [
    "## 配置等级"
   ]
  },
  {
   "cell_type": "code",
   "execution_count": 3,
   "id": "c26e7394",
   "metadata": {},
   "outputs": [],
   "source": [
    "import logging\n",
    "\n",
    "logging.basicConfig(level=logging.DEBUG)  # 所有等级都会打印\n",
    "logging.debug(\"This is a debug log\")\n",
    "logging.info(\"This is a info log\")\n",
    "logging.warning(\"This is a warning log\")\n",
    "logging.error(\"This is a error log\")"
   ]
  },
  {
   "cell_type": "code",
   "execution_count": null,
   "id": "bb4f94c7",
   "metadata": {},
   "outputs": [],
   "source": [
    "\"\"\"\n",
    "level为数值也可，但可读性不高\n",
    "CRITICAL = 50\n",
    "FATAL = CRITICAL\n",
    "ERROR = 40\n",
    "WARNING = 30\n",
    "WARN = WARNING\n",
    "INFO = 20\n",
    "DEBUG = 10\n",
    "NOTSET = 0\n",
    "\"\"\""
   ]
  },
  {
   "cell_type": "markdown",
   "id": "077c0dd3",
   "metadata": {},
   "source": [
    "## 根据需求配置日志输出"
   ]
  },
  {
   "cell_type": "code",
   "execution_count": 7,
   "id": "f4e19784",
   "metadata": {},
   "outputs": [],
   "source": [
    "LOG_FORMAT = \"%(asctime)s - %(levelname)s - %(message)s\"   # 时间-等级-日志信息\n",
    "DATE_FORMAT = \"%Y/%m/%d %H:%M:%S\"\n",
    "\n",
    "logging.basicConfig(filename='my.log',level=logging.DEBUG, format=LOG_FORMAT, datefmt=DATE_FORMAT)\n",
    "logging.debug(\"This is a debug log\")\n",
    "logging.info(\"This is a info log\")\n",
    "logging.warning(\"This is a warning log\")\n",
    "logging.error(\"This is a error log\")"
   ]
  },
  {
   "cell_type": "markdown",
   "id": "90ac4179",
   "metadata": {},
   "source": [
    "# 日志对象"
   ]
  },
  {
   "cell_type": "code",
   "execution_count": 14,
   "id": "e1c450d5",
   "metadata": {},
   "outputs": [],
   "source": [
    "LOG_FORMAT = \"%(asctime)s - %(levelname)s - %(message)s\"   # 时间-等级-日志信息\n",
    "DATE_FORMAT = \"%Y/%m/%d %H:%M:%S\"\n",
    "\n",
    "# 获取日志对象\n",
    "logger = logging.getLogger()\n",
    "logger.setLevel(\"DEBUG\")\n",
    "\n",
    "# 文件处理器，输入到文件\n",
    "file_handler = logging.FileHandler(\"all.log\", mode='a', encoding=\"UTF-8\")   # 文件名可以加入工程名\n",
    "\n",
    "# 流处理器，控制输入到控制台\n",
    "steam_handler = logging.StreamHandler()\n",
    "\n",
    "# 错误日志单独输出到一个文件中，日志级别可以单独设置\n",
    "error_handler = logging.FileHandler(\"error.log\", mode='a', encoding=\"UTF-8\")\n",
    "error_handler.setLevel(logging.ERROR)\n",
    "\n",
    "# 将所有的处理器添加到logger中\n",
    "logger.addHandler(file_handler)\n",
    "logger.addHandler(steam_handler)\n",
    "logger.addHandler(error_handler)\n",
    "\n",
    "# 格式化\n",
    "formatter = logging.Formatter(fmt=\"%(asctime)s - %(levelname)s - %(message)s\", datefmt=\"%Y/%m/%d %H:%M:%S\")\n",
    "\n",
    "# 设置格式化器，需要针对每一个处理器机型分别设置\n",
    "file_handler.setFormatter(formatter)\n",
    "steam_handler.setFormatter(formatter)\n",
    "error_handler.setFormatter(formatter)\n",
    "\n",
    "# 过滤器\n",
    "my_filter = logging.Filter(\"greedyai\")\n",
    "file_filter_log = file_handler.addFilter(my_filter)\n",
    "steam_handler.addFilter(my_filter)\n",
    "\n",
    "logger.info(\"贪心学院日志打印\")\n",
    "logger.info(\"greedyai\")\n",
    "logger.error(\"这里是一个错误日志\")"
   ]
  }
 ],
 "metadata": {
  "kernelspec": {
   "display_name": "Python 3 (ipykernel)",
   "language": "python",
   "name": "python3"
  },
  "language_info": {
   "codemirror_mode": {
    "name": "ipython",
    "version": 3
   },
   "file_extension": ".py",
   "mimetype": "text/x-python",
   "name": "python",
   "nbconvert_exporter": "python",
   "pygments_lexer": "ipython3",
   "version": "3.7.11"
  }
 },
 "nbformat": 4,
 "nbformat_minor": 5
}
