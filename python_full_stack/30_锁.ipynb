{
 "cells": [
  {
   "cell_type": "code",
   "execution_count": 3,
   "id": "1b619b58",
   "metadata": {},
   "outputs": [
    {
     "name": "stdout",
     "output_type": "stream",
     "text": [
      "Thread-28房间1拿到A锁\n",
      "Thread-28房间1拿到B锁\n",
      "Thread-28房间1释放B锁\n",
      "Thread-28房间1释放A锁\n",
      "Thread-28房间2拿到B锁\n",
      "Thread-29房间1拿到A锁\n"
     ]
    }
   ],
   "source": [
    "import time\n",
    "from threading import Thread, currentThread, RLock, Lock  # currentThread获取当前线程名\n",
    "\n",
    "# 互斥锁\n",
    "# mutexA = Lock()\n",
    "# mutexB = Lock()\n",
    "\n",
    "# 递归锁\n",
    "mutexA = RLock()  # 创建锁对象\n",
    "mutexB = RLock()  \n",
    "\n",
    "class House(Thread):\n",
    "    \n",
    "    def run(self):\n",
    "        self.room1()\n",
    "        self.room2()\n",
    "    \n",
    "    def room1(self):\n",
    "        mutexA.acquire()  # 拿住锁\n",
    "        print(currentThread().name + \"房间1拿到A锁\")\n",
    "        mutexB.acquire()\n",
    "        print(currentThread().name + \"房间1拿到B锁\")\n",
    "        mutexB.release()  # 释放\n",
    "        print(currentThread().name + \"房间1释放B锁\")\n",
    "        mutexA.release()\n",
    "        print(currentThread().name + \"房间1释放A锁\")\n",
    "\n",
    "        \n",
    "    def room2(self):\n",
    "        mutexB.acquire()  \n",
    "        print(currentThread().name + \"房间2拿到B锁\")\n",
    "        time.sleep(2)\n",
    "        mutexA.acquire()\n",
    "        print(currentThread().name + \"房间2拿到A锁\")\n",
    "        mutexA.release()\n",
    "        print(currentThread().name + \"房间2释放A锁\")\n",
    "        mutexB.release()\n",
    "        print(currentThread().name + \"房间2释放B锁\")\n",
    "\n",
    "if __name__ == \"__main__\":\n",
    "    for i in range(10):\n",
    "        t = House()\n",
    "        t.start()"
   ]
  }
 ],
 "metadata": {
  "kernelspec": {
   "display_name": "Python 3 (ipykernel)",
   "language": "python",
   "name": "python3"
  },
  "language_info": {
   "codemirror_mode": {
    "name": "ipython",
    "version": 3
   },
   "file_extension": ".py",
   "mimetype": "text/x-python",
   "name": "python",
   "nbconvert_exporter": "python",
   "pygments_lexer": "ipython3",
   "version": "3.7.11"
  }
 },
 "nbformat": 4,
 "nbformat_minor": 5
}
