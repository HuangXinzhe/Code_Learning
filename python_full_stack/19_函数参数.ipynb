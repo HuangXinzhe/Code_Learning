{
 "cells": [
  {
   "cell_type": "code",
   "execution_count": null,
   "id": "50297327",
   "metadata": {},
   "outputs": [],
   "source": [
    "\"\"\"\n",
    "函数的参数\n",
    "- 必须参数、默认参数、组合参数\n",
    "- 函数作为参数\n",
    "- 对象作为参数\n",
    "- **kwargs  关键字参数\n",
    "- *args  可变参数\n",
    "\"\"\"\n",
    "# 如果有必须参数一定要在最前面\n",
    "# 默认参数要在必须参数的后面"
   ]
  },
  {
   "cell_type": "code",
   "execution_count": 1,
   "id": "776dea5e",
   "metadata": {},
   "outputs": [
    {
     "name": "stdout",
     "output_type": "stream",
     "text": [
      "1 2\n",
      "(3, 4, 5, 6)\n",
      "<class 'tuple'>\n",
      "{'name': 1, 'value': 2}\n",
      "<class 'dict'>\n"
     ]
    }
   ],
   "source": [
    "def function(a, b, *args, **kwargs):\n",
    "    print(a, b)\n",
    "    print(args)\n",
    "    print(type(args))\n",
    "    print(kwargs)\n",
    "    print(type(kwargs))\n",
    "    \n",
    "function(1, 2, 3, 4, 5, 6, name=1, value=2)"
   ]
  },
  {
   "cell_type": "markdown",
   "id": "974e742c",
   "metadata": {},
   "source": [
    "## 命名关键字参数"
   ]
  },
  {
   "cell_type": "code",
   "execution_count": 3,
   "id": "cb48ec43",
   "metadata": {},
   "outputs": [
    {
     "name": "stdout",
     "output_type": "stream",
     "text": [
      "1\n",
      "2\n",
      "4\n",
      "3\n"
     ]
    }
   ],
   "source": [
    "# *后边的必须写名字\n",
    "# 命名关键字参数时必须参数，如果不需要它是必须参数，那么可以给一个默认值\n",
    "def func2(a, b, *, c, d):\n",
    "    print(a)\n",
    "    print(b)\n",
    "    print(c)\n",
    "    print(d)\n",
    "    \n",
    "# func2(1, 2, c=3, d=4)\n",
    "func2(1, 2, d=3, c=4)"
   ]
  },
  {
   "cell_type": "code",
   "execution_count": 4,
   "id": "77f4dd1d",
   "metadata": {},
   "outputs": [
    {
     "name": "stdout",
     "output_type": "stream",
     "text": [
      "1\n",
      "2\n",
      "3\n"
     ]
    }
   ],
   "source": [
    "def func3(a, b, c):\n",
    "    print(a)\n",
    "    print(b)\n",
    "    print(c)\n",
    "    \n",
    "s = (1, 2, 3)\n",
    "func3(*s)"
   ]
  },
  {
   "cell_type": "code",
   "execution_count": 5,
   "id": "1cd25a14",
   "metadata": {},
   "outputs": [
    {
     "name": "stdout",
     "output_type": "stream",
     "text": [
      "4\n",
      "5\n",
      "6\n"
     ]
    }
   ],
   "source": [
    "s1 = [4, 5, 6]\n",
    "func3(*s1)"
   ]
  },
  {
   "cell_type": "code",
   "execution_count": 6,
   "id": "dd893983",
   "metadata": {},
   "outputs": [
    {
     "name": "stdout",
     "output_type": "stream",
     "text": [
      "a\n",
      "b\n",
      "c\n"
     ]
    }
   ],
   "source": [
    "kw = {\"a\":1, \"b\":2, \"c\":3}\n",
    "func3(*kw)"
   ]
  },
  {
   "cell_type": "code",
   "execution_count": 7,
   "id": "8c98a11f",
   "metadata": {},
   "outputs": [
    {
     "name": "stdout",
     "output_type": "stream",
     "text": [
      "1\n",
      "2\n",
      "3\n"
     ]
    }
   ],
   "source": [
    "func3(**kw)  # 一般传字典类型的时候，用这种方式"
   ]
  }
 ],
 "metadata": {
  "kernelspec": {
   "display_name": "Python 3 (ipykernel)",
   "language": "python",
   "name": "python3"
  },
  "language_info": {
   "codemirror_mode": {
    "name": "ipython",
    "version": 3
   },
   "file_extension": ".py",
   "mimetype": "text/x-python",
   "name": "python",
   "nbconvert_exporter": "python",
   "pygments_lexer": "ipython3",
   "version": "3.7.11"
  }
 },
 "nbformat": 4,
 "nbformat_minor": 5
}
