{
 "cells": [
  {
   "cell_type": "code",
   "execution_count": 2,
   "id": "a4225542",
   "metadata": {},
   "outputs": [
    {
     "data": {
      "text/plain": [
       "[0, 1, 2, 3, 4, 5, 6, 7, 8, 9]"
      ]
     },
     "execution_count": 2,
     "metadata": {},
     "output_type": "execute_result"
    }
   ],
   "source": [
    "def demo1():\n",
    "    l = [x for x in range(10)]\n",
    "    return l\n",
    "\n",
    "a = demo1()\n",
    "a"
   ]
  },
  {
   "cell_type": "code",
   "execution_count": 7,
   "id": "9b545992",
   "metadata": {},
   "outputs": [
    {
     "data": {
      "text/plain": [
       "<generator object yield_demo2 at 0x00000150709B95C8>"
      ]
     },
     "execution_count": 7,
     "metadata": {},
     "output_type": "execute_result"
    }
   ],
   "source": [
    "def yield_demo2():\n",
    "    for x in range(3):\n",
    "        yield x\n",
    "        print(\"生成器后一行代码\")\n",
    "    print(\"生成器外层\")\n",
    "    \n",
    "a = yield_demo2()\n",
    "a"
   ]
  },
  {
   "cell_type": "code",
   "execution_count": 4,
   "id": "6080d319",
   "metadata": {},
   "outputs": [
    {
     "name": "stdout",
     "output_type": "stream",
     "text": [
      "0\n",
      "生成器后一行代码\n",
      "1\n",
      "生成器后一行代码\n",
      "2\n",
      "生成器后一行代码\n",
      "生成器外层\n"
     ]
    }
   ],
   "source": [
    "# for i in a:\n",
    "#     print(i)"
   ]
  },
  {
   "cell_type": "code",
   "execution_count": 8,
   "id": "2f3fb815",
   "metadata": {},
   "outputs": [
    {
     "name": "stdout",
     "output_type": "stream",
     "text": [
      "0\n"
     ]
    }
   ],
   "source": [
    "print(a.__next__())"
   ]
  },
  {
   "cell_type": "code",
   "execution_count": 9,
   "id": "c38eefbe",
   "metadata": {},
   "outputs": [
    {
     "name": "stdout",
     "output_type": "stream",
     "text": [
      "生成器后一行代码\n",
      "1\n"
     ]
    }
   ],
   "source": [
    "print(a.__next__())"
   ]
  },
  {
   "cell_type": "code",
   "execution_count": 10,
   "id": "34f812aa",
   "metadata": {},
   "outputs": [
    {
     "name": "stdout",
     "output_type": "stream",
     "text": [
      "生成器后一行代码\n",
      "2\n"
     ]
    }
   ],
   "source": [
    "print(a.__next__())"
   ]
  },
  {
   "cell_type": "code",
   "execution_count": 11,
   "id": "cfcea21c",
   "metadata": {},
   "outputs": [
    {
     "name": "stdout",
     "output_type": "stream",
     "text": [
      "生成器后一行代码\n",
      "生成器外层\n"
     ]
    },
    {
     "ename": "StopIteration",
     "evalue": "",
     "output_type": "error",
     "traceback": [
      "\u001b[1;31m---------------------------------------------------------------------------\u001b[0m",
      "\u001b[1;31mStopIteration\u001b[0m                             Traceback (most recent call last)",
      "\u001b[1;32mC:\\Users\\Public\\Documents\\Wondershare\\CreatorTemp/ipykernel_12768/518983988.py\u001b[0m in \u001b[0;36m<module>\u001b[1;34m\u001b[0m\n\u001b[1;32m----> 1\u001b[1;33m \u001b[0mprint\u001b[0m\u001b[1;33m(\u001b[0m\u001b[0ma\u001b[0m\u001b[1;33m.\u001b[0m\u001b[0m__next__\u001b[0m\u001b[1;33m(\u001b[0m\u001b[1;33m)\u001b[0m\u001b[1;33m)\u001b[0m\u001b[1;33m\u001b[0m\u001b[1;33m\u001b[0m\u001b[0m\n\u001b[0m",
      "\u001b[1;31mStopIteration\u001b[0m: "
     ]
    }
   ],
   "source": [
    "print(a.__next__())"
   ]
  },
  {
   "cell_type": "code",
   "execution_count": 14,
   "id": "79848b7d",
   "metadata": {},
   "outputs": [],
   "source": [
    "# 多生成器\n",
    "def yield_demo3():\n",
    "    a = 10\n",
    "    b = 20\n",
    "    c = 30\n",
    "    for x in range(3):\n",
    "        yield a\n",
    "        print(\"生成a之后\")\n",
    "        yield b\n",
    "        print(\"生成b之后\")\n",
    "        yield c\n",
    "        print(\"生成c之后\")"
   ]
  },
  {
   "cell_type": "code",
   "execution_count": 13,
   "id": "59e9c7a2",
   "metadata": {},
   "outputs": [
    {
     "name": "stdout",
     "output_type": "stream",
     "text": [
      "10\n",
      "生成a之后\n",
      "20\n",
      "生成b之后\n",
      "30\n",
      "生成c之后\n",
      "10\n",
      "生成a之后\n",
      "20\n",
      "生成b之后\n",
      "30\n",
      "生成c之后\n",
      "10\n",
      "生成a之后\n",
      "20\n",
      "生成b之后\n",
      "30\n",
      "生成c之后\n"
     ]
    }
   ],
   "source": [
    "# g = yield_demo3()\n",
    "# for gg in g:\n",
    "#     print(gg)"
   ]
  },
  {
   "cell_type": "code",
   "execution_count": 15,
   "id": "c22da63c",
   "metadata": {},
   "outputs": [
    {
     "name": "stdout",
     "output_type": "stream",
     "text": [
      "10\n"
     ]
    }
   ],
   "source": [
    "g = yield_demo3()\n",
    "print(g.__next__())"
   ]
  },
  {
   "cell_type": "code",
   "execution_count": 16,
   "id": "a8ee4525",
   "metadata": {},
   "outputs": [
    {
     "name": "stdout",
     "output_type": "stream",
     "text": [
      "生成a之后\n",
      "20\n"
     ]
    }
   ],
   "source": [
    "print(g.__next__())"
   ]
  },
  {
   "cell_type": "code",
   "execution_count": 17,
   "id": "6f4875ce",
   "metadata": {},
   "outputs": [
    {
     "name": "stdout",
     "output_type": "stream",
     "text": [
      "生成b之后\n",
      "30\n"
     ]
    }
   ],
   "source": [
    "print(g.__next__())"
   ]
  },
  {
   "cell_type": "code",
   "execution_count": 18,
   "id": "9b0cf421",
   "metadata": {},
   "outputs": [
    {
     "name": "stdout",
     "output_type": "stream",
     "text": [
      "生成c之后\n",
      "10\n"
     ]
    }
   ],
   "source": [
    "print(g.__next__())"
   ]
  },
  {
   "cell_type": "code",
   "execution_count": 19,
   "id": "22bc6cdf",
   "metadata": {},
   "outputs": [
    {
     "name": "stdout",
     "output_type": "stream",
     "text": [
      "生成a之后\n",
      "20\n"
     ]
    }
   ],
   "source": [
    "print(g.__next__())"
   ]
  },
  {
   "cell_type": "code",
   "execution_count": 20,
   "id": "b0d2bff7",
   "metadata": {},
   "outputs": [
    {
     "name": "stdout",
     "output_type": "stream",
     "text": [
      "生成b之后\n",
      "30\n"
     ]
    }
   ],
   "source": [
    "print(g.__next__())"
   ]
  },
  {
   "cell_type": "code",
   "execution_count": 21,
   "id": "c096675f",
   "metadata": {},
   "outputs": [
    {
     "name": "stdout",
     "output_type": "stream",
     "text": [
      "生成c之后\n",
      "10\n"
     ]
    }
   ],
   "source": [
    "print(g.__next__())"
   ]
  },
  {
   "cell_type": "code",
   "execution_count": 22,
   "id": "e2070c4d",
   "metadata": {},
   "outputs": [
    {
     "name": "stdout",
     "output_type": "stream",
     "text": [
      "生成a之后\n",
      "20\n"
     ]
    }
   ],
   "source": [
    "print(g.__next__())"
   ]
  },
  {
   "cell_type": "code",
   "execution_count": 23,
   "id": "323a44c0",
   "metadata": {},
   "outputs": [
    {
     "name": "stdout",
     "output_type": "stream",
     "text": [
      "生成b之后\n",
      "30\n"
     ]
    }
   ],
   "source": [
    "print(g.__next__())"
   ]
  },
  {
   "cell_type": "code",
   "execution_count": 24,
   "id": "9f3b336e",
   "metadata": {},
   "outputs": [
    {
     "name": "stdout",
     "output_type": "stream",
     "text": [
      "生成c之后\n"
     ]
    },
    {
     "ename": "StopIteration",
     "evalue": "",
     "output_type": "error",
     "traceback": [
      "\u001b[1;31m---------------------------------------------------------------------------\u001b[0m",
      "\u001b[1;31mStopIteration\u001b[0m                             Traceback (most recent call last)",
      "\u001b[1;32mC:\\Users\\Public\\Documents\\Wondershare\\CreatorTemp/ipykernel_12768/2247996299.py\u001b[0m in \u001b[0;36m<module>\u001b[1;34m\u001b[0m\n\u001b[1;32m----> 1\u001b[1;33m \u001b[0mprint\u001b[0m\u001b[1;33m(\u001b[0m\u001b[0mg\u001b[0m\u001b[1;33m.\u001b[0m\u001b[0m__next__\u001b[0m\u001b[1;33m(\u001b[0m\u001b[1;33m)\u001b[0m\u001b[1;33m)\u001b[0m\u001b[1;33m\u001b[0m\u001b[1;33m\u001b[0m\u001b[0m\n\u001b[0m",
      "\u001b[1;31mStopIteration\u001b[0m: "
     ]
    }
   ],
   "source": [
    "print(g.__next__())"
   ]
  }
 ],
 "metadata": {
  "kernelspec": {
   "display_name": "Python 3 (ipykernel)",
   "language": "python",
   "name": "python3"
  },
  "language_info": {
   "codemirror_mode": {
    "name": "ipython",
    "version": 3
   },
   "file_extension": ".py",
   "mimetype": "text/x-python",
   "name": "python",
   "nbconvert_exporter": "python",
   "pygments_lexer": "ipython3",
   "version": "3.7.11"
  }
 },
 "nbformat": 4,
 "nbformat_minor": 5
}
