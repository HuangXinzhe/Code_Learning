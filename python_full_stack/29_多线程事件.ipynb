{
 "cells": [
  {
   "cell_type": "code",
   "execution_count": null,
   "id": "9b6dd848",
   "metadata": {},
   "outputs": [],
   "source": [
    "# 事件（Event）\n",
    "\"\"\"\n",
    "线程间的通信\n",
    "\"\"\""
   ]
  },
  {
   "cell_type": "code",
   "execution_count": 3,
   "id": "095d5156",
   "metadata": {},
   "outputs": [
    {
     "name": "stdout",
     "output_type": "stream",
     "text": [
      "BOSS:从现在开始咱们就要996啦，欢呼吧\n",
      "False\n",
      "Worker:哎妈呀，咋还996了呢，命这么苦，抓紧干吧\n",
      "Worker:哎妈呀，咋还996了呢，命这么苦，抓紧干吧\n",
      "Worker:哎妈呀，咋还996了呢，命这么苦，抓紧干吧\n",
      "Worker:哎妈呀，咋还996了呢，命这么苦，抓紧干吧\n",
      "Worker:哎妈呀，咋还996了呢，命这么苦，抓紧干吧\n",
      "BOSS:大家干完了，以后就不996啦！\n",
      "False\n",
      "Worker:Oh Yeah!!!!\n",
      "Worker:Oh Yeah!!!!\n",
      "Worker:Oh Yeah!!!!\n",
      "Worker:Oh Yeah!!!!\n",
      "Worker:Oh Yeah!!!!\n"
     ]
    }
   ],
   "source": [
    "import threading, time\n",
    "\n",
    "class Boss(threading.Thread):\n",
    "    \n",
    "    def run(self):\n",
    "        print(\"BOSS:从现在开始咱们就要996啦，欢呼吧\")\n",
    "        # 事件设置，isSet是否设置的标志\n",
    "        print(event.isSet())  # 判断事件是否设置\n",
    "        event.set()  # 设置事件\n",
    "#         time.sleep(3)\n",
    "        print(\"BOSS:大家干完了，以后就不996啦！\")\n",
    "        print(event.isSet())\n",
    "        event.set()\n",
    "        \n",
    "class Worker(threading.Thread):\n",
    "    def run(self):\n",
    "        event.wait()\n",
    "        print(\"Worker:哎妈呀，咋还996了呢，命这么苦，抓紧干吧\")\n",
    "        event.clear()  # 事件清除\n",
    "        event.wait()\n",
    "        print(\"Worker:Oh Yeah!!!!\")\n",
    "        \n",
    "if __name__ == \"__main__\":\n",
    "    event = threading.Event()\n",
    "    \n",
    "    threads = []\n",
    "    for i in range(5):\n",
    "        threads.append(Worker())\n",
    "        \n",
    "    threads.append(Boss())\n",
    "    \n",
    "    for t in threads:\n",
    "        t.start()"
   ]
  }
 ],
 "metadata": {
  "kernelspec": {
   "display_name": "Python 3 (ipykernel)",
   "language": "python",
   "name": "python3"
  },
  "language_info": {
   "codemirror_mode": {
    "name": "ipython",
    "version": 3
   },
   "file_extension": ".py",
   "mimetype": "text/x-python",
   "name": "python",
   "nbconvert_exporter": "python",
   "pygments_lexer": "ipython3",
   "version": "3.7.11"
  }
 },
 "nbformat": 4,
 "nbformat_minor": 5
}
