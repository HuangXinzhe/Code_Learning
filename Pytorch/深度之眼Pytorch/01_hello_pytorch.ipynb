{
 "cells": [
  {
   "cell_type": "code",
   "execution_count": 1,
   "metadata": {},
   "outputs": [
    {
     "name": "stdout",
     "output_type": "stream",
     "text": [
      "Hello World, Hello PyTorch 1.9.1+cu102\n"
     ]
    }
   ],
   "source": [
    "import torch\n",
    "\n",
    "# torch.__version__获取PyTorch版本号\n",
    "print(\"Hello World, Hello PyTorch {}\".format(torch.__version__))"
   ]
  },
  {
   "cell_type": "code",
   "execution_count": 2,
   "metadata": {},
   "outputs": [
    {
     "name": "stdout",
     "output_type": "stream",
     "text": [
      "\n",
      "CUDA is available:True, version is 10.2\n"
     ]
    }
   ],
   "source": [
    "# torch.cuda.is_available()判断是否有CUDA，torch.version.cuda获取CUDA版本号\n",
    "print(\"\\nCUDA is available:{}, version is {}\".format(torch.cuda.is_available(), torch.version.cuda))"
   ]
  },
  {
   "cell_type": "code",
   "execution_count": 3,
   "metadata": {},
   "outputs": [
    {
     "name": "stdout",
     "output_type": "stream",
     "text": [
      "\n",
      "device_name: GeForce RTX 2080\n"
     ]
    }
   ],
   "source": [
    "# torch.cuda.get_device_name获取显卡型号\n",
    "print(\"\\ndevice_name: {}\".format(torch.cuda.get_device_name(0)))"
   ]
  }
 ],
 "metadata": {
  "kernelspec": {
   "display_name": "Python 3 (ipykernel)",
   "language": "python",
   "name": "python3"
  },
  "language_info": {
   "codemirror_mode": {
    "name": "ipython",
    "version": 3
   },
   "file_extension": ".py",
   "mimetype": "text/x-python",
   "name": "python",
   "nbconvert_exporter": "python",
   "pygments_lexer": "ipython3",
   "version": "3.7.11"
  }
 },
 "nbformat": 4,
 "nbformat_minor": 4
}
