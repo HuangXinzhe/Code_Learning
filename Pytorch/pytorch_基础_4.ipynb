{
 "cells": [
  {
   "cell_type": "code",
   "execution_count": 82,
   "metadata": {},
   "outputs": [],
   "source": [
    "import torch\n",
    "import torch.nn as nn\n",
    "import torch.nn.functional as f"
   ]
  },
  {
   "cell_type": "code",
   "execution_count": 83,
   "metadata": {},
   "outputs": [],
   "source": [
    "from sklearn.datasets import load_boston\n",
    "from sklearn.model_selection import train_test_split\n",
    "from sklearn.preprocessing import StandardScaler\n",
    "import numpy as np"
   ]
  },
  {
   "cell_type": "code",
   "execution_count": 84,
   "metadata": {},
   "outputs": [
    {
     "name": "stdout",
     "output_type": "stream",
     "text": [
      "(506, 13)\n",
      "(506,)\n",
      "<class 'numpy.ndarray'>\n"
     ]
    }
   ],
   "source": [
    "boston = load_boston()\n",
    "X = boston.data\n",
    "Y = boston.target\n",
    "print(np.shape(X))\n",
    "print(np.shape(Y))\n",
    "print(type(X))"
   ]
  },
  {
   "cell_type": "code",
   "execution_count": 85,
   "metadata": {},
   "outputs": [],
   "source": [
    "std = StandardScaler()\n",
    "X = std.fit_transform(X)"
   ]
  },
  {
   "cell_type": "code",
   "execution_count": 86,
   "metadata": {},
   "outputs": [],
   "source": [
    "X_train,X_test,Y_train,Y_test = train_test_split(X,Y,test_size=0.2,random_state=66)"
   ]
  },
  {
   "cell_type": "code",
   "execution_count": 87,
   "metadata": {},
   "outputs": [
    {
     "name": "stdout",
     "output_type": "stream",
     "text": [
      "RegressionModel(\n",
      "  (linear): Linear(in_features=13, out_features=100, bias=True)\n",
      "  (linear2): Linear(in_features=100, out_features=1, bias=True)\n",
      ")\n"
     ]
    }
   ],
   "source": [
    "## 定义模型\n",
    "class RegressionModel(torch.nn.Module):\n",
    "    def __init__(self, input_dim, output_dim):\n",
    "        super(RegressionModel,self).__init__()\n",
    "        self.linear = nn.Linear(input_dim, 100)\n",
    "        self.linear2 = nn.Linear(100, output_dim)\n",
    "        \n",
    "    def forward(self, x):\n",
    "        x = self.linear(x)\n",
    "        x = f.relu(x)\n",
    "        out = self.linear2(x)\n",
    "        return out\n",
    "# 模型实例化\n",
    "input_dim = 13\n",
    "output_dim = 1\n",
    "model = RegressionModel(input_dim, output_dim)\n",
    "print(model)\n",
    "## 定义损失函数和优化器\n",
    "learning_rate = 0.0001\n",
    "criterion = torch.nn.MSELoss()\n",
    "optimizer = torch.optim.AdamW(model.parameters(), lr = learning_rate)"
   ]
  },
  {
   "cell_type": "code",
   "execution_count": 88,
   "metadata": {},
   "outputs": [],
   "source": [
    "# help(torch.nn.MSELoss)"
   ]
  },
  {
   "cell_type": "code",
   "execution_count": 89,
   "metadata": {},
   "outputs": [
    {
     "name": "stdout",
     "output_type": "stream",
     "text": [
      "epoch: 0, train_loss: 601.3571166992188, test_loss: 610.4064331054688\n",
      "epoch: 100, train_loss: 585.7545166015625, test_loss: 594.1322631835938\n",
      "epoch: 200, train_loss: 569.34912109375, test_loss: 576.8253784179688\n",
      "epoch: 300, train_loss: 550.6537475585938, test_loss: 556.7950439453125\n",
      "epoch: 400, train_loss: 528.9808349609375, test_loss: 533.206787109375\n",
      "epoch: 500, train_loss: 503.9185485839844, test_loss: 505.72698974609375\n",
      "epoch: 600, train_loss: 475.37841796875, test_loss: 474.3448486328125\n",
      "epoch: 700, train_loss: 443.6724548339844, test_loss: 439.4716491699219\n",
      "epoch: 800, train_loss: 409.5365905761719, test_loss: 401.9920959472656\n",
      "epoch: 900, train_loss: 373.9753723144531, test_loss: 363.0768737792969\n",
      "epoch: 1000, train_loss: 338.03106689453125, test_loss: 324.1041564941406\n",
      "epoch: 1100, train_loss: 302.83319091796875, test_loss: 286.4101867675781\n",
      "epoch: 1200, train_loss: 269.25762939453125, test_loss: 250.92088317871094\n",
      "epoch: 1300, train_loss: 237.95741271972656, test_loss: 218.37945556640625\n",
      "epoch: 1400, train_loss: 209.3744659423828, test_loss: 189.2842254638672\n",
      "epoch: 1500, train_loss: 183.78343200683594, test_loss: 163.88070678710938\n",
      "epoch: 1600, train_loss: 161.18289184570312, test_loss: 142.0507049560547\n",
      "epoch: 1700, train_loss: 141.40478515625, test_loss: 123.4784927368164\n",
      "epoch: 1800, train_loss: 124.20604705810547, test_loss: 107.74394989013672\n",
      "epoch: 1900, train_loss: 109.31739044189453, test_loss: 94.4249038696289\n",
      "epoch: 2000, train_loss: 96.43966674804688, test_loss: 83.12040710449219\n",
      "epoch: 2100, train_loss: 85.34784698486328, test_loss: 73.50599670410156\n",
      "epoch: 2200, train_loss: 75.8349380493164, test_loss: 65.32342529296875\n",
      "epoch: 2300, train_loss: 67.69799041748047, test_loss: 58.34239196777344\n",
      "epoch: 2400, train_loss: 60.77301788330078, test_loss: 52.395362854003906\n",
      "epoch: 2500, train_loss: 54.90781021118164, test_loss: 47.31890869140625\n",
      "epoch: 2600, train_loss: 49.97140884399414, test_loss: 43.000946044921875\n",
      "epoch: 2700, train_loss: 45.848506927490234, test_loss: 39.332767486572266\n",
      "epoch: 2800, train_loss: 42.42457580566406, test_loss: 36.21938705444336\n",
      "epoch: 2900, train_loss: 39.5855712890625, test_loss: 33.57891845703125\n",
      "epoch: 3000, train_loss: 37.244598388671875, test_loss: 31.344263076782227\n",
      "epoch: 3100, train_loss: 35.31633758544922, test_loss: 29.45088005065918\n",
      "epoch: 3200, train_loss: 33.72111129760742, test_loss: 27.838191986083984\n",
      "epoch: 3300, train_loss: 32.384178161621094, test_loss: 26.455581665039062\n",
      "epoch: 3400, train_loss: 31.242877960205078, test_loss: 25.248939514160156\n",
      "epoch: 3500, train_loss: 30.258237838745117, test_loss: 24.188365936279297\n",
      "epoch: 3600, train_loss: 29.393936157226562, test_loss: 23.250473022460938\n",
      "epoch: 3700, train_loss: 28.609508514404297, test_loss: 22.395076751708984\n",
      "epoch: 3800, train_loss: 27.88456916809082, test_loss: 21.6054744720459\n",
      "epoch: 3900, train_loss: 27.205732345581055, test_loss: 20.86868667602539\n",
      "epoch: 4000, train_loss: 26.55976104736328, test_loss: 20.172224044799805\n",
      "epoch: 4100, train_loss: 25.941381454467773, test_loss: 19.508045196533203\n",
      "epoch: 4200, train_loss: 25.339176177978516, test_loss: 18.86614418029785\n",
      "epoch: 4300, train_loss: 24.747041702270508, test_loss: 18.251636505126953\n",
      "epoch: 4400, train_loss: 24.16530990600586, test_loss: 17.667253494262695\n",
      "epoch: 4500, train_loss: 23.59309196472168, test_loss: 17.100563049316406\n",
      "epoch: 4600, train_loss: 23.03011131286621, test_loss: 16.5515079498291\n",
      "epoch: 4700, train_loss: 22.474348068237305, test_loss: 16.012924194335938\n",
      "epoch: 4800, train_loss: 21.923206329345703, test_loss: 15.48786449432373\n",
      "epoch: 4900, train_loss: 21.38118553161621, test_loss: 14.983146667480469\n",
      "epoch: 5000, train_loss: 20.846405029296875, test_loss: 14.49647331237793\n",
      "epoch: 5100, train_loss: 20.3173770904541, test_loss: 14.022790908813477\n",
      "epoch: 5200, train_loss: 19.79631233215332, test_loss: 13.562599182128906\n",
      "epoch: 5300, train_loss: 19.281347274780273, test_loss: 13.115212440490723\n",
      "epoch: 5400, train_loss: 18.775957107543945, test_loss: 12.689167976379395\n",
      "epoch: 5500, train_loss: 18.2822208404541, test_loss: 12.28656005859375\n",
      "epoch: 5600, train_loss: 17.80060386657715, test_loss: 11.893497467041016\n",
      "epoch: 5700, train_loss: 17.332477569580078, test_loss: 11.51975154876709\n",
      "epoch: 5800, train_loss: 16.877023696899414, test_loss: 11.162973403930664\n",
      "epoch: 5900, train_loss: 16.43492317199707, test_loss: 10.822379112243652\n",
      "epoch: 6000, train_loss: 16.012704849243164, test_loss: 10.506572723388672\n",
      "epoch: 6100, train_loss: 15.6135835647583, test_loss: 10.218036651611328\n",
      "epoch: 6200, train_loss: 15.228569030761719, test_loss: 9.951066970825195\n",
      "epoch: 6300, train_loss: 14.858302116394043, test_loss: 9.699943542480469\n",
      "epoch: 6400, train_loss: 14.50432300567627, test_loss: 9.466261863708496\n",
      "epoch: 6500, train_loss: 14.167168617248535, test_loss: 9.244824409484863\n",
      "epoch: 6600, train_loss: 13.847199440002441, test_loss: 9.035640716552734\n",
      "epoch: 6700, train_loss: 13.543251991271973, test_loss: 8.842981338500977\n",
      "epoch: 6800, train_loss: 13.253052711486816, test_loss: 8.665645599365234\n",
      "epoch: 6900, train_loss: 12.975770950317383, test_loss: 8.505193710327148\n",
      "epoch: 7000, train_loss: 12.709816932678223, test_loss: 8.35940933227539\n",
      "epoch: 7100, train_loss: 12.463574409484863, test_loss: 8.236629486083984\n",
      "epoch: 7200, train_loss: 12.228049278259277, test_loss: 8.132002830505371\n",
      "epoch: 7300, train_loss: 12.0031156539917, test_loss: 8.03947925567627\n",
      "epoch: 7400, train_loss: 11.787186622619629, test_loss: 7.95844841003418\n",
      "epoch: 7500, train_loss: 11.578875541687012, test_loss: 7.885096549987793\n",
      "epoch: 7600, train_loss: 11.379947662353516, test_loss: 7.826353549957275\n",
      "epoch: 7700, train_loss: 11.193835258483887, test_loss: 7.772747993469238\n",
      "epoch: 7800, train_loss: 11.019378662109375, test_loss: 7.7332763671875\n",
      "epoch: 7900, train_loss: 10.854771614074707, test_loss: 7.700973033905029\n",
      "epoch: 8000, train_loss: 10.690673828125, test_loss: 7.671741962432861\n",
      "epoch: 8100, train_loss: 10.532474517822266, test_loss: 7.636117935180664\n",
      "epoch: 8200, train_loss: 10.379508018493652, test_loss: 7.606712341308594\n",
      "epoch: 8300, train_loss: 10.234701156616211, test_loss: 7.576345443725586\n",
      "epoch: 8400, train_loss: 10.09439754486084, test_loss: 7.547707557678223\n",
      "epoch: 8500, train_loss: 9.958148002624512, test_loss: 7.527310371398926\n",
      "epoch: 8600, train_loss: 9.825721740722656, test_loss: 7.512643814086914\n",
      "epoch: 8700, train_loss: 9.699584007263184, test_loss: 7.494820594787598\n",
      "epoch: 8800, train_loss: 9.577397346496582, test_loss: 7.471933364868164\n",
      "epoch: 8900, train_loss: 9.45752239227295, test_loss: 7.448918342590332\n",
      "epoch: 9000, train_loss: 9.3417387008667, test_loss: 7.422750949859619\n",
      "epoch: 9100, train_loss: 9.229936599731445, test_loss: 7.39285945892334\n",
      "epoch: 9200, train_loss: 9.120911598205566, test_loss: 7.366969108581543\n",
      "epoch: 9300, train_loss: 9.013474464416504, test_loss: 7.346692085266113\n",
      "epoch: 9400, train_loss: 8.908596992492676, test_loss: 7.329519748687744\n",
      "epoch: 9500, train_loss: 8.808488845825195, test_loss: 7.309206962585449\n",
      "epoch: 9600, train_loss: 8.712032318115234, test_loss: 7.284954071044922\n",
      "epoch: 9700, train_loss: 8.617391586303711, test_loss: 7.261790752410889\n",
      "epoch: 9800, train_loss: 8.523194313049316, test_loss: 7.244495868682861\n",
      "epoch: 9900, train_loss: 8.429342269897461, test_loss: 7.218879222869873\n",
      "epoch: 10000, train_loss: 8.338708877563477, test_loss: 7.195518493652344\n",
      "epoch: 10100, train_loss: 8.249863624572754, test_loss: 7.174602508544922\n",
      "epoch: 10200, train_loss: 8.165566444396973, test_loss: 7.157757759094238\n",
      "epoch: 10300, train_loss: 8.08531379699707, test_loss: 7.142922878265381\n",
      "epoch: 10400, train_loss: 8.007525444030762, test_loss: 7.124565601348877\n",
      "epoch: 10500, train_loss: 7.931746959686279, test_loss: 7.103788375854492\n",
      "epoch: 10600, train_loss: 7.860135078430176, test_loss: 7.088681221008301\n",
      "epoch: 10700, train_loss: 7.789555549621582, test_loss: 7.068775177001953\n",
      "epoch: 10800, train_loss: 7.7189106941223145, test_loss: 7.049776077270508\n",
      "epoch: 10900, train_loss: 7.647155284881592, test_loss: 7.032273769378662\n",
      "epoch: 11000, train_loss: 7.576473236083984, test_loss: 7.014533996582031\n",
      "epoch: 11100, train_loss: 7.506766319274902, test_loss: 6.991013526916504\n"
     ]
    },
    {
     "name": "stdout",
     "output_type": "stream",
     "text": [
      "epoch: 11200, train_loss: 7.439758777618408, test_loss: 6.970978260040283\n",
      "epoch: 11300, train_loss: 7.3730082511901855, test_loss: 6.95139217376709\n",
      "程序结束时的测试数据的最小loss:6.940184116363525,当前模型测试数据的loss:6.940199851989746\n"
     ]
    }
   ],
   "source": [
    "\n",
    "#数据转为tensor类型\n",
    "# inputs = torch.as_tensor(torch.from_numpy(X_train),dtype=torch.float32)\n",
    "# labels = torch.as_tensor(torch.from_numpy(Y_train),dtype=torch.float32)\n",
    "inputs = torch.tensor(X_train,dtype=torch.float32)\n",
    "labels = torch.tensor(Y_train,dtype=torch.float32)\n",
    "\n",
    "\n",
    "#测试集进行测试\n",
    "x_test = torch.tensor(X_test, dtype=torch.float32)\n",
    "y_test = torch.tensor(Y_test, dtype = torch.float32)\n",
    "\n",
    "epochs = 20000\n",
    "test_min_loss = 1000000\n",
    "all_train_loss = []\n",
    "all_test_loss = []\n",
    "for epoch in range(epochs):\n",
    "\n",
    "    \n",
    "    #前向传播\n",
    "    outputs = model(inputs)\n",
    "    \n",
    "    #计算loss\n",
    "    \n",
    "    loss = criterion(outputs, labels.view(-1,1))\n",
    "    all_train_loss.append(loss.item())\n",
    "    #测试集#在backward之前计算测试数据的loss\n",
    "    pred = model.forward(x_test)\n",
    "    test_loss = criterion(pred, y_test.view(-1,1))\n",
    "    all_test_loss.append(test_loss.item())\n",
    "\n",
    "    if test_min_loss > test_loss.item():\n",
    "        test_min_loss = test_loss.item()\n",
    "    else:\n",
    "        print(f'程序结束时的测试数据的最小loss:{test_min_loss},当前模型测试数据的loss:{test_loss.item()}')\n",
    "        break\n",
    "    if epoch % 100 == 0:\n",
    "#             print('epoch {}, train_loss {},test_loss {}'.format(epoch, loss.item(),loss_test.item()))\n",
    "        print(f'epoch: {epoch}, train_loss: {loss.item()}, test_loss: {test_loss.item()}')\n",
    "    #梯度清零\n",
    "    optimizer.zero_grad()\n",
    "\n",
    "    #反向传播\n",
    "    loss.backward()\n",
    "\n",
    "    #更新参数\n",
    "    optimizer.step() "
   ]
  },
  {
   "cell_type": "code",
   "execution_count": 90,
   "metadata": {},
   "outputs": [
    {
     "name": "stdout",
     "output_type": "stream",
     "text": [
      "tensor([[18.3646]], grad_fn=<AddmmBackward0>)\n",
      "19.9\n"
     ]
    }
   ],
   "source": [
    "input_ = torch.tensor(X_test[5],dtype=torch.float32).view(1,-1)\n",
    "print(model(input_))\n",
    "print(Y_test[5])"
   ]
  },
  {
   "cell_type": "code",
   "execution_count": 91,
   "metadata": {},
   "outputs": [],
   "source": [
    "input_ = torch.tensor(X_test,dtype=torch.float32)\n",
    "predicts = model(input_)"
   ]
  },
  {
   "cell_type": "code",
   "execution_count": 92,
   "metadata": {},
   "outputs": [],
   "source": [
    "# predicts.numpy() "
   ]
  },
  {
   "cell_type": "code",
   "execution_count": 93,
   "metadata": {},
   "outputs": [],
   "source": [
    "from sklearn.metrics import r2_score"
   ]
  },
  {
   "cell_type": "code",
   "execution_count": 94,
   "metadata": {},
   "outputs": [
    {
     "data": {
      "text/plain": [
       "0.9228142549907157"
      ]
     },
     "execution_count": 94,
     "metadata": {},
     "output_type": "execute_result"
    }
   ],
   "source": [
    "r2_score(predicts.detach().numpy(),Y_test)"
   ]
  },
  {
   "cell_type": "code",
   "execution_count": 95,
   "metadata": {},
   "outputs": [
    {
     "data": {
      "text/plain": [
       "<matplotlib.legend.Legend at 0x19a56eda288>"
      ]
     },
     "execution_count": 95,
     "metadata": {},
     "output_type": "execute_result"
    },
    {
     "data": {
      "image/png": "[encoded data removed]",
      "text/plain": [
       "<Figure size 432x288 with 1 Axes>"
      ]
     },
     "metadata": {
      "needs_background": "light"
     },
     "output_type": "display_data"
    }
   ],
   "source": [
    "import matplotlib.pyplot as plt\n",
    "\n",
    "plt.plot(np.arange(len(all_train_loss[2000:])), all_train_loss[2000:], color='red',label='train_loss')\n",
    "plt.plot(np.arange(len(all_test_loss[2000:])), all_test_loss[2000:], color='blue',label='test_loss')\n",
    "plt.legend()"
   ]
  },
  {
   "cell_type": "code",
   "execution_count": 96,
   "metadata": {},
   "outputs": [],
   "source": [
    "# 保存模型\n",
    "torch.save(model, 'model/model.pkl')"
   ]
  },
  {
   "cell_type": "code",
   "execution_count": 97,
   "metadata": {},
   "outputs": [
    {
     "name": "stdout",
     "output_type": "stream",
     "text": [
      "预测值：44.85979080200195,真实值：43.8\n"
     ]
    }
   ],
   "source": [
    "#加载模型\n",
    "net = torch.load(\"model/model.pkl\")\n",
    "\n",
    "x_data = torch.tensor(X_test[1], dtype=torch.float32)\n",
    "\n",
    "pred = net.forward(x_data.view(1,-1))\n",
    "\n",
    "print('预测值：{},真实值：{}'.format(pred.item(),Y_test[1]))"
   ]
  },
  {
   "cell_type": "markdown",
   "metadata": {},
   "source": [
    "## pytorch使用gpu"
   ]
  },
  {
   "cell_type": "code",
   "execution_count": 52,
   "metadata": {},
   "outputs": [
    {
     "name": "stdout",
     "output_type": "stream",
     "text": [
      "(506, 13)\n",
      "(506,)\n",
      "(404, 13)\n",
      "(102, 13)\n"
     ]
    }
   ],
   "source": [
    "import torch\n",
    "import torch.nn as nn\n",
    "from sklearn.datasets import load_boston\n",
    "from sklearn.model_selection import train_test_split\n",
    "from sklearn.preprocessing import StandardScaler\n",
    "import numpy as np\n",
    "import torch.nn.functional as f\n",
    "boston = load_boston()\n",
    "X = boston.data\n",
    "Y = boston.target\n",
    "print(np.shape(X))\n",
    "print(np.shape(Y))\n",
    "std = StandardScaler()\n",
    "X = std.fit_transform(X)\n",
    "X_train,X_test,Y_train,Y_test = train_test_split(X,Y,test_size=0.2,random_state=66)\n",
    "print(np.shape(X_train))\n",
    "print(np.shape(X_test))\n"
   ]
  },
  {
   "cell_type": "code",
   "execution_count": 53,
   "metadata": {},
   "outputs": [
    {
     "name": "stdout",
     "output_type": "stream",
     "text": [
      "RegressionModel(\n",
      "  (linear): Linear(in_features=13, out_features=100, bias=True)\n",
      "  (linear2): Linear(in_features=100, out_features=1, bias=True)\n",
      ")\n"
     ]
    }
   ],
   "source": [
    "## 定义模型\n",
    "class RegressionModel(torch.nn.Module):\n",
    "    def __init__(self, input_dim, output_dim):\n",
    "        super(RegressionModel,self).__init__()\n",
    "        self.linear = nn.Linear(input_dim, 100)\n",
    "        self.linear2 = nn.Linear(100, output_dim)\n",
    "        \n",
    "    def forward(self, x):\n",
    "        x = self.linear(x)\n",
    "        x = f.relu(x)\n",
    "        out = self.linear2(x)\n",
    "        return out\n",
    "# 模型实例化\n",
    "input_dim = 13\n",
    "output_dim = 1\n",
    "model = RegressionModel(input_dim, output_dim)\n",
    "print(model)\n",
    "## 定义损失函数和优化器\n",
    "learning_rate = 0.0001\n",
    "criterion = torch.nn.MSELoss()\n",
    "optimizer = torch.optim.AdamW(model.parameters(), lr = learning_rate)"
   ]
  },
  {
   "cell_type": "code",
   "execution_count": 54,
   "metadata": {},
   "outputs": [],
   "source": [
    "# torch.cuda.current_device()"
   ]
  },
  {
   "cell_type": "code",
   "execution_count": 55,
   "metadata": {},
   "outputs": [],
   "source": [
    "## 和cpu的不同"
   ]
  },
  {
   "cell_type": "code",
   "execution_count": 56,
   "metadata": {},
   "outputs": [],
   "source": [
    "device = torch.device(\"cuda:0\")"
   ]
  },
  {
   "cell_type": "code",
   "execution_count": 57,
   "metadata": {},
   "outputs": [
    {
     "data": {
      "text/plain": [
       "RegressionModel(\n",
       "  (linear): Linear(in_features=13, out_features=100, bias=True)\n",
       "  (linear2): Linear(in_features=100, out_features=1, bias=True)\n",
       ")"
      ]
     },
     "execution_count": 57,
     "metadata": {},
     "output_type": "execute_result"
    }
   ],
   "source": [
    "model.to(device)#把我们的模型搬到我们的gpu上"
   ]
  },
  {
   "cell_type": "code",
   "execution_count": 58,
   "metadata": {},
   "outputs": [],
   "source": [
    "inputs = torch.tensor(X_train,dtype=torch.float32)\n",
    "labels = torch.tensor(Y_train,dtype=torch.float32)"
   ]
  },
  {
   "cell_type": "code",
   "execution_count": 59,
   "metadata": {},
   "outputs": [],
   "source": [
    "#测试集进行测试\n",
    "x_test = torch.tensor(X_test, dtype=torch.float32).to(device)\n",
    "y_test = torch.tensor(Y_test, dtype = torch.float32).to(device)"
   ]
  },
  {
   "cell_type": "code",
   "execution_count": 60,
   "metadata": {},
   "outputs": [],
   "source": [
    "from torch.utils.data import Dataset, DataLoader"
   ]
  },
  {
   "cell_type": "code",
   "execution_count": 61,
   "metadata": {},
   "outputs": [],
   "source": [
    "### A custom Dataset class must implement three functions: __init__, __len__, and __getitem__.\n",
    "### The __init__ function is run once when instantiating the Dataset object.\n",
    "### The __len__ function returns the number of samples in our dataset.\n",
    "### The __getitem__ function loads and returns a sample from the dataset at the given index idx.\n",
    "\n",
    "import torch\n",
    "import numpy as np\n",
    "\n",
    "#自定义dataset\n",
    "class myDataset(Dataset):\n",
    "    #初始化，定义数据内容和标签\n",
    "    def __init__(self, Data, Label):\n",
    "        self.Data = Data\n",
    "        self.Label = Label\n",
    "    #返回数据集大小\n",
    "    def __len__(self):\n",
    "        return len(self.Data)\n",
    "    #得到数据内容和标签\n",
    "    def __getitem__(self, index):\n",
    "        data = torch.Tensor(self.Data[index])\n",
    "        \n",
    "        label = torch.Tensor(self.Label[index])\n",
    "#         label = self.Label[index]\n",
    "\n",
    "        return data, label"
   ]
  },
  {
   "cell_type": "code",
   "execution_count": 62,
   "metadata": {},
   "outputs": [
    {
     "data": {
      "text/plain": [
       "torch.Size([404])"
      ]
     },
     "execution_count": 62,
     "metadata": {},
     "output_type": "execute_result"
    }
   ],
   "source": [
    "np.shape(labels)"
   ]
  },
  {
   "cell_type": "code",
   "execution_count": 63,
   "metadata": {},
   "outputs": [
    {
     "data": {
      "text/plain": [
       "torch.Size([404, 13])"
      ]
     },
     "execution_count": 63,
     "metadata": {},
     "output_type": "execute_result"
    }
   ],
   "source": [
    "np.shape(inputs)"
   ]
  },
  {
   "cell_type": "code",
   "execution_count": 64,
   "metadata": {},
   "outputs": [
    {
     "data": {
      "text/plain": [
       "tensor([[-0.3725, -0.4877, -0.7203,  ..., -0.4880,  0.1689, -0.8821],\n",
       "        [-0.4047,  0.0488, -0.7393,  ...,  0.2055,  0.4411,  0.0612],\n",
       "        [-0.3910, -0.4877, -0.6167,  ..., -0.2569,  0.4411,  2.5451],\n",
       "        ...,\n",
       "        [-0.4037, -0.4877, -0.1644,  ..., -0.3031,  0.3818,  0.1341],\n",
       "        [-0.3835, -0.4877, -0.1805,  ..., -0.0257,  0.3731,  0.7958],\n",
       "        [-0.2748, -0.4877, -0.4373,  ...,  1.1765,  0.2181,  1.1728]])"
      ]
     },
     "execution_count": 64,
     "metadata": {},
     "output_type": "execute_result"
    }
   ],
   "source": [
    "inputs"
   ]
  },
  {
   "cell_type": "code",
   "execution_count": 65,
   "metadata": {},
   "outputs": [],
   "source": [
    "dataset = myDataset(inputs,labels)"
   ]
  },
  {
   "cell_type": "code",
   "execution_count": 66,
   "metadata": {},
   "outputs": [
    {
     "data": {
      "text/plain": [
       "<__main__.myDataset at 0x19a543e8208>"
      ]
     },
     "execution_count": 66,
     "metadata": {},
     "output_type": "execute_result"
    }
   ],
   "source": [
    "dataset"
   ]
  },
  {
   "cell_type": "code",
   "execution_count": 67,
   "metadata": {},
   "outputs": [
    {
     "data": {
      "text/plain": [
       "404"
      ]
     },
     "execution_count": 67,
     "metadata": {},
     "output_type": "execute_result"
    }
   ],
   "source": [
    "len(labels)"
   ]
  },
  {
   "cell_type": "code",
   "execution_count": 68,
   "metadata": {},
   "outputs": [
    {
     "data": {
      "text/plain": [
       "404"
      ]
     },
     "execution_count": 68,
     "metadata": {},
     "output_type": "execute_result"
    }
   ],
   "source": [
    "len(inputs)"
   ]
  },
  {
   "cell_type": "code",
   "execution_count": 69,
   "metadata": {},
   "outputs": [
    {
     "name": "stdout",
     "output_type": "stream",
     "text": [
      "Help on class Dataset in module torch.utils.data.dataset:\n",
      "\n",
      "class Dataset(typing.Generic)\n",
      " |  Dataset(*args, **kwds)\n",
      " |  \n",
      " |  An abstract class representing a :class:`Dataset`.\n",
      " |  \n",
      " |  All datasets that represent a map from keys to data samples should subclass\n",
      " |  it. All subclasses should overwrite :meth:`__getitem__`, supporting fetching a\n",
      " |  data sample for a given key. Subclasses could also optionally overwrite\n",
      " |  :meth:`__len__`, which is expected to return the size of the dataset by many\n",
      " |  :class:`~torch.utils.data.Sampler` implementations and the default options\n",
      " |  of :class:`~torch.utils.data.DataLoader`.\n",
      " |  \n",
      " |  .. note::\n",
      " |    :class:`~torch.utils.data.DataLoader` by default constructs a index\n",
      " |    sampler that yields integral indices.  To make it work with a map-style\n",
      " |    dataset with non-integral indices/keys, a custom sampler must be provided.\n",
      " |  \n",
      " |  Method resolution order:\n",
      " |      Dataset\n",
      " |      typing.Generic\n",
      " |      builtins.object\n",
      " |  \n",
      " |  Methods defined here:\n",
      " |  \n",
      " |  __add__(self, other: 'Dataset[T_co]') -> 'ConcatDataset[T_co]'\n",
      " |  \n",
      " |  __getattr__(self, attribute_name)\n",
      " |  \n",
      " |  __getitem__(self, index) -> +T_co\n",
      " |  \n",
      " |  ----------------------------------------------------------------------\n",
      " |  Class methods defined here:\n",
      " |  \n",
      " |  register_datapipe_as_function(function_name, cls_to_register, enable_df_api_tracing=False) from builtins.type\n",
      " |  \n",
      " |  register_function(function_name, function) from builtins.type\n",
      " |  \n",
      " |  ----------------------------------------------------------------------\n",
      " |  Data descriptors defined here:\n",
      " |  \n",
      " |  __dict__\n",
      " |      dictionary for instance variables (if defined)\n",
      " |  \n",
      " |  __weakref__\n",
      " |      list of weak references to the object (if defined)\n",
      " |  \n",
      " |  ----------------------------------------------------------------------\n",
      " |  Data and other attributes defined here:\n",
      " |  \n",
      " |  __annotations__ = {'functions': typing.Dict[str, typing.Callable]}\n",
      " |  \n",
      " |  __orig_bases__ = (typing.Generic[+T_co],)\n",
      " |  \n",
      " |  __parameters__ = (+T_co,)\n",
      " |  \n",
      " |  functions = {'concat': functools.partial(<function Dataset.register_da...\n",
      " |  \n",
      " |  ----------------------------------------------------------------------\n",
      " |  Class methods inherited from typing.Generic:\n",
      " |  \n",
      " |  __class_getitem__(params) from builtins.type\n",
      " |  \n",
      " |  __init_subclass__(*args, **kwargs) from builtins.type\n",
      " |      This method is called when a class is subclassed.\n",
      " |      \n",
      " |      The default implementation does nothing. It may be\n",
      " |      overridden to extend subclasses.\n",
      " |  \n",
      " |  ----------------------------------------------------------------------\n",
      " |  Static methods inherited from typing.Generic:\n",
      " |  \n",
      " |  __new__(cls, *args, **kwds)\n",
      " |      Create and return a new object.  See help(type) for accurate signature.\n",
      "\n"
     ]
    }
   ],
   "source": [
    "help(Dataset)"
   ]
  },
  {
   "cell_type": "code",
   "execution_count": 70,
   "metadata": {},
   "outputs": [
    {
     "data": {
      "text/plain": [
       "(tensor([-0.4047,  0.0488, -0.7393, -0.2726, -1.2586, -0.9839, -1.1299,  1.2849,\n",
       "         -0.6380, -0.3756,  0.2055,  0.4411,  0.0612]),\n",
       " tensor(17.4000))"
      ]
     },
     "execution_count": 70,
     "metadata": {},
     "output_type": "execute_result"
    }
   ],
   "source": [
    "dataset[1]"
   ]
  },
  {
   "cell_type": "code",
   "execution_count": 71,
   "metadata": {},
   "outputs": [],
   "source": [
    "# help(DataLoader)"
   ]
  },
  {
   "cell_type": "code",
   "execution_count": 72,
   "metadata": {},
   "outputs": [],
   "source": [
    "#创建DataLoader迭代器\n",
    "# The Dataset retrieves our dataset’s features and labels one sample at a time. While training a model, we typically want to\n",
    "# pass samples in “minibatches”, reshuffle the data at every epoch to reduce model overfitting, and use Python’s multiprocessing to\n",
    "# speed up data retrieval.\n",
    "# DataLoader is an iterable that abstracts this complexity for us in an easy API.\n",
    "\n",
    "\n",
    "dataloader = DataLoader(dataset,batch_size= 404, shuffle = True)\n"
   ]
  },
  {
   "cell_type": "code",
   "execution_count": 73,
   "metadata": {},
   "outputs": [
    {
     "name": "stdout",
     "output_type": "stream",
     "text": [
      "tensor([[-0.4102,  0.0488, -0.4767,  ..., -1.5052,  0.4268, -0.0313],\n",
      "        [ 0.2127, -0.4877,  1.0160,  ...,  0.8066, -0.0152,  0.7117],\n",
      "        [-0.3577,  0.3707, -1.0457,  ..., -2.5224,  0.3961, -0.4294],\n",
      "        ...,\n",
      "        [-0.4046, -0.4877, -0.0798,  ...,  0.0668,  0.4411, -0.2499],\n",
      "        [ 1.9903, -0.4877,  1.0160,  ...,  0.8066,  0.1485,  1.4980],\n",
      "        [ 0.4553, -0.4877,  1.0160,  ...,  0.8066, -0.5752,  0.9331]])\n",
      "tensor([22.9000, 15.2000, 33.8000, 21.9000, 23.7000, 19.6000, 31.2000, 13.8000,\n",
      "        15.4000, 19.4000, 22.3000,  5.0000, 15.2000,  8.4000, 17.2000, 19.9000,\n",
      "        31.5000, 14.1000,  5.0000, 37.6000, 20.1000, 22.5000, 33.2000, 12.1000,\n",
      "        37.3000, 23.3000, 17.2000, 12.7000, 23.3000, 24.4000, 23.1000, 20.0000,\n",
      "        28.2000, 43.1000, 13.5000, 21.6000, 20.3000, 22.3000, 24.4000, 31.7000,\n",
      "        24.2000, 30.1000, 11.9000,  7.2000, 29.9000,  8.7000, 18.8000, 28.1000,\n",
      "        18.6000, 22.2000,  7.2000, 14.5000, 24.7000, 21.8000, 18.5000, 26.6000,\n",
      "        16.1000, 22.9000, 27.9000, 30.5000, 10.2000, 14.3000, 15.4000, 19.4000,\n",
      "        21.2000, 23.8000, 28.0000, 19.8000, 17.8000, 14.4000, 36.5000, 24.6000,\n",
      "        21.2000, 23.8000, 27.1000, 12.7000, 32.0000, 32.4000, 33.1000, 13.1000,\n",
      "        17.3000, 18.9000, 21.7000, 14.6000, 20.7000, 18.0000, 16.0000, 41.3000,\n",
      "        19.6000, 15.0000, 22.2000, 18.6000, 18.1000, 20.8000, 50.0000, 17.1000,\n",
      "        50.0000, 16.7000, 21.7000, 39.8000, 50.0000, 17.9000, 34.9000, 18.7000,\n",
      "        21.7000, 12.0000, 13.3000, 21.0000, 20.0000,  8.3000, 19.1000, 20.5000,\n",
      "        20.7000, 16.5000, 13.4000, 21.4000, 35.4000, 50.0000, 14.3000, 34.7000,\n",
      "        14.5000, 20.4000, 22.2000, 23.0000, 23.5000, 18.5000, 19.3000, 22.8000,\n",
      "        22.0000, 27.0000, 37.9000, 24.8000, 10.9000, 19.9000, 20.8000, 13.1000,\n",
      "        11.8000, 25.0000, 27.9000, 13.9000, 23.8000, 31.1000, 22.7000, 14.2000,\n",
      "        12.3000, 20.2000, 16.2000, 31.6000, 24.5000,  8.4000, 24.5000, 18.9000,\n",
      "        14.1000, 13.2000, 24.5000, 14.5000, 29.4000, 28.7000, 50.0000, 23.4000,\n",
      "        22.8000, 19.2000, 27.5000, 22.2000, 43.5000, 20.6000, 36.2000, 22.6000,\n",
      "        17.7000, 20.6000, 16.5000, 14.1000, 36.0000, 42.8000, 15.3000, 17.4000,\n",
      "        28.7000, 29.1000, 23.2000,  9.6000, 24.7000, 20.6000, 13.6000, 34.9000,\n",
      "        35.2000, 34.6000, 17.8000, 17.8000, 22.6000, 23.9000, 19.3000, 42.3000,\n",
      "         8.1000, 26.2000, 48.5000, 11.7000, 22.0000, 19.5000, 19.5000, 22.6000,\n",
      "        13.4000, 23.3000, 19.5000, 30.1000, 16.8000, 10.4000, 25.0000, 27.5000,\n",
      "        17.8000,  7.2000, 23.8000, 11.3000, 18.2000, 50.0000, 23.1000, 20.1000,\n",
      "        20.0000, 28.6000, 25.0000, 19.1000, 12.6000, 23.0000, 25.0000, 31.6000,\n",
      "        46.7000, 19.3000, 17.6000, 19.7000, 33.3000, 19.4000, 21.9000,  8.5000,\n",
      "        10.2000, 10.8000, 29.0000, 19.3000, 22.5000, 13.8000, 24.4000, 17.1000,\n",
      "        23.4000, 23.6000, 19.1000, 19.4000, 23.1000, 16.7000, 21.5000, 26.4000,\n",
      "        50.0000, 30.7000, 20.4000, 26.6000, 12.5000, 10.2000, 48.3000, 22.6000,\n",
      "        19.6000, 18.7000, 20.8000, 24.8000, 36.4000, 11.8000, 25.3000, 23.1000,\n",
      "        44.0000, 20.1000, 15.7000, 23.1000, 25.0000, 26.6000, 21.4000, 16.2000,\n",
      "        24.8000, 50.0000, 10.9000, 50.0000, 20.1000, 20.6000, 21.7000, 22.0000,\n",
      "        13.4000, 16.4000, 29.8000, 14.8000, 31.5000, 28.4000, 33.2000,  9.5000,\n",
      "        13.3000, 20.6000, 28.5000, 19.6000, 25.0000, 21.6000, 20.0000, 20.6000,\n",
      "        22.7000, 23.3000, 23.0000, 29.8000, 19.7000,  9.7000, 19.0000, 19.2000,\n",
      "        20.3000, 23.2000, 18.8000, 48.8000,  7.0000, 27.1000, 13.8000, 36.2000,\n",
      "        21.7000, 19.4000, 23.7000, 33.4000, 24.3000, 14.0000, 22.2000,  5.6000,\n",
      "        35.4000, 32.5000, 23.2000, 25.1000, 21.9000, 15.1000, 23.0000, 20.0000,\n",
      "        20.5000, 15.0000, 50.0000, 13.8000, 17.0000, 18.4000, 18.7000, 13.1000,\n",
      "        50.0000, 44.8000, 15.2000, 10.4000, 19.6000, 15.6000, 23.9000, 24.6000,\n",
      "        23.6000, 21.7000, 19.1000, 29.0000, 26.4000, 17.8000,  7.5000, 18.4000,\n",
      "        25.0000, 14.6000, 23.9000, 23.1000, 17.2000, 24.3000, 24.0000,  8.8000,\n",
      "        18.2000, 34.9000, 50.0000, 22.0000, 23.9000, 33.4000, 16.8000, 26.7000,\n",
      "        13.4000, 14.4000, 11.7000, 23.1000, 13.6000, 27.5000, 33.1000, 50.0000,\n",
      "         6.3000, 13.9000, 20.3000, 22.0000, 17.1000, 17.4000, 21.2000, 11.5000,\n",
      "        15.6000, 22.1000, 29.6000, 22.5000, 30.8000, 36.1000, 21.2000,  7.0000,\n",
      "        24.3000, 29.6000, 22.8000, 20.3000, 19.8000, 21.4000, 19.3000, 22.9000,\n",
      "        27.5000, 22.6000, 11.9000, 13.0000])\n"
     ]
    }
   ],
   "source": [
    "for i,data in dataloader:\n",
    "    print(i)\n",
    "    print(data)\n",
    "    break"
   ]
  },
  {
   "cell_type": "code",
   "execution_count": 74,
   "metadata": {},
   "outputs": [
    {
     "name": "stdout",
     "output_type": "stream",
     "text": [
      "(404, 13)\n"
     ]
    }
   ],
   "source": [
    "print(np.shape(X_train))"
   ]
  },
  {
   "cell_type": "code",
   "execution_count": 75,
   "metadata": {},
   "outputs": [
    {
     "name": "stdout",
     "output_type": "stream",
     "text": [
      "epoch: 0, train_loss: 590.0119018554688, test_loss: 598.526611328125\n",
      "epoch: 100, train_loss: 572.8847045898438, test_loss: 581.20703125\n",
      "epoch: 200, train_loss: 554.7254638671875, test_loss: 562.5958862304688\n",
      "epoch: 300, train_loss: 534.3814697265625, test_loss: 541.3439331054688\n",
      "epoch: 400, train_loss: 511.1004333496094, test_loss: 516.6636352539062\n",
      "epoch: 500, train_loss: 484.68017578125, test_loss: 488.28509521484375\n",
      "epoch: 600, train_loss: 455.42742919921875, test_loss: 456.72467041015625\n",
      "epoch: 700, train_loss: 423.954833984375, test_loss: 422.704833984375\n",
      "epoch: 800, train_loss: 390.8010559082031, test_loss: 386.9188232421875\n",
      "epoch: 900, train_loss: 356.8375244140625, test_loss: 350.3215637207031\n",
      "epoch: 1000, train_loss: 322.8125, test_loss: 313.7041320800781\n",
      "epoch: 1100, train_loss: 289.3156433105469, test_loss: 277.7528076171875\n",
      "epoch: 1200, train_loss: 256.9112854003906, test_loss: 243.16934204101562\n",
      "epoch: 1300, train_loss: 226.19161987304688, test_loss: 210.67051696777344\n",
      "epoch: 1400, train_loss: 197.80294799804688, test_loss: 181.00933837890625\n",
      "epoch: 1500, train_loss: 172.18716430664062, test_loss: 154.67562866210938\n",
      "epoch: 1600, train_loss: 149.60507202148438, test_loss: 131.97499084472656\n",
      "epoch: 1700, train_loss: 130.06410217285156, test_loss: 112.85162353515625\n",
      "epoch: 1800, train_loss: 113.3692626953125, test_loss: 96.9755859375\n",
      "epoch: 1900, train_loss: 99.21915435791016, test_loss: 83.86173248291016\n",
      "epoch: 2000, train_loss: 87.27397155761719, test_loss: 73.0488052368164\n",
      "epoch: 2100, train_loss: 77.2026138305664, test_loss: 64.09724426269531\n",
      "epoch: 2200, train_loss: 68.70744323730469, test_loss: 56.65870666503906\n",
      "epoch: 2300, train_loss: 61.55105209350586, test_loss: 50.446773529052734\n",
      "epoch: 2400, train_loss: 55.54042434692383, test_loss: 45.2508544921875\n",
      "epoch: 2500, train_loss: 50.496768951416016, test_loss: 40.90122604370117\n",
      "epoch: 2600, train_loss: 46.27849197387695, test_loss: 37.25764083862305\n",
      "epoch: 2700, train_loss: 42.763797760009766, test_loss: 34.20500564575195\n",
      "epoch: 2800, train_loss: 39.8353157043457, test_loss: 31.646533966064453\n",
      "epoch: 2900, train_loss: 37.40406036376953, test_loss: 29.502012252807617\n",
      "epoch: 3000, train_loss: 35.38935470581055, test_loss: 27.699148178100586\n",
      "epoch: 3100, train_loss: 33.72001647949219, test_loss: 26.17854118347168\n",
      "epoch: 3200, train_loss: 32.3253288269043, test_loss: 24.889324188232422\n",
      "epoch: 3300, train_loss: 31.148544311523438, test_loss: 23.775405883789062\n",
      "epoch: 3400, train_loss: 30.132980346679688, test_loss: 22.801074981689453\n",
      "epoch: 3500, train_loss: 29.243127822875977, test_loss: 21.930219650268555\n",
      "epoch: 3600, train_loss: 28.441650390625, test_loss: 21.135690689086914\n",
      "epoch: 3700, train_loss: 27.705188751220703, test_loss: 20.40117645263672\n",
      "epoch: 3800, train_loss: 27.015003204345703, test_loss: 19.7085018157959\n",
      "epoch: 3900, train_loss: 26.35927963256836, test_loss: 19.05607795715332\n",
      "epoch: 4000, train_loss: 25.73211669921875, test_loss: 18.432025909423828\n",
      "epoch: 4100, train_loss: 25.12329864501953, test_loss: 17.835668563842773\n",
      "epoch: 4200, train_loss: 24.529083251953125, test_loss: 17.261621475219727\n",
      "epoch: 4300, train_loss: 23.945993423461914, test_loss: 16.706974029541016\n",
      "epoch: 4400, train_loss: 23.37371826171875, test_loss: 16.167940139770508\n",
      "epoch: 4500, train_loss: 22.808013916015625, test_loss: 15.64072036743164\n",
      "epoch: 4600, train_loss: 22.24654769897461, test_loss: 15.13598918914795\n",
      "epoch: 4700, train_loss: 21.690723419189453, test_loss: 14.650749206542969\n",
      "epoch: 4800, train_loss: 21.14443016052246, test_loss: 14.178515434265137\n",
      "epoch: 4900, train_loss: 20.605676651000977, test_loss: 13.7229585647583\n",
      "epoch: 5000, train_loss: 20.07230567932129, test_loss: 13.281689643859863\n",
      "epoch: 5100, train_loss: 19.543445587158203, test_loss: 12.839574813842773\n",
      "epoch: 5200, train_loss: 19.025854110717773, test_loss: 12.416571617126465\n",
      "epoch: 5300, train_loss: 18.51947021484375, test_loss: 12.002007484436035\n",
      "epoch: 5400, train_loss: 18.022666931152344, test_loss: 11.602546691894531\n",
      "epoch: 5500, train_loss: 17.538166046142578, test_loss: 11.224409103393555\n",
      "epoch: 5600, train_loss: 17.070087432861328, test_loss: 10.869659423828125\n",
      "epoch: 5700, train_loss: 16.617090225219727, test_loss: 10.53777027130127\n",
      "epoch: 5800, train_loss: 16.17730712890625, test_loss: 10.221857070922852\n",
      "epoch: 5900, train_loss: 15.753400802612305, test_loss: 9.935654640197754\n",
      "epoch: 6000, train_loss: 15.348119735717773, test_loss: 9.67092514038086\n",
      "epoch: 6100, train_loss: 14.956475257873535, test_loss: 9.420504570007324\n",
      "epoch: 6200, train_loss: 14.581716537475586, test_loss: 9.175822257995605\n",
      "epoch: 6300, train_loss: 14.223210334777832, test_loss: 8.95962142944336\n",
      "epoch: 6400, train_loss: 13.886449813842773, test_loss: 8.7620210647583\n",
      "epoch: 6500, train_loss: 13.569232940673828, test_loss: 8.581068992614746\n",
      "epoch: 6600, train_loss: 13.270463943481445, test_loss: 8.424042701721191\n",
      "epoch: 6700, train_loss: 12.988210678100586, test_loss: 8.288670539855957\n",
      "epoch: 6800, train_loss: 12.72071647644043, test_loss: 8.17685604095459\n",
      "epoch: 6900, train_loss: 12.46625804901123, test_loss: 8.082596778869629\n",
      "epoch: 7000, train_loss: 12.223885536193848, test_loss: 8.000852584838867\n",
      "epoch: 7100, train_loss: 11.997039794921875, test_loss: 7.9324631690979\n",
      "epoch: 7200, train_loss: 11.778687477111816, test_loss: 7.883808612823486\n",
      "epoch: 7300, train_loss: 11.572710990905762, test_loss: 7.834046840667725\n",
      "epoch: 7400, train_loss: 11.37592601776123, test_loss: 7.789514064788818\n",
      "epoch: 7500, train_loss: 11.190454483032227, test_loss: 7.758039474487305\n",
      "epoch: 7600, train_loss: 11.012866973876953, test_loss: 7.738765239715576\n",
      "epoch: 7700, train_loss: 10.843475341796875, test_loss: 7.715217590332031\n",
      "epoch: 7800, train_loss: 10.68049144744873, test_loss: 7.697423934936523\n",
      "epoch: 7900, train_loss: 10.52364730834961, test_loss: 7.684098243713379\n",
      "epoch: 8000, train_loss: 10.373344421386719, test_loss: 7.663000106811523\n",
      "epoch: 8100, train_loss: 10.224249839782715, test_loss: 7.649544715881348\n",
      "epoch: 8200, train_loss: 10.079964637756348, test_loss: 7.640950679779053\n",
      "程序结束时的测试数据的最小loss:7.640710830688477,当前模型测试数据的loss:7.640713691711426\n"
     ]
    }
   ],
   "source": [
    "epochs = 20000\n",
    "test_min_loss = 1000000\n",
    "train_loss_epoch = []\n",
    "all_train_loss = [] #训练集的损失\n",
    "all_test_loss = [] #测试集的损失\n",
    "\n",
    "\n",
    "for epoch in range(epochs):\n",
    "    \n",
    "    for i,data in enumerate(dataloader):\n",
    "        #每次取一个batch的数据\n",
    "        \n",
    "        inputs = data[0].to(device)\n",
    "        labels = data[1].to(device)\n",
    "        \n",
    "        #前向传播\n",
    "        outputs = model(inputs)\n",
    "\n",
    "        #计算loss\n",
    "\n",
    "        loss = criterion(outputs, labels.view(-1,1))\n",
    "        train_loss_epoch.append(loss.item())\n",
    "    all_train_loss.append(np.mean(train_loss_epoch))\n",
    "\n",
    "    train_loss_epoch = []\n",
    "    #测试集合\n",
    "    pred = model.forward(x_test)\n",
    "    test_loss = criterion(pred, y_test.view(-1,1))\n",
    "    all_test_loss.append(test_loss.item())\n",
    "\n",
    "    if test_min_loss > test_loss.item():\n",
    "        test_min_loss = test_loss.item()\n",
    "    else:\n",
    "        print(f'程序结束时的测试数据的最小loss:{test_min_loss},当前模型测试数据的loss:{test_loss.item()}')\n",
    "        break\n",
    "    if epoch % 100 == 0:\n",
    "        \n",
    "#             print('epoch {}, train_loss {},test_loss {}'.format(epoch, loss.item(),loss_test.item()))\n",
    "        print(f'epoch: {epoch}, train_loss: {loss.item()}, test_loss: {test_loss.item()}')\n",
    "    #梯度清零\n",
    "    optimizer.zero_grad()\n",
    "\n",
    "    #反向传播\n",
    "    loss.backward()\n",
    "\n",
    "    #更新参数\n",
    "    optimizer.step()"
   ]
  },
  {
   "cell_type": "code",
   "execution_count": 76,
   "metadata": {},
   "outputs": [
    {
     "name": "stdout",
     "output_type": "stream",
     "text": [
      "tensor([[19.1190]], device='cuda:0', grad_fn=<AddmmBackward0>)\n",
      "19.9\n"
     ]
    }
   ],
   "source": [
    "input_ = torch.tensor(X_test[5],dtype=torch.float32).view(1,-1)\n",
    "print(model(input_.to(device)))\n",
    "print(Y_test[5])"
   ]
  },
  {
   "cell_type": "code",
   "execution_count": 77,
   "metadata": {},
   "outputs": [],
   "source": [
    "input_ = torch.tensor(X_test,dtype=torch.float32)\n",
    "predicts = model(input_.to(device))"
   ]
  },
  {
   "cell_type": "code",
   "execution_count": 78,
   "metadata": {},
   "outputs": [
    {
     "data": {
      "text/plain": [
       "0.913109480680748"
      ]
     },
     "execution_count": 78,
     "metadata": {},
     "output_type": "execute_result"
    }
   ],
   "source": [
    "from sklearn.metrics import r2_score\n",
    "r2_score(predicts.detach().cpu().numpy(),Y_test)"
   ]
  },
  {
   "cell_type": "code",
   "execution_count": 79,
   "metadata": {},
   "outputs": [
    {
     "data": {
      "text/plain": [
       "<matplotlib.legend.Legend at 0x19a489a1a88>"
      ]
     },
     "execution_count": 79,
     "metadata": {},
     "output_type": "execute_result"
    },
    {
     "data": {
      "image/png": "[encoded data removed]",
      "text/plain": [
       "<Figure size 432x288 with 1 Axes>"
      ]
     },
     "metadata": {
      "needs_background": "light"
     },
     "output_type": "display_data"
    }
   ],
   "source": [
    "import matplotlib.pyplot as plt\n",
    "\n",
    "plt.plot(np.arange(len(all_train_loss[2000:])), all_train_loss[2000:], color='red',label='train_loss')\n",
    "plt.plot(np.arange(len(all_test_loss[2000:])), all_test_loss[2000:], color='blue',label='test_loss')\n",
    "plt.legend()"
   ]
  },
  {
   "cell_type": "code",
   "execution_count": 80,
   "metadata": {},
   "outputs": [],
   "source": [
    "torch.save(model, 'model/model.pkl')"
   ]
  },
  {
   "cell_type": "code",
   "execution_count": 81,
   "metadata": {},
   "outputs": [
    {
     "name": "stdout",
     "output_type": "stream",
     "text": [
      "预测值：44.171424865722656,真实值：43.8\n"
     ]
    }
   ],
   "source": [
    "#加载模型\n",
    "net = torch.load(\"model/model.pkl\")\n",
    "\n",
    "x_data = torch.tensor(X_test[1], dtype=torch.float32)\n",
    "\n",
    "pred = net.forward(x_data.view(1,-1).to(device))\n",
    "\n",
    "print('预测值：{},真实值：{}'.format(pred.item(),Y_test[1]))"
   ]
  }
 ],
 "metadata": {
  "kernelspec": {
   "display_name": "Python 3 (ipykernel)",
   "language": "python",
   "name": "python3"
  },
  "language_info": {
   "codemirror_mode": {
    "name": "ipython",
    "version": 3
   },
   "file_extension": ".py",
   "mimetype": "text/x-python",
   "name": "python",
   "nbconvert_exporter": "python",
   "pygments_lexer": "ipython3",
   "version": "3.7.11"
  }
 },
 "nbformat": 4,
 "nbformat_minor": 4
}
