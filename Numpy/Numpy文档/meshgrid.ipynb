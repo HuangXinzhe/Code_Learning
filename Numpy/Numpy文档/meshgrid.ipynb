{
 "cells": [
  {
   "cell_type": "markdown",
   "metadata": {},
   "source": [
    "# numpy.meshgrid\n",
    "> numpy.meshgrid(*xi, copy=True, sparse=False, indexing='xy')\n",
    "\n",
    "Return coordinate matrices from coordinate vectors.\n",
    "\n",
    "Make N-D coordinate arrays for vectorized evaluations of N-D scalar/vector fields over N-D grids, given one-dimensional coordinate arrays x1, x2,…, xn."
   ]
  },
  {
   "cell_type": "markdown",
   "metadata": {},
   "source": [
    "## source"
   ]
  },
  {
   "cell_type": "code",
   "execution_count": null,
   "metadata": {},
   "outputs": [],
   "source": [
    "@array_function_dispatch(_meshgrid_dispatcher)\n",
    "def meshgrid(*xi, copy=True, sparse=False, indexing='xy'):\n",
    "    \"\"\"\n",
    "    Return coordinate matrices from coordinate vectors.\n",
    "\n",
    "    Make N-D coordinate arrays for vectorized evaluations of\n",
    "    N-D scalar/vector fields over N-D grids, given\n",
    "    one-dimensional coordinate arrays x1, x2,..., xn.\n",
    "\n",
    "    .. versionchanged:: 1.9\n",
    "       1-D and 0-D cases are allowed.\n",
    "\n",
    "    Parameters\n",
    "    ----------\n",
    "    x1, x2,..., xn : array_like\n",
    "        1-D arrays representing the coordinates of a grid.\n",
    "    indexing : {'xy', 'ij'}, optional\n",
    "        Cartesian ('xy', default) or matrix ('ij') indexing of output.\n",
    "        See Notes for more details.\n",
    "\n",
    "        .. versionadded:: 1.7.0\n",
    "    sparse : bool, optional\n",
    "        If True a sparse grid is returned in order to conserve memory.\n",
    "        Default is False.\n",
    "\n",
    "        .. versionadded:: 1.7.0\n",
    "    copy : bool, optional\n",
    "        If False, a view into the original arrays are returned in order to\n",
    "        conserve memory.  Default is True.  Please note that\n",
    "        ``sparse=False, copy=False`` will likely return non-contiguous\n",
    "        arrays.  Furthermore, more than one element of a broadcast array\n",
    "        may refer to a single memory location.  If you need to write to the\n",
    "        arrays, make copies first.\n",
    "\n",
    "        .. versionadded:: 1.7.0\n",
    "\n",
    "    Returns\n",
    "    -------\n",
    "    X1, X2,..., XN : ndarray\n",
    "        For vectors `x1`, `x2`,..., 'xn' with lengths ``Ni=len(xi)`` ,\n",
    "        return ``(N1, N2, N3,...Nn)`` shaped arrays if indexing='ij'\n",
    "        or ``(N2, N1, N3,...Nn)`` shaped arrays if indexing='xy'\n",
    "        with the elements of `xi` repeated to fill the matrix along\n",
    "        the first dimension for `x1`, the second for `x2` and so on.\n",
    "\n",
    "    Notes\n",
    "    -----\n",
    "    This function supports both indexing conventions through the indexing\n",
    "    keyword argument.  Giving the string 'ij' returns a meshgrid with\n",
    "    matrix indexing, while 'xy' returns a meshgrid with Cartesian indexing.\n",
    "    In the 2-D case with inputs of length M and N, the outputs are of shape\n",
    "    (N, M) for 'xy' indexing and (M, N) for 'ij' indexing.  In the 3-D case\n",
    "    with inputs of length M, N and P, outputs are of shape (N, M, P) for\n",
    "    'xy' indexing and (M, N, P) for 'ij' indexing.  The difference is\n",
    "    illustrated by the following code snippet::\n",
    "\n",
    "        xv, yv = np.meshgrid(x, y, sparse=False, indexing='ij')\n",
    "        for i in range(nx):\n",
    "            for j in range(ny):\n",
    "                # treat xv[i,j], yv[i,j]\n",
    "\n",
    "        xv, yv = np.meshgrid(x, y, sparse=False, indexing='xy')\n",
    "        for i in range(nx):\n",
    "            for j in range(ny):\n",
    "                # treat xv[j,i], yv[j,i]\n",
    "\n",
    "    In the 1-D and 0-D case, the indexing and sparse keywords have no effect.\n",
    "\n",
    "    See Also\n",
    "    --------\n",
    "    mgrid : Construct a multi-dimensional \"meshgrid\" using indexing notation.\n",
    "    ogrid : Construct an open multi-dimensional \"meshgrid\" using indexing\n",
    "            notation.\n",
    "\n",
    "    Examples\n",
    "    --------\n",
    "    >>> nx, ny = (3, 2)\n",
    "    >>> x = np.linspace(0, 1, nx)\n",
    "    >>> y = np.linspace(0, 1, ny)\n",
    "    >>> xv, yv = np.meshgrid(x, y)\n",
    "    >>> xv\n",
    "    array([[0. , 0.5, 1. ],\n",
    "           [0. , 0.5, 1. ]])\n",
    "    >>> yv\n",
    "    array([[0.,  0.,  0.],\n",
    "           [1.,  1.,  1.]])\n",
    "    >>> xv, yv = np.meshgrid(x, y, sparse=True)  # make sparse output arrays\n",
    "    >>> xv\n",
    "    array([[0. ,  0.5,  1. ]])\n",
    "    >>> yv\n",
    "    array([[0.],\n",
    "           [1.]])\n",
    "\n",
    "    `meshgrid` is very useful to evaluate functions on a grid.\n",
    "\n",
    "    >>> import matplotlib.pyplot as plt\n",
    "    >>> x = np.arange(-5, 5, 0.1)\n",
    "    >>> y = np.arange(-5, 5, 0.1)\n",
    "    >>> xx, yy = np.meshgrid(x, y, sparse=True)\n",
    "    >>> z = np.sin(xx**2 + yy**2) / (xx**2 + yy**2)\n",
    "    >>> h = plt.contourf(x, y, z)\n",
    "    >>> plt.axis('scaled')\n",
    "    >>> plt.show()\n",
    "\n",
    "    \"\"\"\n",
    "    ndim = len(xi)\n",
    "\n",
    "\n",
    "    if indexing not in ['xy', 'ij']:\n",
    "        raise ValueError(\n",
    "            \"Valid values for `indexing` are 'xy' and 'ij'.\")\n",
    "\n",
    "\n",
    "    s0 = (1,) * ndim\n",
    "    output = [np.asanyarray(x).reshape(s0[:i] + (-1,) + s0[i + 1:])\n",
    "              for i, x in enumerate(xi)]\n",
    "\n",
    "\n",
    "    if indexing == 'xy' and ndim > 1:\n",
    "        # switch first and second axis\n",
    "        output[0].shape = (1, -1) + s0[2:]\n",
    "        output[1].shape = (-1, 1) + s0[2:]\n",
    "\n",
    "\n",
    "    if not sparse:\n",
    "        # Return the full N-D matrix (not only the 1-D vector)\n",
    "        output = np.broadcast_arrays(*output, subok=True)\n",
    "\n",
    "\n",
    "    if copy:\n",
    "        output = [x.copy() for x in output]\n",
    "\n",
    "\n",
    "    return output"
   ]
  },
  {
   "cell_type": "markdown",
   "metadata": {},
   "source": [
    "# Parameters"
   ]
  },
  {
   "cell_type": "markdown",
   "metadata": {},
   "source": [
    "> x1, x2,…, xn：array_like  \n",
    "1-D arrays representing the coordinates of a grid.\n",
    "\n",
    "表示网格坐标的一维数组"
   ]
  },
  {
   "cell_type": "markdown",
   "metadata": {},
   "source": [
    "> indexing:{‘xy’, ‘ij’}, optional  \n",
    "Cartesian (‘xy’, default) or matrix (‘ij’) indexing of output. See Notes for more details.\n",
    "\n",
    "('xy'[笛卡尔],'ij'[矩阵])，可选。默认是'xy'"
   ]
  },
  {
   "cell_type": "markdown",
   "metadata": {},
   "source": [
    "> sparse:bool, optional  \n",
    "If True a sparse grid is returned in order to conserve memory. Default is False.\n",
    "\n",
    "稀疏(sparse)：bool，可选。  \n",
    "如果为True为了节省内存会返回一个稀疏矩阵，默认为False。"
   ]
  },
  {
   "cell_type": "markdown",
   "metadata": {},
   "source": [
    "> copy:bool, optional  \n",
    "If False, a view into the original arrays are returned in order to conserve memory. Default is True. Please note that sparse=False, copy=False will likely return non-contiguous arrays. Furthermore, more than one element of a broadcast array may refer to a single memory location. If you need to write to the arrays, make copies first.\n",
    "\n",
    "复制(copy)：bool，可选。  \n",
    "如果为False则为了节省内存返回源始的视图，默认为True。请注意，sparse=False, copy=False可能会返回非连续数组。此外，广播数组的多个元素可以引用单个内存位置。如果需要写入数组，请先进行复制。"
   ]
  },
  {
   "cell_type": "markdown",
   "metadata": {},
   "source": [
    "# Returns"
   ]
  },
  {
   "cell_type": "markdown",
   "metadata": {},
   "source": [
    "> X1, X2,…, XN:ndarray  \n",
    "For vectors x1, x2,…,‘xn’ with lengths Ni=len(xi), return (N1, N2, N3,...Nn) shaped arrays if indexing=’ij’ or (N2, N1, N3,...Nn) shaped arrays if indexing=’xy’ with the elements of xi repeated to fill the matrix along the first dimension for x1, the second for x2 and so on."
   ]
  },
  {
   "cell_type": "code",
   "execution_count": null,
   "metadata": {},
   "outputs": [],
   "source": [
    "xv, yv = np.meshgrid(x, y, sparse=False, indexing='ij')\n",
    "for i in range(nx):\n",
    "    for j in range(ny):\n",
    "        # treat xv[i,j], yv[i,j]\n",
    "\n",
    "xv, yv = np.meshgrid(x, y, sparse=False, indexing='xy')\n",
    "for i in range(nx):\n",
    "    for j in range(ny):\n",
    "        # treat xv[j,i], yv[j,i]"
   ]
  },
  {
   "cell_type": "code",
   "execution_count": 3,
   "metadata": {},
   "outputs": [
    {
     "data": {
      "text/plain": [
       "array([[0. , 0.5, 1. ],\n",
       "       [0. , 0.5, 1. ]])"
      ]
     },
     "execution_count": 3,
     "metadata": {},
     "output_type": "execute_result"
    }
   ],
   "source": [
    "import numpy as np\n",
    "\n",
    "nx, ny = (3, 2)\n",
    "x = np.linspace(0, 1, nx)\n",
    "y = np.linspace(0, 1, ny)\n",
    "xv, yv = np.meshgrid(x, y)\n",
    "xv"
   ]
  },
  {
   "cell_type": "code",
   "execution_count": 4,
   "metadata": {},
   "outputs": [
    {
     "data": {
      "text/plain": [
       "array([[0., 0., 0.],\n",
       "       [1., 1., 1.]])"
      ]
     },
     "execution_count": 4,
     "metadata": {},
     "output_type": "execute_result"
    }
   ],
   "source": [
    "yv"
   ]
  },
  {
   "cell_type": "code",
   "execution_count": 5,
   "metadata": {},
   "outputs": [],
   "source": [
    "xv, yv = np.meshgrid(x, y, sparse=True)  # make sparse output arrays"
   ]
  },
  {
   "cell_type": "code",
   "execution_count": 6,
   "metadata": {},
   "outputs": [
    {
     "data": {
      "text/plain": [
       "array([[0. , 0.5, 1. ]])"
      ]
     },
     "execution_count": 6,
     "metadata": {},
     "output_type": "execute_result"
    }
   ],
   "source": [
    "xv"
   ]
  },
  {
   "cell_type": "code",
   "execution_count": 7,
   "metadata": {},
   "outputs": [
    {
     "data": {
      "text/plain": [
       "array([[0.],\n",
       "       [1.]])"
      ]
     },
     "execution_count": 7,
     "metadata": {},
     "output_type": "execute_result"
    }
   ],
   "source": [
    "yv"
   ]
  },
  {
   "cell_type": "code",
   "execution_count": 9,
   "metadata": {},
   "outputs": [
    {
     "data": {
      "image/png": "[encoded data removed]",
      "text/plain": [
       "<Figure size 432x288 with 1 Axes>"
      ]
     },
     "metadata": {
      "needs_background": "light"
     },
     "output_type": "display_data"
    }
   ],
   "source": [
    "import matplotlib.pyplot as plt\n",
    "%matplotlib inline\n",
    "x = np.arange(-5, 5, 0.1)\n",
    "y = np.arange(-5, 5, 0.1)\n",
    "xx, yy = np.meshgrid(x, y, sparse=True)\n",
    "z = np.sin(xx**2 + yy**2) / (xx**2 + yy**2)\n",
    "h = plt.contourf(x, y, z)\n",
    "plt.axis('scaled')\n",
    "plt.show()"
   ]
  }
 ],
 "metadata": {
  "kernelspec": {
   "display_name": "Python 3",
   "language": "python",
   "name": "python3"
  },
  "language_info": {
   "codemirror_mode": {
    "name": "ipython",
    "version": 3
   },
   "file_extension": ".py",
   "mimetype": "text/x-python",
   "name": "python",
   "nbconvert_exporter": "python",
   "pygments_lexer": "ipython3",
   "version": "3.7.9"
  }
 },
 "nbformat": 4,
 "nbformat_minor": 4
}
