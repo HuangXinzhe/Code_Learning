{
 "cells": [
  {
   "cell_type": "markdown",
   "metadata": {},
   "source": [
    "# numpy.random.multivariate_normal\n",
    "> random.multivariate_normal(mean, cov, size=None, check_valid='warn', tol=1e-8)\n",
    "\n",
    "Draw random samples from a multivariate normal distribution.  \n",
    "从多元正态分布中抽取随机样本。"
   ]
  },
  {
   "cell_type": "markdown",
   "metadata": {},
   "source": [
    "## Parameters"
   ]
  },
  {
   "cell_type": "markdown",
   "metadata": {},
   "source": [
    "> mean:1-D array_like, of length N   \n",
    "Mean of the N-dimensional distribution.  \n",
    "\n",
    "均值:长度为N的一维数组   \n",
    "n维分布的均值。"
   ]
  },
  {
   "cell_type": "markdown",
   "metadata": {},
   "source": [
    "> cov:2-D array_like, of shape (N, N)  \n",
    "Covariance matrix of the distribution. It must be symmetric and positive-semidefinite for proper sampling.  \n",
    "\n",
    "协方差:二维数组，形状(N, N)  \n",
    "分布的协方差矩阵。对于适当的抽样，它必须是对称的和正半定的。"
   ]
  },
  {
   "cell_type": "markdown",
   "metadata": {},
   "source": [
    "> size:int or tuple of ints, optional  \n",
    "Given a shape of, for example, (m,n,k), m*n*k samples are generated, and packed in an m-by-n-by-k arrangement. Because each sample is N-dimensional, the output shape is (m,n,k,N). If no shape is specified, a single (N-D) sample is returned.\n",
    "\n",
    "大小:可选的整型或整型元组  \n",
    "例如，给定一个形状(m,n,k)，就会生成m*n*k个样本，并以m-by-n-by-k的排列方式打包。因为每个样本都是n维的，所以输出形状是(m,n,k,n)。如果没有指定形状，则返回单个(N-D)样品。"
   ]
  },
  {
   "cell_type": "markdown",
   "metadata": {},
   "source": [
    "> check_valid:{‘warn’, ‘raise’, ‘ignore’}, optional  \n",
    "Behavior when the covariance matrix is not positive semidefinite.\n",
    "\n",
    "有效检验{‘warn’, ‘raise’, ‘ignore’} ，可选择   \n",
    "协方差矩阵不是正半定时的行为。igore:忽略协方差矩阵不是半正定矩阵的问题，生成数组。warn:输出警告，但是还是会生成数组。raise:程序报错，且不会生成数组，。"
   ]
  },
  {
   "cell_type": "markdown",
   "metadata": {},
   "source": [
    "> tol:float, optional  \n",
    "Tolerance when checking the singular values in covariance matrix. cov is cast to double before the check.\n",
    "\n",
    "tol：float，可选  \n",
    "检验协方差矩阵奇异值时的公差。协方差在检查之前被转换为double类型。"
   ]
  },
  {
   "cell_type": "markdown",
   "metadata": {},
   "source": [
    "## Returns"
   ]
  },
  {
   "cell_type": "markdown",
   "metadata": {},
   "source": [
    "> out:ndarray  \n",
    "The drawn samples, of shape size, if that was provided. If not, the shape is (N,).In other words, each entry out[i,j,...,:]is an N-dimensional value drawn from the distribution.\n",
    "\n",
    "输出：ndarray  \n",
    "绘制的数据样本，形状大小，如果提供。如果不是，则形状为(N，)。换句话说，每一项输出[i,j，…，:]为从分布中得到的n维值。"
   ]
  },
  {
   "cell_type": "code",
   "execution_count": 3,
   "metadata": {},
   "outputs": [
    {
     "data": {
      "image/png": "[encoded data removed]",
      "text/plain": [
       "<Figure size 432x288 with 1 Axes>"
      ]
     },
     "metadata": {
      "needs_background": "light"
     },
     "output_type": "display_data"
    }
   ],
   "source": [
    "import numpy as np\n",
    "import matplotlib.pyplot as plt\n",
    "%matplotlib inline\n",
    "\n",
    "mean = [0, 0]\n",
    "cov = [[1, 0], [0, 100]]\n",
    "\n",
    "\n",
    "x, y = np.random.multivariate_normal(mean, cov, 5000).T\n",
    "plt.plot(x, y, 'x')\n",
    "\n",
    "# x,y轴刻度等长\n",
    "plt.axis('equal')\n",
    "plt.show()"
   ]
  },
  {
   "cell_type": "code",
   "execution_count": 5,
   "metadata": {},
   "outputs": [
    {
     "name": "stdout",
     "output_type": "stream",
     "text": [
      "[[[ 0.86167093  1.3347121 ]\n",
      "  [ 0.56399809  2.04883152]\n",
      "  [ 0.46836811  2.88370418]]\n",
      "\n",
      " [[ 3.52789336  2.12558521]\n",
      "  [ 2.09516445  0.74689223]\n",
      "  [ 1.49432686  4.19138821]]\n",
      "\n",
      " [[-1.00211257  1.38123633]\n",
      "  [ 1.29332362  2.67592465]\n",
      "  [ 0.11119496  5.14170779]]]\n"
     ]
    },
    {
     "data": {
      "text/plain": [
       "(3, 3, 2)"
      ]
     },
     "execution_count": 5,
     "metadata": {},
     "output_type": "execute_result"
    }
   ],
   "source": [
    "mean = (1, 2)\n",
    "cov = [[1, 0], [0, 1]]\n",
    "x = np.random.multivariate_normal(mean, cov, (3, 3))\n",
    "print(x)\n",
    "x.shape"
   ]
  }
 ],
 "metadata": {
  "kernelspec": {
   "display_name": "Python 3",
   "language": "python",
   "name": "python3"
  },
  "language_info": {
   "codemirror_mode": {
    "name": "ipython",
    "version": 3
   },
   "file_extension": ".py",
   "mimetype": "text/x-python",
   "name": "python",
   "nbconvert_exporter": "python",
   "pygments_lexer": "ipython3",
   "version": "3.7.9"
  }
 },
 "nbformat": 4,
 "nbformat_minor": 4
}
