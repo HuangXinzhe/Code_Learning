{
 "cells": [
  {
   "cell_type": "markdown",
   "metadata": {},
   "source": [
    "#### What is Vectorization?\n",
    "Converting iterative statements into a vector based operation is called vectorization.\n",
    "\n",
    "It is faster as modern CPUs are optimized for such operations.\n",
    "\n"
   ]
  },
  {
   "cell_type": "code",
   "execution_count": 27,
   "metadata": {},
   "outputs": [
    {
     "name": "stdout",
     "output_type": "stream",
     "text": [
      "[5, 7, 9, 11]\n"
     ]
    }
   ],
   "source": [
    "x = [1, 2, 3, 4]\n",
    "y = [4, 5, 6, 7]\n",
    "z = [] # z=[5,7,9,11]\n",
    "\n",
    "for i, j in zip(x, y):\n",
    "    z.append(i + j)\n",
    "print(z)"
   ]
  },
  {
   "cell_type": "code",
   "execution_count": 28,
   "metadata": {},
   "outputs": [
    {
     "name": "stdout",
     "output_type": "stream",
     "text": [
      "[ 5  7  9 11]\n"
     ]
    }
   ],
   "source": [
    "import numpy as np\n",
    "\n",
    "x = [1, 2, 3, 4]\n",
    "y = [4, 5, 6, 7]\n",
    "z = np.add(x, y)\n",
    "\n",
    "print(z)"
   ]
  },
  {
   "cell_type": "code",
   "execution_count": 3,
   "metadata": {},
   "outputs": [
    {
     "name": "stdout",
     "output_type": "stream",
     "text": [
      "[ 5  7  9 11]\n"
     ]
    }
   ],
   "source": [
    "import numpy as np\n",
    "\n",
    "x = [1, 2, 3, 4]\n",
    "y = [4, 5, 6, 7]\n",
    "z = np.add(x, y)\n",
    "\n",
    "print(z)"
   ]
  },
  {
   "cell_type": "code",
   "execution_count": 29,
   "metadata": {},
   "outputs": [
    {
     "name": "stdout",
     "output_type": "stream",
     "text": [
      "[30 32 34 36 38 40]\n"
     ]
    }
   ],
   "source": [
    "import numpy as np\n",
    "\n",
    "arr1 = np.array([10, 11, 12, 13, 14, 15])\n",
    "arr2 = np.array([20, 21, 22, 23, 24, 25])\n",
    "\n",
    "newarr = np.add(arr1, arr2)\n",
    "\n",
    "print(newarr)"
   ]
  },
  {
   "cell_type": "code",
   "execution_count": 30,
   "metadata": {},
   "outputs": [
    {
     "name": "stdout",
     "output_type": "stream",
     "text": [
      "[-10  -1   8  17  26  35]\n"
     ]
    }
   ],
   "source": [
    "import numpy as np\n",
    "\n",
    "arr1 = np.array([10, 20, 30, 40, 50, 60])\n",
    "arr2 = np.array([20, 21, 22, 23, 24, 25])\n",
    "\n",
    "newarr = np.subtract(arr1, arr2)\n",
    "\n",
    "print(newarr)"
   ]
  },
  {
   "cell_type": "code",
   "execution_count": 6,
   "metadata": {},
   "outputs": [
    {
     "name": "stdout",
     "output_type": "stream",
     "text": [
      "[ 200  420  660  920 1200 1500]\n"
     ]
    }
   ],
   "source": [
    "# The multiply() function multiplies the values from one array with the values from another array, and return the results in a new array.\n",
    "import numpy as np\n",
    "\n",
    "arr1 = np.array([10, 20, 30, 40, 50, 60])\n",
    "arr2 = np.array([20, 21, 22, 23, 24, 25])\n",
    "\n",
    "newarr = np.multiply(arr1, arr2)\n",
    "\n",
    "print(newarr)"
   ]
  },
  {
   "cell_type": "code",
   "execution_count": 7,
   "metadata": {},
   "outputs": [
    {
     "name": "stdout",
     "output_type": "stream",
     "text": [
      "[ 3.33333333  4.          3.          5.         25.          1.81818182]\n"
     ]
    }
   ],
   "source": [
    "import numpy as np\n",
    "\n",
    "arr1 = np.array([10, 20, 30, 40, 50, 60])\n",
    "arr2 = np.array([3, 5, 10, 8, 2, 33])\n",
    "\n",
    "newarr = np.divide(arr1, arr2)\n",
    "\n",
    "print(newarr)"
   ]
  },
  {
   "cell_type": "code",
   "execution_count": 31,
   "metadata": {},
   "outputs": [
    {
     "name": "stdout",
     "output_type": "stream",
     "text": [
      "[         1000       3200000     729000000 6553600000000          2500\n",
      "             0]\n"
     ]
    }
   ],
   "source": [
    "import numpy as np\n",
    "\n",
    "arr1 = np.array([10, 20, 30, 40, 50, 60])\n",
    "arr2 = np.array([3, 5, 6, 8, 2, 33])\n",
    "\n",
    "newarr = np.power(arr1, arr2)\n",
    "\n",
    "print(newarr)"
   ]
  },
  {
   "cell_type": "code",
   "execution_count": 32,
   "metadata": {},
   "outputs": [
    {
     "name": "stdout",
     "output_type": "stream",
     "text": [
      "[1 2 1 2 3 4]\n"
     ]
    }
   ],
   "source": [
    "import numpy as np\n",
    "\n",
    "arr = np.array([-1, -2, 1, 2, 3, -4])\n",
    "\n",
    "newarr = np.absolute(arr)\n",
    "\n",
    "print(newarr)"
   ]
  },
  {
   "cell_type": "code",
   "execution_count": 10,
   "metadata": {},
   "outputs": [
    {
     "name": "stdout",
     "output_type": "stream",
     "text": [
      "[-4.  3.]\n"
     ]
    }
   ],
   "source": [
    "#### rounding\n",
    "import numpy as np\n",
    "\n",
    "arr = np.floor([-3.1666, 3.6667])\n",
    "\n",
    "print(arr)"
   ]
  },
  {
   "cell_type": "code",
   "execution_count": 11,
   "metadata": {},
   "outputs": [
    {
     "name": "stdout",
     "output_type": "stream",
     "text": [
      "[-3.  4.]\n"
     ]
    }
   ],
   "source": [
    "import numpy as np\n",
    "\n",
    "arr = np.ceil([-3.1666, 3.6667])\n",
    "\n",
    "print(arr)"
   ]
  },
  {
   "cell_type": "markdown",
   "metadata": {},
   "source": [
    "### log的应用"
   ]
  },
  {
   "cell_type": "code",
   "execution_count": 33,
   "metadata": {},
   "outputs": [
    {
     "name": "stdout",
     "output_type": "stream",
     "text": [
      "[1 2 3 4 5 6 7 8 9]\n",
      "[0.         1.         1.5849625  2.         2.32192809 2.5849625\n",
      " 2.80735492 3.         3.169925  ]\n"
     ]
    }
   ],
   "source": [
    "import numpy as np\n",
    "\n",
    "arr = np.arange(1, 10)\n",
    "print(arr)\n",
    "\n",
    "print(np.log2(arr))"
   ]
  },
  {
   "cell_type": "code",
   "execution_count": 1,
   "metadata": {},
   "outputs": [
    {
     "name": "stdout",
     "output_type": "stream",
     "text": [
      "[0.         0.30103    0.47712125 0.60205999 0.69897    0.77815125\n",
      " 0.84509804 0.90308999 0.95424251]\n"
     ]
    }
   ],
   "source": [
    "import numpy as np\n",
    "\n",
    "arr = np.arange(1, 10)\n",
    "\n",
    "print(np.log10(arr))\n",
    "\n",
    "# print (np.log7(arr))  # ”log的换底公式“"
   ]
  },
  {
   "cell_type": "code",
   "execution_count": 14,
   "metadata": {},
   "outputs": [
    {
     "name": "stdout",
     "output_type": "stream",
     "text": [
      "[0.         0.69314718 1.09861229 1.38629436 1.60943791 1.79175947\n",
      " 1.94591015 2.07944154 2.19722458]\n"
     ]
    }
   ],
   "source": [
    "import numpy as np\n",
    "\n",
    "arr = np.arange(1, 10)\n",
    "\n",
    "print(np.log(arr)) # default: e. 2.7xxxx"
   ]
  },
  {
   "cell_type": "markdown",
   "metadata": {},
   "source": [
    "### sum\n",
    "Addition is done between two arguments whereas summation happens over n elements.\n"
   ]
  },
  {
   "cell_type": "code",
   "execution_count": 38,
   "metadata": {},
   "outputs": [
    {
     "name": "stdout",
     "output_type": "stream",
     "text": [
      "30\n"
     ]
    }
   ],
   "source": [
    "import numpy as np\n",
    "\n",
    "arr1 = np.array([1, 2, 3])\n",
    "arr2 = np.array([1, 2, 3])\n",
    "\n",
    "newarr = np.sum([arr1, arr2, arr1, arr1, arr2])\n",
    "\n",
    "print(newarr)"
   ]
  },
  {
   "cell_type": "code",
   "execution_count": 39,
   "metadata": {},
   "outputs": [
    {
     "name": "stdout",
     "output_type": "stream",
     "text": [
      "[2 4 6]\n"
     ]
    }
   ],
   "source": [
    "import numpy as np\n",
    "\n",
    "arr1 = np.array([1, 2, 3])\n",
    "arr2 = np.array([1, 2, 3])\n",
    "\n",
    "newarr = np.add(arr1, arr2)\n",
    "\n",
    "print(newarr)"
   ]
  },
  {
   "cell_type": "code",
   "execution_count": 42,
   "metadata": {},
   "outputs": [
    {
     "name": "stdout",
     "output_type": "stream",
     "text": [
      "[6 6]\n"
     ]
    }
   ],
   "source": [
    "import numpy as np\n",
    "\n",
    "arr1 = np.array([1, 2, 3])\n",
    "arr2 = np.array([1, 2, 3])\n",
    "\n",
    "newarr = np.sum([arr1, arr2], axis=1)\n",
    "\n",
    "print(newarr)"
   ]
  },
  {
   "cell_type": "code",
   "execution_count": 43,
   "metadata": {},
   "outputs": [
    {
     "name": "stdout",
     "output_type": "stream",
     "text": [
      "[ 1  3  6 10 15]\n"
     ]
    }
   ],
   "source": [
    "import numpy as np\n",
    "\n",
    "arr = np.array([1, 2, 3,4,5])\n",
    "\n",
    "newarr = np.cumsum(arr)  # cumulative  sum\n",
    "\n",
    "print(newarr)"
   ]
  },
  {
   "cell_type": "code",
   "execution_count": 45,
   "metadata": {},
   "outputs": [
    {
     "name": "stdout",
     "output_type": "stream",
     "text": [
      "(3, 3) (3,)\n",
      "A = [[1 2 3]\n",
      " [4 5 6]\n",
      " [7 8 9]]\n",
      "b = [10 20 30]\n",
      "Ab = [140 320 500]\n"
     ]
    }
   ],
   "source": [
    "#### matrix multiplication\n",
    "import numpy as np\n",
    "\n",
    "a = np.array([[1, 2, 3],\n",
    "             [4, 5, 6],\n",
    "             [7, 8, 9]])\n",
    "\n",
    "b= np.array([10, 20, 30])\n",
    "print (a.shape, b.shape)\n",
    "\n",
    "print(\"A =\", a)\n",
    "\n",
    "print(\"b =\", b)\n",
    "\n",
    "print(\"Ab =\",np.matmul(a,b)) # matrix multiplication"
   ]
  },
  {
   "cell_type": "code",
   "execution_count": 62,
   "metadata": {},
   "outputs": [
    {
     "name": "stdout",
     "output_type": "stream",
     "text": [
      "Matrix A:\n",
      " [[ 8 13]\n",
      " [ 8  6]\n",
      " [11  2]]\n",
      "shape of A = (3, 2)\n",
      "\n",
      "Matrix B:\n",
      " [[11  8  7  2]\n",
      " [ 1 11  5 10]]\n",
      "shape of B = (2, 4)\n"
     ]
    }
   ],
   "source": [
    "import numpy as np\n",
    "\n",
    "np.random.seed(2)\n",
    "\n",
    "A = np.random.randint(0, 15, size=(3,2))\n",
    "B = np.random.randint(0, 15, size =(2,4))\n",
    "\n",
    "print(\"Matrix A:\\n\", A)\n",
    "print(\"shape of A =\", A.shape)\n",
    "print()\n",
    "print(\"Matrix B:\\n\", B)\n",
    "print(\"shape of B =\", B.shape)"
   ]
  },
  {
   "cell_type": "code",
   "execution_count": 63,
   "metadata": {},
   "outputs": [
    {
     "name": "stdout",
     "output_type": "stream",
     "text": [
      "product of A and B:\n",
      " [[101 207 121 146]\n",
      " [ 94 130  86  76]\n",
      " [123 110  87  42]]\n",
      "shape of product = (3, 4)\n"
     ]
    }
   ],
   "source": [
    "C = np.matmul(A, B)\n",
    "\n",
    "print(\"product of A and B:\\n\", C)\n",
    "\n",
    "print(\"shape of product =\", C.shape)"
   ]
  },
  {
   "cell_type": "code",
   "execution_count": 65,
   "metadata": {},
   "outputs": [
    {
     "name": "stdout",
     "output_type": "stream",
     "text": [
      "Matrix A:\n",
      "[[6 3]\n",
      " [7 4]], shape=(2, 2)\n",
      "\n",
      "Matrix B:\n",
      "[[6 9 2]\n",
      " [6 7 4]], shape=(2, 3)\n",
      "\n",
      "Matrix C:\n",
      "[[3 7 7]\n",
      " [2 5 4]\n",
      " [1 7 5]], shape=(3, 3)\n",
      "\n"
     ]
    }
   ],
   "source": [
    "import numpy as np\n",
    "\n",
    "np.random.seed(42)\n",
    "\n",
    "A = np.random.randint(0, 10, size=(2,2))\n",
    "\n",
    "B = np.random.randint(0, 10, size=(2,3))\n",
    "\n",
    "C = np.random.randint(0, 10, size=(3,3))\n",
    "\n",
    "print(\"Matrix A:\\n{}, shape={}\\n\".format(A, A.shape))\n",
    "\n",
    "print(\"Matrix B:\\n{}, shape={}\\n\".format(B, B.shape))\n",
    "\n",
    "print(\"Matrix C:\\n{}, shape={}\\n\".format(C, C.shape))"
   ]
  },
  {
   "cell_type": "code",
   "execution_count": 66,
   "metadata": {},
   "outputs": [
    {
     "name": "stdout",
     "output_type": "stream",
     "text": [
      "Result of multiplication in the order (AB)C:\n",
      "\n",
      "[[ 336  921  798]\n",
      " [ 410 1127  976]],shape=(2, 3)\n",
      "\n",
      "Result of multiplication in the order A(BC):\n",
      "\n",
      "[[ 336  921  798]\n",
      " [ 410 1127  976]],shape=(2, 3)\n"
     ]
    }
   ],
   "source": [
    "# 矩阵乘法里，相乘的顺序不影响最终的结果，但是营销计算效率\n",
    "# 算法导论：动态规划里面的一个算法案例：matrix multiplication\n",
    "# (A*B)*C\n",
    "\n",
    "D = np.matmul(np.matmul(A,B), C)\n",
    "\n",
    "print(\"Result of multiplication in the order (AB)C:\\n\\n{},shape={}\\n\".format(D, D.shape))\n",
    "\n",
    "# A*(B*C)\n",
    "D = np.matmul(A, np.matmul(B,C))\n",
    "\n",
    "print(\"Result of multiplication in the order A(BC):\\n\\n{},shape={}\".format(D, D.shape))"
   ]
  },
  {
   "cell_type": "markdown",
   "metadata": {},
   "source": [
    "#### Element-wise matrix multiplication\n"
   ]
  },
  {
   "cell_type": "code",
   "execution_count": 68,
   "metadata": {},
   "outputs": [
    {
     "name": "stdout",
     "output_type": "stream",
     "text": [
      "Matrix A:\n",
      "[[6 3 7]\n",
      " [4 6 9]\n",
      " [2 6 7]]\n",
      "\n",
      "Matrix B:\n",
      "[[4 3 7]\n",
      " [7 2 5]\n",
      " [4 1 7]]\n",
      "\n",
      "Element-wise multiplication of A and B:\n",
      "[[24  9 49]\n",
      " [28 12 45]\n",
      " [ 8  6 49]]\n"
     ]
    }
   ],
   "source": [
    "import numpy as np\n",
    "\n",
    "np.random.seed(42)\n",
    "\n",
    "A = np.random.randint(0, 10, size=(3,3))\n",
    "\n",
    "B = np.random.randint(0, 10, size=(3,3))\n",
    "\n",
    "print(\"Matrix A:\\n{}\\n\".format(A))\n",
    "\n",
    "print(\"Matrix B:\\n{}\\n\".format(B))\n",
    "\n",
    "C = np.multiply(A,B) # or A * B   different from matmul()\n",
    "\n",
    "print(\"Element-wise multiplication of A and B:\\n{}\".format(C))"
   ]
  },
  {
   "cell_type": "code",
   "execution_count": 69,
   "metadata": {},
   "outputs": [
    {
     "name": "stdout",
     "output_type": "stream",
     "text": [
      "Matrix A:\n",
      "[[6 3 7 4]\n",
      " [6 9 2 6]\n",
      " [7 4 3 7]], shape=(3, 4)\n",
      "\n",
      "Matrix B:\n",
      "[[1 2 3 4]], shape=(1, 4)\n",
      "\n",
      "Element-wise multiplication of A and B:\n",
      "[[ 6  6 21 16]\n",
      " [ 6 18  6 24]\n",
      " [ 7  8  9 28]]\n"
     ]
    }
   ],
   "source": [
    "import numpy as np\n",
    "\n",
    "np.random.seed(42)\n",
    "\n",
    "A = np.random.randint(0, 10, size=(3,4))\n",
    "\n",
    "B = np.array([[1,2,3,4]])\n",
    "\n",
    "print(\"Matrix A:\\n{}, shape={}\\n\".format(A, A.shape))\n",
    "\n",
    "print(\"Matrix B:\\n{}, shape={}\\n\".format(B, B.shape))\n",
    "\n",
    "C = A * B\n",
    "\n",
    "print(\"Element-wise multiplication of A and B:\\n{}\".format(C))"
   ]
  },
  {
   "cell_type": "code",
   "execution_count": 72,
   "metadata": {},
   "outputs": [
    {
     "name": "stdout",
     "output_type": "stream",
     "text": [
      "Time taken on CPU (in ms) = 199.1558074951172\n"
     ]
    }
   ],
   "source": [
    "import numpy as np\n",
    "\n",
    "import time\n",
    "\n",
    "# generating 1000 x 1000 matrices\n",
    "np.random.seed(42)\n",
    "\n",
    "x = np.random.randint(0,256, size=(1000,10000)).astype(\"float64\")\n",
    "\n",
    "y = np.random.randint(0,256, size=(10000,1000)).astype(\"float64\")\n",
    "\n",
    "\n",
    "#computing multiplication time on CPU\n",
    "tic = time.time()  # start time\n",
    "\n",
    "z = np.matmul(x,y)\n",
    "\n",
    "toc = time.time()   # finish time\n",
    "\n",
    "time_taken = toc - tic #time in s  finsih time - start time\n",
    "\n",
    "print(\"Time taken on CPU (in ms) = {}\".format(time_taken*1000))"
   ]
  }
 ],
 "metadata": {
  "kernelspec": {
   "display_name": "Python 3",
   "language": "python",
   "name": "python3"
  },
  "language_info": {
   "codemirror_mode": {
    "name": "ipython",
    "version": 3
   },
   "file_extension": ".py",
   "mimetype": "text/x-python",
   "name": "python",
   "nbconvert_exporter": "python",
   "pygments_lexer": "ipython3",
   "version": "3.7.9"
  }
 },
 "nbformat": 4,
 "nbformat_minor": 2
}
