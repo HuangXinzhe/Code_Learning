{
 "cells": [
  {
   "cell_type": "markdown",
   "id": "fa83ba32",
   "metadata": {},
   "source": [
    "# 线性回归的简洁实现\n",
    "通过使用深度学习框架来简洁地实现线性回归模型生成数据集"
   ]
  },
  {
   "cell_type": "markdown",
   "id": "0fe980d2",
   "metadata": {},
   "source": [
    "## 3.3.1. 生成数据集"
   ]
  },
  {
   "cell_type": "code",
   "execution_count": 1,
   "id": "b053d9b5",
   "metadata": {},
   "outputs": [],
   "source": [
    "import numpy as np\n",
    "import torch\n",
    "from torch.utils import data   # 其中包含有一些数据处理的模块\n",
    "from d2l import torch as d2l\n",
    "\n",
    "\n",
    "true_w = torch.tensor([2, -3.4])\n",
    "true_b = 4.2\n",
    "features, labels = d2l.synthetic_data(true_w, true_b, 1000)"
   ]
  },
  {
   "cell_type": "markdown",
   "id": "52e9e8a1",
   "metadata": {},
   "source": [
    "## 3.3.2. 读取数据集\n",
    "调用框架中现有的API来读取数据"
   ]
  },
  {
   "cell_type": "code",
   "execution_count": 2,
   "id": "38ae5eae",
   "metadata": {},
   "outputs": [],
   "source": [
    "# 将features和labels作为API的参数传递，并在实例化数据迭代器对象时指定batch_size\n",
    "def load_array(data_arrays, batch_size, is_train=True):  #@save\n",
    "    \"\"\"构造一个PyTorch数据迭代器。\"\"\"\n",
    "    # TensorDataset对给定的tensor数据(样本和标签)，将它们包装成dataset\n",
    "    dataset = data.TensorDataset(*data_arrays)  \n",
    "    # DataLoader数据加载器，组合数据集和采样器，并在数据集上提供单进程或多进程迭代器。它可以对我们上面所说的数据集Dataset作进一步的设置\n",
    "    return data.DataLoader(dataset, batch_size, shuffle=is_train)   \n",
    "\n",
    "batch_size = 10\n",
    "data_iter = load_array((features, labels), batch_size)"
   ]
  },
  {
   "cell_type": "code",
   "execution_count": 3,
   "id": "2879d859",
   "metadata": {},
   "outputs": [
    {
     "data": {
      "text/plain": [
       "[tensor([[-4.6024e-01,  3.2508e-01],\n",
       "         [ 2.1815e-03, -5.5393e-01],\n",
       "         [-3.5364e-01, -2.1935e+00],\n",
       "         [ 1.7869e+00, -6.4668e-01],\n",
       "         [ 1.6216e+00,  5.6416e-02],\n",
       "         [ 4.8055e-01,  1.3658e+00],\n",
       "         [-5.5038e-02,  8.0333e-01],\n",
       "         [-1.8361e-01, -3.5865e-01],\n",
       "         [ 1.8611e-01,  5.6090e-01],\n",
       "         [ 1.3797e+00,  8.5556e-01]]),\n",
       " tensor([[ 2.1662],\n",
       "         [ 6.0961],\n",
       "         [10.9311],\n",
       "         [ 9.9692],\n",
       "         [ 7.2594],\n",
       "         [ 0.5321],\n",
       "         [ 1.3449],\n",
       "         [ 5.0531],\n",
       "         [ 2.6628],\n",
       "         [ 4.0254]])]"
      ]
     },
     "execution_count": 3,
     "metadata": {},
     "output_type": "execute_result"
    }
   ],
   "source": [
    "next(iter(data_iter))"
   ]
  },
  {
   "cell_type": "markdown",
   "id": "81e91438",
   "metadata": {},
   "source": [
    "## 3.3.3. 定义模型\n",
    "使用框架的预定义好的层"
   ]
  },
  {
   "cell_type": "code",
   "execution_count": 4,
   "id": "6178807e",
   "metadata": {},
   "outputs": [],
   "source": [
    "# `nn` 是神经网络的缩写\n",
    "from torch import nn\n",
    "\n",
    "# 首先定义一个模型变量net，它是一个Sequential类的实例\n",
    "# Sequential类为串联在一起的多个层定义了一个容器\n",
    "# nn.Sequential是一个容器，模块将按照它们在构造函数中传递的顺序添加到它\n",
    "# 将两个参数传递到nn.Linear中。第一个指定输入特征形状，第二个指定输出特征形状\n",
    "net = nn.Sequential(nn.Linear(2, 1))"
   ]
  },
  {
   "cell_type": "markdown",
   "id": "855c7a21",
   "metadata": {},
   "source": [
    "## 3.3.4. 初始化模型参数"
   ]
  },
  {
   "cell_type": "code",
   "execution_count": 5,
   "id": "f72cbc6a",
   "metadata": {},
   "outputs": [
    {
     "data": {
      "text/plain": [
       "tensor([0.])"
      ]
     },
     "execution_count": 5,
     "metadata": {},
     "output_type": "execute_result"
    }
   ],
   "source": [
    "net[0].weight.data.normal_(0, 0.01)\n",
    "net[0].bias.data.fill_(0)"
   ]
  },
  {
   "cell_type": "markdown",
   "id": "d78a595d",
   "metadata": {},
   "source": [
    "## 3.3.5. 定义损失函数\n",
    "MSELoss类，也称为平方L2范数。默认情况下，它返回所有样本损失的平均值。"
   ]
  },
  {
   "cell_type": "code",
   "execution_count": 6,
   "id": "f2790eab",
   "metadata": {},
   "outputs": [],
   "source": [
    "loss = nn.MSELoss()"
   ]
  },
  {
   "cell_type": "markdown",
   "id": "0d729588",
   "metadata": {},
   "source": [
    "## 3.3.6. 定义优化算法"
   ]
  },
  {
   "cell_type": "code",
   "execution_count": 7,
   "id": "099ca8d5",
   "metadata": {},
   "outputs": [],
   "source": [
    "# 实例化SGD实例时要指定优化的参数（可通过net.parameters()从模型中获得）以及优化算法所需的超参数字典。\n",
    "trainer = torch.optim.SGD(net.parameters(), lr=0.03)"
   ]
  },
  {
   "cell_type": "markdown",
   "id": "71b9c916",
   "metadata": {},
   "source": [
    "## 3.3.7. 训练"
   ]
  },
  {
   "cell_type": "code",
   "execution_count": 8,
   "id": "ab34004e",
   "metadata": {},
   "outputs": [
    {
     "name": "stdout",
     "output_type": "stream",
     "text": [
      "epoch 1, loss 0.000227\n",
      "epoch 2, loss 0.000094\n",
      "epoch 3, loss 0.000094\n"
     ]
    }
   ],
   "source": [
    "num_epochs = 3\n",
    "for epoch in range(num_epochs):\n",
    "    for X, y in data_iter:\n",
    "        l = loss(net(X) ,y)\n",
    "        trainer.zero_grad()\n",
    "        l.backward()   # 这里pytorch已经做了sum\n",
    "        trainer.step()   # 进行一次模型更新\n",
    "    l = loss(net(features), labels)\n",
    "    print(f'epoch {epoch + 1}, loss {l:f}')"
   ]
  }
 ],
 "metadata": {
  "kernelspec": {
   "display_name": "Python 3 (ipykernel)",
   "language": "python",
   "name": "python3"
  },
  "language_info": {
   "codemirror_mode": {
    "name": "ipython",
    "version": 3
   },
   "file_extension": ".py",
   "mimetype": "text/x-python",
   "name": "python",
   "nbconvert_exporter": "python",
   "pygments_lexer": "ipython3",
   "version": "3.7.11"
  }
 },
 "nbformat": 4,
 "nbformat_minor": 5
}
